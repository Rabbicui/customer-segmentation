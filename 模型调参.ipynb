{
 "cells": [
  {
   "cell_type": "markdown",
   "metadata": {
    "papermill": {
     "duration": 0.022611,
     "end_time": "2020-08-28T13:14:47.122136",
     "exception": false,
     "start_time": "2020-08-28T13:14:47.099525",
     "status": "completed"
    },
    "tags": []
   },
   "source": [
    "# 爽了，这里全靠定义函数，可以直接拿过来使用了\n",
    "### DATASET can be downloaded here -> https://www.kaggle.com/vetrirah/customer"
   ]
  },
  {
   "cell_type": "markdown",
   "metadata": {
    "_cell_guid": "79c7e3d0-c299-4dcb-8224-4455121ee9b0",
    "_uuid": "d629ff2d2480ee46fbb7e2d37f6b5fab8052498a",
    "collapsed": true,
    "papermill": {
     "duration": 0.019054,
     "end_time": "2020-08-28T13:14:47.162153",
     "exception": false,
     "start_time": "2020-08-28T13:14:47.143099",
     "status": "completed"
    },
    "tags": []
   },
   "source": [
    "\n",
    "1. 了解问题陈述和导入包和数据集。\n",
    "\n",
    "2. 执行 EDA（探索性数据分析） - 了解数据集：\n",
    "    *  探索训练和测试数据并了解每列/特征表示的内容。\n",
    "    *  检查数据集中目标列的不平衡。\n",
    "    *  可视化计数图和唯一值以从数据集推断。\n",
    "\n",
    "3. 如果存在，从训练数据中删除重复行。\n",
    "\n",
    "4. 填充/估算缺失值连续 - 平均值/中值/任何特定值和分类 - 其他/前向填充/后向填充。\n",
    "\n",
    "5. 特征工程\n",
    "    * 特征选择 - 选择最重要的现有特征。\n",
    "    * 特征创建 - 从现有特征创建新特征。\n",
    "    * 使用预测器（独立）和目标（相关）将训练数据拆分为训练和验证数据。\n",
    "\n",
    "6. 数据编码 - 标签编码、OneHot 编码和数据缩放 - MinMaxScaler、StandardScaler、RobustScaler\n",
    "\n",
    "7. 为多类分类问题创建基线 ML 模型\n",
    "\n",
    "8. 改进 ML 模型，使用 MODEL Evaluation METRIC - “Accuracy” 进行微调并预测 Traget “Outcome”\n"
   ]
  },
  {
   "cell_type": "markdown",
   "metadata": {
    "papermill": {
     "duration": 0.020062,
     "end_time": "2020-08-28T13:14:47.203050",
     "exception": false,
     "start_time": "2020-08-28T13:14:47.182988",
     "status": "completed"
    },
    "tags": []
   },
   "source": [
    "## 1.  Understand the Problem Statement & Import Packages and Datasets :"
   ]
  },
  {
   "cell_type": "code",
   "execution_count": 1,
   "metadata": {
    "execution": {
     "iopub.execute_input": "2020-08-28T13:14:47.293064Z",
     "iopub.status.busy": "2020-08-28T13:14:47.292323Z",
     "iopub.status.idle": "2020-08-28T13:14:49.418660Z",
     "shell.execute_reply": "2020-08-28T13:14:49.417844Z"
    },
    "papermill": {
     "duration": 2.156031,
     "end_time": "2020-08-28T13:14:49.418786",
     "exception": false,
     "start_time": "2020-08-28T13:14:47.262755",
     "status": "completed"
    },
    "tags": []
   },
   "outputs": [],
   "source": [
    "# Import Required Python Packages :\n",
    "\n",
    "# Scientific and Data Manipulation Libraries :\n",
    "\n",
    "import numpy as np\n",
    "import pandas as pd\n",
    "\n",
    "# Data Viz & Regular Expression Libraries :\n",
    "\n",
    "import matplotlib.pyplot as plt\n",
    "get_ipython().run_line_magic('matplotlib', 'inline')\n",
    "\n",
    "# Scikit-Learn ML Libraries :\n",
    "\n",
    "from sklearn.preprocessing import *\n",
    "from sklearn.model_selection import *\n",
    "from sklearn.metrics import *\n",
    "\n",
    "# Garbage Collection Libraries :\n",
    "\n",
    "import gc\n",
    "\n",
    "# Boosting Algorithm Libraries :\n",
    "\n",
    "from xgboost                          import XGBClassifier\n",
    "from catboost                         import CatBoostClassifier\n",
    "from lightgbm                         import LGBMClassifier\n",
    "from sklearn.ensemble                 import RandomForestClassifier, VotingClassifier\n",
    "from sklearn.metrics                  import accuracy_score\n",
    "from sklearn.model_selection          import StratifiedKFold,KFold"
   ]
  },
  {
   "cell_type": "code",
   "execution_count": 2,
   "metadata": {
    "_cell_guid": "b1076dfc-b9ad-4769-8c92-a6c4dae69d19",
    "_uuid": "8f2839f25d086af736a60e9eeb907d3b93b6e0e5",
    "execution": {
     "iopub.execute_input": "2020-08-28T13:14:49.465843Z",
     "iopub.status.busy": "2020-08-28T13:14:49.465127Z",
     "iopub.status.idle": "2020-08-28T13:14:49.472428Z",
     "shell.execute_reply": "2020-08-28T13:14:49.471895Z"
    },
    "papermill": {
     "duration": 0.031536,
     "end_time": "2020-08-28T13:14:49.472524",
     "exception": false,
     "start_time": "2020-08-28T13:14:49.440988",
     "status": "completed"
    },
    "tags": []
   },
   "outputs": [
    {
     "name": "stdout",
     "output_type": "stream",
     "text": [
      "/kaggle/input/customer/Test.csv\n",
      "/kaggle/input/customer/Train.csv\n",
      "/kaggle/input/customer/sample_submission.csv\n"
     ]
    }
   ],
   "source": [
    "# Input data files are available in the read-only \"../input/\" directory\n",
    "# For example, running this (by clicking run or pressing Shift+Enter) will list all files under the input directory\n",
    "\n",
    "import os\n",
    "for dirname, _, filenames in os.walk('/kaggle/input'):\n",
    "    for filename in filenames:\n",
    "        print(os.path.join(dirname, filename))"
   ]
  },
  {
   "cell_type": "code",
   "execution_count": 98,
   "metadata": {
    "execution": {
     "iopub.execute_input": "2020-08-28T13:14:49.520347Z",
     "iopub.status.busy": "2020-08-28T13:14:49.519315Z",
     "iopub.status.idle": "2020-08-28T13:14:49.560443Z",
     "shell.execute_reply": "2020-08-28T13:14:49.559915Z"
    },
    "papermill": {
     "duration": 0.068466,
     "end_time": "2020-08-28T13:14:49.560544",
     "exception": false,
     "start_time": "2020-08-28T13:14:49.492078",
     "status": "completed"
    },
    "tags": []
   },
   "outputs": [
    {
     "name": "stdout",
     "output_type": "stream",
     "text": [
      "Index(['ID', 'Gender', 'Ever_Married', 'Age', 'Graduated', 'Profession',\n",
      "       'Work_Experience', 'Spending_Score', 'Family_Size', 'Var_1',\n",
      "       'Segmentation'],\n",
      "      dtype='object')\n",
      "(8068, 11)\n",
      "(2627, 10)\n"
     ]
    }
   ],
   "source": [
    "# Load data \n",
    "\n",
    "train = pd.read_csv('Train.csv')\n",
    "test = pd.read_csv('Test.csv')\n",
    "sub = pd.read_csv('sample_submission.csv')\n",
    "print(train.columns)\n",
    "print(train.shape)\n",
    "print(test.shape)"
   ]
  },
  {
   "cell_type": "markdown",
   "metadata": {
    "papermill": {
     "duration": 0.019841,
     "end_time": "2020-08-28T13:14:49.600659",
     "exception": false,
     "start_time": "2020-08-28T13:14:49.580818",
     "status": "completed"
    },
    "tags": []
   },
   "source": [
    "## 2. Perform EDA (Exploratory Data Analysis) - Understanding the Datasets :    \n",
    "\n",
    "### 2.1 Explore Train and Test Data and get to know what each Column / Feature denotes :"
   ]
  },
  {
   "cell_type": "code",
   "execution_count": 3,
   "metadata": {
    "execution": {
     "iopub.execute_input": "2020-08-28T13:14:49.650573Z",
     "iopub.status.busy": "2020-08-28T13:14:49.649663Z",
     "iopub.status.idle": "2020-08-28T13:14:49.697265Z",
     "shell.execute_reply": "2020-08-28T13:14:49.696718Z"
    },
    "papermill": {
     "duration": 0.07668,
     "end_time": "2020-08-28T13:14:49.697380",
     "exception": false,
     "start_time": "2020-08-28T13:14:49.620700",
     "status": "completed"
    },
    "tags": []
   },
   "outputs": [
    {
     "name": "stdout",
     "output_type": "stream",
     "text": [
      " Information of  train : Rows =  8068 | Columns =  11 \n",
      "\n",
      "<class 'pandas.core.frame.DataFrame'>\n",
      "RangeIndex: 8068 entries, 0 to 8067\n",
      "Data columns (total 11 columns):\n",
      " #   Column           Non-Null Count  Dtype  \n",
      "---  ------           --------------  -----  \n",
      " 0   ID               8068 non-null   int64  \n",
      " 1   Gender           8068 non-null   object \n",
      " 2   Ever_Married     7928 non-null   object \n",
      " 3   Age              8068 non-null   int64  \n",
      " 4   Graduated        7990 non-null   object \n",
      " 5   Profession       7944 non-null   object \n",
      " 6   Work_Experience  7239 non-null   float64\n",
      " 7   Spending_Score   8068 non-null   object \n",
      " 8   Family_Size      7733 non-null   float64\n",
      " 9   Var_1            7992 non-null   object \n",
      " 10  Segmentation     8068 non-null   object \n",
      "dtypes: float64(2), int64(2), object(7)\n",
      "memory usage: 693.5+ KB\n",
      "\n",
      "\n",
      "2 float64 Features\n",
      "Work_Experience    float64\n",
      "Family_Size        float64\n",
      "dtype: object\n",
      "\n",
      "2 int64 Features\n",
      "ID     int64\n",
      "Age    int64\n",
      "dtype: object\n",
      "\n",
      "7 object Features\n",
      "Gender            object\n",
      "Ever_Married      object\n",
      "Graduated         object\n",
      "Profession        object\n",
      "Spending_Score    object\n",
      "Var_1             object\n",
      "Segmentation      object\n",
      "dtype: object\n",
      "\n"
     ]
    }
   ],
   "source": [
    "# Python Method 1 : Displays Data Information :\n",
    "\n",
    "def display_data_information(data, data_types, dataframe_name):\n",
    "    print(\" Information of \",dataframe_name,\": Rows = \",data.shape[0],\"| Columns = \",data.shape[1],\"\\n\")\n",
    "    data.info()\n",
    "    print(\"\\n\")\n",
    "    for VARIABLE in data_types :\n",
    "        data_type = data.select_dtypes(include=[ VARIABLE ]).dtypes\n",
    "        if len(data_type) > 0 :\n",
    "            print(str(len(data_type))+\" \"+VARIABLE+\" Features\\n\"+str(data_type)+\"\\n\"  )        \n",
    "\n",
    "# Display Data Information of \"train\" :\n",
    "\n",
    "data_types  = [\"float32\",\"float64\",\"int32\",\"int64\",\"object\",\"category\",\"datetime64[ns]\"]\n",
    "display_data_information(train, data_types, \"train\")"
   ]
  },
  {
   "cell_type": "code",
   "execution_count": 4,
   "metadata": {
    "execution": {
     "iopub.execute_input": "2020-08-28T13:14:49.742419Z",
     "iopub.status.busy": "2020-08-28T13:14:49.741495Z",
     "iopub.status.idle": "2020-08-28T13:14:49.768982Z",
     "shell.execute_reply": "2020-08-28T13:14:49.768385Z"
    },
    "papermill": {
     "duration": 0.051404,
     "end_time": "2020-08-28T13:14:49.769089",
     "exception": false,
     "start_time": "2020-08-28T13:14:49.717685",
     "status": "completed"
    },
    "tags": []
   },
   "outputs": [
    {
     "name": "stdout",
     "output_type": "stream",
     "text": [
      " Information of  test : Rows =  2627 | Columns =  10 \n",
      "\n",
      "<class 'pandas.core.frame.DataFrame'>\n",
      "RangeIndex: 2627 entries, 0 to 2626\n",
      "Data columns (total 10 columns):\n",
      " #   Column           Non-Null Count  Dtype  \n",
      "---  ------           --------------  -----  \n",
      " 0   ID               2627 non-null   int64  \n",
      " 1   Gender           2627 non-null   object \n",
      " 2   Ever_Married     2577 non-null   object \n",
      " 3   Age              2627 non-null   int64  \n",
      " 4   Graduated        2603 non-null   object \n",
      " 5   Profession       2589 non-null   object \n",
      " 6   Work_Experience  2358 non-null   float64\n",
      " 7   Spending_Score   2627 non-null   object \n",
      " 8   Family_Size      2514 non-null   float64\n",
      " 9   Var_1            2595 non-null   object \n",
      "dtypes: float64(2), int64(2), object(6)\n",
      "memory usage: 205.4+ KB\n",
      "\n",
      "\n",
      "2 float64 Features\n",
      "Work_Experience    float64\n",
      "Family_Size        float64\n",
      "dtype: object\n",
      "\n",
      "2 int64 Features\n",
      "ID     int64\n",
      "Age    int64\n",
      "dtype: object\n",
      "\n",
      "6 object Features\n",
      "Gender            object\n",
      "Ever_Married      object\n",
      "Graduated         object\n",
      "Profession        object\n",
      "Spending_Score    object\n",
      "Var_1             object\n",
      "dtype: object\n",
      "\n"
     ]
    }
   ],
   "source": [
    "# Display Data Information of \"test\" :\n",
    "\n",
    "display_data_information(test, data_types, \"test\")"
   ]
  },
  {
   "cell_type": "code",
   "execution_count": 5,
   "metadata": {
    "execution": {
     "iopub.execute_input": "2020-08-28T13:14:49.820514Z",
     "iopub.status.busy": "2020-08-28T13:14:49.819585Z",
     "iopub.status.idle": "2020-08-28T13:14:49.845742Z",
     "shell.execute_reply": "2020-08-28T13:14:49.845126Z"
    },
    "papermill": {
     "duration": 0.055313,
     "end_time": "2020-08-28T13:14:49.845859",
     "exception": false,
     "start_time": "2020-08-28T13:14:49.790546",
     "status": "completed"
    },
    "tags": []
   },
   "outputs": [
    {
     "data": {
      "text/plain": [
       "'Data Head & Tail :'"
      ]
     },
     "metadata": {},
     "output_type": "display_data"
    },
    {
     "data": {
      "text/html": [
       "<div>\n",
       "<style scoped>\n",
       "    .dataframe tbody tr th:only-of-type {\n",
       "        vertical-align: middle;\n",
       "    }\n",
       "\n",
       "    .dataframe tbody tr th {\n",
       "        vertical-align: top;\n",
       "    }\n",
       "\n",
       "    .dataframe thead th {\n",
       "        text-align: right;\n",
       "    }\n",
       "</style>\n",
       "<table border=\"1\" class=\"dataframe\">\n",
       "  <thead>\n",
       "    <tr style=\"text-align: right;\">\n",
       "      <th></th>\n",
       "      <th>ID</th>\n",
       "      <th>Gender</th>\n",
       "      <th>Ever_Married</th>\n",
       "      <th>Age</th>\n",
       "      <th>Graduated</th>\n",
       "      <th>Profession</th>\n",
       "      <th>Work_Experience</th>\n",
       "      <th>Spending_Score</th>\n",
       "      <th>Family_Size</th>\n",
       "      <th>Var_1</th>\n",
       "      <th>Segmentation</th>\n",
       "    </tr>\n",
       "  </thead>\n",
       "  <tbody>\n",
       "    <tr>\n",
       "      <th>0</th>\n",
       "      <td>462809</td>\n",
       "      <td>Male</td>\n",
       "      <td>No</td>\n",
       "      <td>22</td>\n",
       "      <td>No</td>\n",
       "      <td>Healthcare</td>\n",
       "      <td>1.0</td>\n",
       "      <td>Low</td>\n",
       "      <td>4.0</td>\n",
       "      <td>Cat_4</td>\n",
       "      <td>D</td>\n",
       "    </tr>\n",
       "    <tr>\n",
       "      <th>1</th>\n",
       "      <td>462643</td>\n",
       "      <td>Female</td>\n",
       "      <td>Yes</td>\n",
       "      <td>38</td>\n",
       "      <td>Yes</td>\n",
       "      <td>Engineer</td>\n",
       "      <td>NaN</td>\n",
       "      <td>Average</td>\n",
       "      <td>3.0</td>\n",
       "      <td>Cat_4</td>\n",
       "      <td>A</td>\n",
       "    </tr>\n",
       "    <tr>\n",
       "      <th>2</th>\n",
       "      <td>466315</td>\n",
       "      <td>Female</td>\n",
       "      <td>Yes</td>\n",
       "      <td>67</td>\n",
       "      <td>Yes</td>\n",
       "      <td>Engineer</td>\n",
       "      <td>1.0</td>\n",
       "      <td>Low</td>\n",
       "      <td>1.0</td>\n",
       "      <td>Cat_6</td>\n",
       "      <td>B</td>\n",
       "    </tr>\n",
       "    <tr>\n",
       "      <th>8066</th>\n",
       "      <td>467299</td>\n",
       "      <td>Female</td>\n",
       "      <td>No</td>\n",
       "      <td>27</td>\n",
       "      <td>Yes</td>\n",
       "      <td>Healthcare</td>\n",
       "      <td>1.0</td>\n",
       "      <td>Low</td>\n",
       "      <td>4.0</td>\n",
       "      <td>Cat_6</td>\n",
       "      <td>B</td>\n",
       "    </tr>\n",
       "    <tr>\n",
       "      <th>8067</th>\n",
       "      <td>461879</td>\n",
       "      <td>Male</td>\n",
       "      <td>Yes</td>\n",
       "      <td>37</td>\n",
       "      <td>Yes</td>\n",
       "      <td>Executive</td>\n",
       "      <td>0.0</td>\n",
       "      <td>Average</td>\n",
       "      <td>3.0</td>\n",
       "      <td>Cat_4</td>\n",
       "      <td>B</td>\n",
       "    </tr>\n",
       "  </tbody>\n",
       "</table>\n",
       "</div>"
      ],
      "text/plain": [
       "          ID  Gender Ever_Married  Age Graduated  Profession  Work_Experience  \\\n",
       "0     462809    Male           No   22        No  Healthcare              1.0   \n",
       "1     462643  Female          Yes   38       Yes    Engineer              NaN   \n",
       "2     466315  Female          Yes   67       Yes    Engineer              1.0   \n",
       "8066  467299  Female           No   27       Yes  Healthcare              1.0   \n",
       "8067  461879    Male          Yes   37       Yes   Executive              0.0   \n",
       "\n",
       "     Spending_Score  Family_Size  Var_1 Segmentation  \n",
       "0               Low          4.0  Cat_4            D  \n",
       "1           Average          3.0  Cat_4            A  \n",
       "2               Low          1.0  Cat_6            B  \n",
       "8066            Low          4.0  Cat_6            B  \n",
       "8067        Average          3.0  Cat_4            B  "
      ]
     },
     "metadata": {},
     "output_type": "display_data"
    }
   ],
   "source": [
    "# Python Method 2 : Displays Data Head (Top Rows) and Tail (Bottom Rows) of the Dataframe (Table) :\n",
    "\n",
    "def display_head_tail(data, head_rows, tail_rows):\n",
    "    display(\"Data Head & Tail :\")\n",
    "    display(data.head(head_rows).append(data.tail(tail_rows)))\n",
    "#     return True\n",
    "\n",
    "# Displays Data Head (Top Rows) and Tail (Bottom Rows) of the Dataframe (Table)\n",
    "# Pass Dataframe as \"train\", No. of Rows in Head = 3 and No. of Rows in Tail = 2 :\n",
    "\n",
    "display_head_tail(train, head_rows=3, tail_rows=2)"
   ]
  },
  {
   "cell_type": "code",
   "execution_count": 6,
   "metadata": {
    "execution": {
     "iopub.execute_input": "2020-08-28T13:14:49.893222Z",
     "iopub.status.busy": "2020-08-28T13:14:49.892087Z",
     "iopub.status.idle": "2020-08-28T13:14:49.912507Z",
     "shell.execute_reply": "2020-08-28T13:14:49.913224Z"
    },
    "papermill": {
     "duration": 0.04596,
     "end_time": "2020-08-28T13:14:49.913351",
     "exception": false,
     "start_time": "2020-08-28T13:14:49.867391",
     "status": "completed"
    },
    "tags": []
   },
   "outputs": [
    {
     "data": {
      "text/plain": [
       "'Data Head & Tail :'"
      ]
     },
     "metadata": {},
     "output_type": "display_data"
    },
    {
     "data": {
      "text/html": [
       "<div>\n",
       "<style scoped>\n",
       "    .dataframe tbody tr th:only-of-type {\n",
       "        vertical-align: middle;\n",
       "    }\n",
       "\n",
       "    .dataframe tbody tr th {\n",
       "        vertical-align: top;\n",
       "    }\n",
       "\n",
       "    .dataframe thead th {\n",
       "        text-align: right;\n",
       "    }\n",
       "</style>\n",
       "<table border=\"1\" class=\"dataframe\">\n",
       "  <thead>\n",
       "    <tr style=\"text-align: right;\">\n",
       "      <th></th>\n",
       "      <th>ID</th>\n",
       "      <th>Gender</th>\n",
       "      <th>Ever_Married</th>\n",
       "      <th>Age</th>\n",
       "      <th>Graduated</th>\n",
       "      <th>Profession</th>\n",
       "      <th>Work_Experience</th>\n",
       "      <th>Spending_Score</th>\n",
       "      <th>Family_Size</th>\n",
       "      <th>Var_1</th>\n",
       "    </tr>\n",
       "  </thead>\n",
       "  <tbody>\n",
       "    <tr>\n",
       "      <th>0</th>\n",
       "      <td>458989</td>\n",
       "      <td>Female</td>\n",
       "      <td>Yes</td>\n",
       "      <td>36</td>\n",
       "      <td>Yes</td>\n",
       "      <td>Engineer</td>\n",
       "      <td>0.0</td>\n",
       "      <td>Low</td>\n",
       "      <td>1.0</td>\n",
       "      <td>Cat_6</td>\n",
       "    </tr>\n",
       "    <tr>\n",
       "      <th>1</th>\n",
       "      <td>458994</td>\n",
       "      <td>Male</td>\n",
       "      <td>Yes</td>\n",
       "      <td>37</td>\n",
       "      <td>Yes</td>\n",
       "      <td>Healthcare</td>\n",
       "      <td>8.0</td>\n",
       "      <td>Average</td>\n",
       "      <td>4.0</td>\n",
       "      <td>Cat_6</td>\n",
       "    </tr>\n",
       "    <tr>\n",
       "      <th>2</th>\n",
       "      <td>458996</td>\n",
       "      <td>Female</td>\n",
       "      <td>Yes</td>\n",
       "      <td>69</td>\n",
       "      <td>No</td>\n",
       "      <td>NaN</td>\n",
       "      <td>0.0</td>\n",
       "      <td>Low</td>\n",
       "      <td>1.0</td>\n",
       "      <td>Cat_6</td>\n",
       "    </tr>\n",
       "    <tr>\n",
       "      <th>2625</th>\n",
       "      <td>467961</td>\n",
       "      <td>Male</td>\n",
       "      <td>Yes</td>\n",
       "      <td>47</td>\n",
       "      <td>Yes</td>\n",
       "      <td>Executive</td>\n",
       "      <td>1.0</td>\n",
       "      <td>High</td>\n",
       "      <td>5.0</td>\n",
       "      <td>Cat_4</td>\n",
       "    </tr>\n",
       "    <tr>\n",
       "      <th>2626</th>\n",
       "      <td>467968</td>\n",
       "      <td>Female</td>\n",
       "      <td>No</td>\n",
       "      <td>43</td>\n",
       "      <td>Yes</td>\n",
       "      <td>Healthcare</td>\n",
       "      <td>9.0</td>\n",
       "      <td>Low</td>\n",
       "      <td>3.0</td>\n",
       "      <td>Cat_7</td>\n",
       "    </tr>\n",
       "  </tbody>\n",
       "</table>\n",
       "</div>"
      ],
      "text/plain": [
       "          ID  Gender Ever_Married  Age Graduated  Profession  Work_Experience  \\\n",
       "0     458989  Female          Yes   36       Yes    Engineer              0.0   \n",
       "1     458994    Male          Yes   37       Yes  Healthcare              8.0   \n",
       "2     458996  Female          Yes   69        No         NaN              0.0   \n",
       "2625  467961    Male          Yes   47       Yes   Executive              1.0   \n",
       "2626  467968  Female           No   43       Yes  Healthcare              9.0   \n",
       "\n",
       "     Spending_Score  Family_Size  Var_1  \n",
       "0               Low          1.0  Cat_6  \n",
       "1           Average          4.0  Cat_6  \n",
       "2               Low          1.0  Cat_6  \n",
       "2625           High          5.0  Cat_4  \n",
       "2626            Low          3.0  Cat_7  "
      ]
     },
     "metadata": {},
     "output_type": "display_data"
    }
   ],
   "source": [
    "display_head_tail(test, head_rows=3, tail_rows=2)"
   ]
  },
  {
   "cell_type": "code",
   "execution_count": 102,
   "metadata": {
    "execution": {
     "iopub.execute_input": "2020-08-28T13:14:49.970075Z",
     "iopub.status.busy": "2020-08-28T13:14:49.968969Z",
     "iopub.status.idle": "2020-08-28T13:14:50.041122Z",
     "shell.execute_reply": "2020-08-28T13:14:50.041815Z"
    },
    "papermill": {
     "duration": 0.106194,
     "end_time": "2020-08-28T13:14:50.041971",
     "exception": false,
     "start_time": "2020-08-28T13:14:49.935777",
     "status": "completed"
    },
    "tags": []
   },
   "outputs": [
    {
     "name": "stdout",
     "output_type": "stream",
     "text": [
      "Segmentation  Gender\n",
      "A             Female     909\n",
      "              Male      1063\n",
      "B             Female     861\n",
      "              Male       997\n",
      "C             Female     922\n",
      "              Male      1048\n",
      "D             Female     959\n",
      "              Male      1309\n",
      "dtype: int64\n",
      "Segmentation  Ever_Married\n",
      "A             No               801\n",
      "              Yes             1137\n",
      "B             No               479\n",
      "              Yes             1348\n",
      "C             No               398\n",
      "              Yes             1549\n",
      "D             No              1607\n",
      "              Yes              609\n",
      "dtype: int64\n",
      "Segmentation  Graduated\n",
      "A             No            729\n",
      "              Yes          1219\n",
      "B             No            508\n",
      "              Yes          1332\n",
      "C             No            348\n",
      "              Yes          1607\n",
      "D             No           1437\n",
      "              Yes           810\n",
      "dtype: int64\n",
      "Segmentation  Profession   \n",
      "A             Artist            558\n",
      "              Doctor            199\n",
      "              Engineer          259\n",
      "              Entertainment     365\n",
      "              Executive         125\n",
      "              Healthcare        106\n",
      "              Homemaker          73\n",
      "              Lawyer            197\n",
      "              Marketing          57\n",
      "B             Artist            756\n",
      "              Doctor            143\n",
      "              Engineer          189\n",
      "              Entertainment     221\n",
      "              Executive         183\n",
      "              Healthcare        101\n",
      "              Homemaker          55\n",
      "              Lawyer            158\n",
      "              Marketing          30\n",
      "C             Artist           1065\n",
      "              Doctor            140\n",
      "              Engineer           75\n",
      "              Entertainment     148\n",
      "              Executive         175\n",
      "              Healthcare        146\n",
      "              Homemaker          28\n",
      "              Lawyer            140\n",
      "              Marketing          35\n",
      "D             Artist            137\n",
      "              Doctor            206\n",
      "              Engineer          176\n",
      "              Entertainment     215\n",
      "              Executive         116\n",
      "              Healthcare        979\n",
      "              Homemaker          90\n",
      "              Lawyer            128\n",
      "              Marketing         170\n",
      "dtype: int64\n",
      "Segmentation  Spending_Score\n",
      "A             Average            343\n",
      "              High               271\n",
      "              Low               1358\n",
      "B             Average            590\n",
      "              High               384\n",
      "              Low                884\n",
      "C             Average            903\n",
      "              High               405\n",
      "              Low                662\n",
      "D             Average            138\n",
      "              High               156\n",
      "              Low               1974\n",
      "dtype: int64\n"
     ]
    }
   ],
   "source": [
    "# Python Method 3 : Displays Data Description using Statistics :\n",
    "\n",
    "def display_data_description(data, numeric_data_types, categorical_data_types):\n",
    "    \n",
    "    print(\"Data Description :\")\n",
    "    display(data.describe( include = numeric_data_types))\n",
    "    print(\"\")\n",
    "    display(data.describe( include = categorical_data_types))\n",
    "\n",
    "# Display Data Description of \"train\" :\n",
    "\n",
    "#display_data_description(train, data_types[0:4], data_types[4:7])\n",
    "print(train.groupby(['Segmentation','Gender']).size())\n",
    "print(train.groupby(['Segmentation','Ever_Married']).size())\n",
    "print(train.groupby(['Segmentation','Graduated']).size())\n",
    "print(train.groupby(['Segmentation','Profession']).size())\n",
    "print(train.groupby(['Segmentation','Spending_Score']).size())"
   ]
  },
  {
   "cell_type": "code",
   "execution_count": 8,
   "metadata": {
    "execution": {
     "iopub.execute_input": "2020-08-28T13:14:50.095526Z",
     "iopub.status.busy": "2020-08-28T13:14:50.094472Z",
     "iopub.status.idle": "2020-08-28T13:14:50.149534Z",
     "shell.execute_reply": "2020-08-28T13:14:50.150479Z"
    },
    "papermill": {
     "duration": 0.086385,
     "end_time": "2020-08-28T13:14:50.150702",
     "exception": false,
     "start_time": "2020-08-28T13:14:50.064317",
     "status": "completed"
    },
    "tags": []
   },
   "outputs": [
    {
     "name": "stdout",
     "output_type": "stream",
     "text": [
      "Data Description :\n"
     ]
    },
    {
     "data": {
      "text/html": [
       "<div>\n",
       "<style scoped>\n",
       "    .dataframe tbody tr th:only-of-type {\n",
       "        vertical-align: middle;\n",
       "    }\n",
       "\n",
       "    .dataframe tbody tr th {\n",
       "        vertical-align: top;\n",
       "    }\n",
       "\n",
       "    .dataframe thead th {\n",
       "        text-align: right;\n",
       "    }\n",
       "</style>\n",
       "<table border=\"1\" class=\"dataframe\">\n",
       "  <thead>\n",
       "    <tr style=\"text-align: right;\">\n",
       "      <th></th>\n",
       "      <th>ID</th>\n",
       "      <th>Age</th>\n",
       "      <th>Work_Experience</th>\n",
       "      <th>Family_Size</th>\n",
       "    </tr>\n",
       "  </thead>\n",
       "  <tbody>\n",
       "    <tr>\n",
       "      <th>count</th>\n",
       "      <td>2627.000000</td>\n",
       "      <td>2627.000000</td>\n",
       "      <td>2358.000000</td>\n",
       "      <td>2514.000000</td>\n",
       "    </tr>\n",
       "    <tr>\n",
       "      <th>mean</th>\n",
       "      <td>463433.918919</td>\n",
       "      <td>43.649791</td>\n",
       "      <td>2.552587</td>\n",
       "      <td>2.825378</td>\n",
       "    </tr>\n",
       "    <tr>\n",
       "      <th>std</th>\n",
       "      <td>2618.245698</td>\n",
       "      <td>16.967015</td>\n",
       "      <td>3.341094</td>\n",
       "      <td>1.551906</td>\n",
       "    </tr>\n",
       "    <tr>\n",
       "      <th>min</th>\n",
       "      <td>458989.000000</td>\n",
       "      <td>18.000000</td>\n",
       "      <td>0.000000</td>\n",
       "      <td>1.000000</td>\n",
       "    </tr>\n",
       "    <tr>\n",
       "      <th>25%</th>\n",
       "      <td>461162.500000</td>\n",
       "      <td>30.000000</td>\n",
       "      <td>0.000000</td>\n",
       "      <td>2.000000</td>\n",
       "    </tr>\n",
       "    <tr>\n",
       "      <th>50%</th>\n",
       "      <td>463379.000000</td>\n",
       "      <td>41.000000</td>\n",
       "      <td>1.000000</td>\n",
       "      <td>2.000000</td>\n",
       "    </tr>\n",
       "    <tr>\n",
       "      <th>75%</th>\n",
       "      <td>465696.000000</td>\n",
       "      <td>53.000000</td>\n",
       "      <td>4.000000</td>\n",
       "      <td>4.000000</td>\n",
       "    </tr>\n",
       "    <tr>\n",
       "      <th>max</th>\n",
       "      <td>467968.000000</td>\n",
       "      <td>89.000000</td>\n",
       "      <td>14.000000</td>\n",
       "      <td>9.000000</td>\n",
       "    </tr>\n",
       "  </tbody>\n",
       "</table>\n",
       "</div>"
      ],
      "text/plain": [
       "                  ID          Age  Work_Experience  Family_Size\n",
       "count    2627.000000  2627.000000      2358.000000  2514.000000\n",
       "mean   463433.918919    43.649791         2.552587     2.825378\n",
       "std      2618.245698    16.967015         3.341094     1.551906\n",
       "min    458989.000000    18.000000         0.000000     1.000000\n",
       "25%    461162.500000    30.000000         0.000000     2.000000\n",
       "50%    463379.000000    41.000000         1.000000     2.000000\n",
       "75%    465696.000000    53.000000         4.000000     4.000000\n",
       "max    467968.000000    89.000000        14.000000     9.000000"
      ]
     },
     "metadata": {},
     "output_type": "display_data"
    },
    {
     "name": "stdout",
     "output_type": "stream",
     "text": [
      "\n"
     ]
    },
    {
     "data": {
      "text/html": [
       "<div>\n",
       "<style scoped>\n",
       "    .dataframe tbody tr th:only-of-type {\n",
       "        vertical-align: middle;\n",
       "    }\n",
       "\n",
       "    .dataframe tbody tr th {\n",
       "        vertical-align: top;\n",
       "    }\n",
       "\n",
       "    .dataframe thead th {\n",
       "        text-align: right;\n",
       "    }\n",
       "</style>\n",
       "<table border=\"1\" class=\"dataframe\">\n",
       "  <thead>\n",
       "    <tr style=\"text-align: right;\">\n",
       "      <th></th>\n",
       "      <th>Gender</th>\n",
       "      <th>Ever_Married</th>\n",
       "      <th>Graduated</th>\n",
       "      <th>Profession</th>\n",
       "      <th>Spending_Score</th>\n",
       "      <th>Var_1</th>\n",
       "    </tr>\n",
       "  </thead>\n",
       "  <tbody>\n",
       "    <tr>\n",
       "      <th>count</th>\n",
       "      <td>2627</td>\n",
       "      <td>2577</td>\n",
       "      <td>2603</td>\n",
       "      <td>2589</td>\n",
       "      <td>2627</td>\n",
       "      <td>2595</td>\n",
       "    </tr>\n",
       "    <tr>\n",
       "      <th>unique</th>\n",
       "      <td>2</td>\n",
       "      <td>2</td>\n",
       "      <td>2</td>\n",
       "      <td>9</td>\n",
       "      <td>3</td>\n",
       "      <td>7</td>\n",
       "    </tr>\n",
       "    <tr>\n",
       "      <th>top</th>\n",
       "      <td>Male</td>\n",
       "      <td>Yes</td>\n",
       "      <td>Yes</td>\n",
       "      <td>Artist</td>\n",
       "      <td>Low</td>\n",
       "      <td>Cat_6</td>\n",
       "    </tr>\n",
       "    <tr>\n",
       "      <th>freq</th>\n",
       "      <td>1424</td>\n",
       "      <td>1520</td>\n",
       "      <td>1602</td>\n",
       "      <td>802</td>\n",
       "      <td>1616</td>\n",
       "      <td>1672</td>\n",
       "    </tr>\n",
       "  </tbody>\n",
       "</table>\n",
       "</div>"
      ],
      "text/plain": [
       "       Gender Ever_Married Graduated Profession Spending_Score  Var_1\n",
       "count    2627         2577      2603       2589           2627   2595\n",
       "unique      2            2         2          9              3      7\n",
       "top      Male          Yes       Yes     Artist            Low  Cat_6\n",
       "freq     1424         1520      1602        802           1616   1672"
      ]
     },
     "metadata": {},
     "output_type": "display_data"
    }
   ],
   "source": [
    "# Display Data Description of \"test\" :\n",
    "\n",
    "display_data_description(test, data_types[0:4], data_types[4:7])"
   ]
  },
  {
   "cell_type": "code",
   "execution_count": 9,
   "metadata": {
    "execution": {
     "iopub.execute_input": "2020-08-28T13:14:50.204188Z",
     "iopub.status.busy": "2020-08-28T13:14:50.203225Z",
     "iopub.status.idle": "2020-08-28T13:14:50.214846Z",
     "shell.execute_reply": "2020-08-28T13:14:50.214150Z"
    },
    "papermill": {
     "duration": 0.040677,
     "end_time": "2020-08-28T13:14:50.214996",
     "exception": false,
     "start_time": "2020-08-28T13:14:50.174319",
     "status": "completed"
    },
    "tags": []
   },
   "outputs": [
    {
     "name": "stdout",
     "output_type": "stream",
     "text": [
      "0.2890431333663857\n",
      "Common IDs :  2332\n",
      "Unique IDs :  295\n"
     ]
    }
   ],
   "source": [
    "# Checking Percentage(%) of Common ID's  between train and test data using Unique train values :\n",
    "\n",
    "print(np.intersect1d(train['ID'], test['ID']).shape[0]/train['ID'].nunique())\n",
    "common_ids = len(set(test['ID'].unique()).intersection(set(train['ID'].unique())))\n",
    "print(\"Common IDs : \",common_ids)\n",
    "\n",
    "# Data Leak as out of 2627 Rows , there are 2332 ID's in Common；所以说测试集直接从给定的训练集中划分\n",
    "\n",
    "print(\"Unique IDs : \",test.shape[0] - common_ids)"
   ]
  },
  {
   "cell_type": "code",
   "execution_count": 10,
   "metadata": {
    "execution": {
     "iopub.execute_input": "2020-08-28T13:14:50.265718Z",
     "iopub.status.busy": "2020-08-28T13:14:50.264749Z",
     "iopub.status.idle": "2020-08-28T13:14:50.285772Z",
     "shell.execute_reply": "2020-08-28T13:14:50.285286Z"
    },
    "papermill": {
     "duration": 0.047314,
     "end_time": "2020-08-28T13:14:50.285873",
     "exception": false,
     "start_time": "2020-08-28T13:14:50.238559",
     "status": "completed"
    },
    "tags": []
   },
   "outputs": [],
   "source": [
    "testx = pd.merge(test,train,how='left', on = 'ID')"
   ]
  },
  {
   "cell_type": "markdown",
   "metadata": {
    "papermill": {
     "duration": 0.022569,
     "end_time": "2020-08-28T13:14:50.333177",
     "exception": false,
     "start_time": "2020-08-28T13:14:50.310608",
     "status": "completed"
    },
    "tags": []
   },
   "source": [
    "## 3.  Remove Duplicate Rows from Train data if present :"
   ]
  },
  {
   "cell_type": "code",
   "execution_count": 11,
   "metadata": {
    "execution": {
     "iopub.execute_input": "2020-08-28T13:14:50.384851Z",
     "iopub.status.busy": "2020-08-28T13:14:50.383931Z",
     "iopub.status.idle": "2020-08-28T13:14:50.400197Z",
     "shell.execute_reply": "2020-08-28T13:14:50.401124Z"
    },
    "papermill": {
     "duration": 0.045916,
     "end_time": "2020-08-28T13:14:50.401301",
     "exception": false,
     "start_time": "2020-08-28T13:14:50.355385",
     "status": "completed"
    },
    "tags": []
   },
   "outputs": [
    {
     "name": "stdout",
     "output_type": "stream",
     "text": [
      "BEFORE REMOVING DUPLICATES - No. of Rows =  8068\n",
      "AFTER REMOVING DUPLICATES  - No. of Rows =  8068\n"
     ]
    }
   ],
   "source": [
    "# Python Method 4 : Removes Data Duplicates while Retaining the First one - Similar to SQL DISTINCT :\n",
    "\n",
    "def remove_duplicate(data):\n",
    "    \n",
    "    print(\"BEFORE REMOVING DUPLICATES - No. of Rows = \",data.shape[0])\n",
    "    data.drop_duplicates(keep=\"first\", inplace=True) \n",
    "    print(\"AFTER REMOVING DUPLICATES  - No. of Rows = \",data.shape[0])\n",
    "    \n",
    "    return data\n",
    "\n",
    "# Remove Duplicates from \"train\" data :\n",
    "\n",
    "train = remove_duplicate(train)\n",
    "\n",
    "# No Duplicates at all !!!"
   ]
  },
  {
   "cell_type": "markdown",
   "metadata": {
    "papermill": {
     "duration": 0.021756,
     "end_time": "2020-08-28T13:14:50.446106",
     "exception": false,
     "start_time": "2020-08-28T13:14:50.424350",
     "status": "completed"
    },
    "tags": []
   },
   "source": [
    "## 4.  Fill/Impute Missing Values Continuous - Mean/Median/Any Specific Value & Categorical - Others/ForwardFill/BackFill :"
   ]
  },
  {
   "cell_type": "code",
   "execution_count": 13,
   "metadata": {
    "execution": {
     "iopub.execute_input": "2020-08-28T13:14:50.549252Z",
     "iopub.status.busy": "2020-08-28T13:14:50.548435Z",
     "iopub.status.idle": "2020-08-28T13:14:50.550979Z",
     "shell.execute_reply": "2020-08-28T13:14:50.551613Z"
    },
    "papermill": {
     "duration": 0.029585,
     "end_time": "2020-08-28T13:14:50.551755",
     "exception": false,
     "start_time": "2020-08-28T13:14:50.522170",
     "status": "completed"
    },
    "tags": []
   },
   "outputs": [],
   "source": [
    "# Let LightGBM Classifier Handle the Issues :"
   ]
  },
  {
   "cell_type": "code",
   "execution_count": 14,
   "metadata": {
    "execution": {
     "iopub.execute_input": "2020-08-28T13:14:50.606519Z",
     "iopub.status.busy": "2020-08-28T13:14:50.605540Z",
     "iopub.status.idle": "2020-08-28T13:14:50.742959Z",
     "shell.execute_reply": "2020-08-28T13:14:50.742363Z"
    },
    "papermill": {
     "duration": 0.169177,
     "end_time": "2020-08-28T13:14:50.743093",
     "exception": false,
     "start_time": "2020-08-28T13:14:50.573916",
     "status": "completed"
    },
    "tags": []
   },
   "outputs": [
    {
     "name": "stdout",
     "output_type": "stream",
     "text": [
      "No of Unique Values in ID Column are : 8068\n",
      "Actual Unique Values in ID Column are : [458982 458983 458984 ... 467972 467973 467974]\n",
      "NULL Values :\n",
      "0\n",
      "Value Counts :\n",
      "460799    1\n",
      "466217    1\n",
      "460042    1\n",
      "462091    1\n",
      "464144    1\n",
      "         ..\n",
      "463511    1\n",
      "467609    1\n",
      "461468    1\n",
      "459421    1\n",
      "460801    1\n",
      "Name: ID, Length: 8068, dtype: int64\n",
      "\n",
      "No of Unique Values in Gender Column are : 2\n",
      "Actual Unique Values in Gender Column are : ['Female' 'Male']\n",
      "NULL Values :\n",
      "0\n",
      "Value Counts :\n",
      "Male      4417\n",
      "Female    3651\n",
      "Name: Gender, dtype: int64\n",
      "\n",
      "No of Unique Values in Ever_Married Column are : 2\n",
      "Actual Unique Values in Ever_Married Column are : ['No' 'Yes' nan]\n",
      "NULL Values :\n",
      "140\n",
      "Value Counts :\n",
      "Yes    4643\n",
      "No     3285\n",
      "Name: Ever_Married, dtype: int64\n",
      "\n",
      "No of Unique Values in Age Column are : 67\n",
      "Actual Unique Values in Age Column are : [18 19 20 21 22 23 25 26 27 28 29 30 31 32 33 35 36 37 38 39 40 41 42 43\n",
      " 45 46 47 48 49 50 51 52 53 55 56 57 58 59 60 61 62 63 65 66 67 68 69 70\n",
      " 71 72 73 74 75 76 77 78 79 80 81 82 83 84 85 86 87 88 89]\n",
      "NULL Values :\n",
      "0\n",
      "Value Counts :\n",
      "35    250\n",
      "37    234\n",
      "33    232\n",
      "42    232\n",
      "27    229\n",
      "     ... \n",
      "78     29\n",
      "87     28\n",
      "76     27\n",
      "80     24\n",
      "85     22\n",
      "Name: Age, Length: 67, dtype: int64\n",
      "\n",
      "No of Unique Values in Graduated Column are : 2\n",
      "Actual Unique Values in Graduated Column are : ['No' 'Yes' nan]\n",
      "NULL Values :\n",
      "78\n",
      "Value Counts :\n",
      "Yes    4968\n",
      "No     3022\n",
      "Name: Graduated, dtype: int64\n",
      "\n",
      "No of Unique Values in Profession Column are : 9\n",
      "Actual Unique Values in Profession Column are : ['Artist' 'Doctor' 'Engineer' 'Entertainment' 'Executive' 'Healthcare'\n",
      " 'Homemaker' 'Lawyer' 'Marketing' nan]\n",
      "NULL Values :\n",
      "124\n",
      "Value Counts :\n",
      "Artist           2516\n",
      "Healthcare       1332\n",
      "Entertainment     949\n",
      "Engineer          699\n",
      "Doctor            688\n",
      "Lawyer            623\n",
      "Executive         599\n",
      "Marketing         292\n",
      "Homemaker         246\n",
      "Name: Profession, dtype: int64\n",
      "\n",
      "No of Unique Values in Work_Experience Column are : 15\n",
      "Actual Unique Values in Work_Experience Column are : [ 0.  1.  2.  3.  4.  5.  6.  7.  8.  9. 10. 11. 12. 13. 14. nan]\n",
      "NULL Values :\n",
      "829\n",
      "Value Counts :\n",
      "1.0     2354\n",
      "0.0     2318\n",
      "9.0      474\n",
      "8.0      463\n",
      "2.0      286\n",
      "3.0      255\n",
      "4.0      253\n",
      "6.0      204\n",
      "7.0      196\n",
      "5.0      194\n",
      "10.0      53\n",
      "11.0      50\n",
      "12.0      48\n",
      "13.0      46\n",
      "14.0      45\n",
      "Name: Work_Experience, dtype: int64\n",
      "\n",
      "No of Unique Values in Spending_Score Column are : 3\n",
      "Actual Unique Values in Spending_Score Column are : ['Average' 'High' 'Low']\n",
      "NULL Values :\n",
      "0\n",
      "Value Counts :\n",
      "Low        4878\n",
      "Average    1974\n",
      "High       1216\n",
      "Name: Spending_Score, dtype: int64\n",
      "\n",
      "No of Unique Values in Family_Size Column are : 9\n",
      "Actual Unique Values in Family_Size Column are : [ 1.  2.  3.  4.  5.  6.  7.  8.  9. nan]\n",
      "NULL Values :\n",
      "335\n",
      "Value Counts :\n",
      "2.0    2390\n",
      "3.0    1497\n",
      "1.0    1453\n",
      "4.0    1379\n",
      "5.0     612\n",
      "6.0     212\n",
      "7.0      96\n",
      "8.0      50\n",
      "9.0      44\n",
      "Name: Family_Size, dtype: int64\n",
      "\n",
      "No of Unique Values in Var_1 Column are : 7\n",
      "Actual Unique Values in Var_1 Column are : ['Cat_1' 'Cat_2' 'Cat_3' 'Cat_4' 'Cat_5' 'Cat_6' 'Cat_7' nan]\n",
      "NULL Values :\n",
      "76\n",
      "Value Counts :\n",
      "Cat_6    5238\n",
      "Cat_4    1089\n",
      "Cat_3     822\n",
      "Cat_2     422\n",
      "Cat_7     203\n",
      "Cat_1     133\n",
      "Cat_5      85\n",
      "Name: Var_1, dtype: int64\n",
      "\n",
      "No of Unique Values in Segmentation Column are : 4\n",
      "Actual Unique Values in Segmentation Column are : ['A' 'B' 'C' 'D']\n",
      "NULL Values :\n",
      "0\n",
      "Value Counts :\n",
      "D    2268\n",
      "A    1972\n",
      "C    1970\n",
      "B    1858\n",
      "Name: Segmentation, dtype: int64\n",
      "\n"
     ]
    }
   ],
   "source": [
    "# Python Method 6 : Displays Unique Values in Each Column of the Dataframe(Table) :\n",
    "\n",
    "def display_unique(data):\n",
    "    for column in data.columns :\n",
    "        \n",
    "        print(\"No of Unique Values in \"+column+\" Column are : \"+str(data[column].nunique()))\n",
    "        print(\"Actual Unique Values in \"+column+\" Column are : \"+str(data[column].sort_values(ascending=True,na_position='last').unique() ))\n",
    "        print(\"NULL Values :\")\n",
    "        print(data[ column ].isnull().sum())\n",
    "        print(\"Value Counts :\")\n",
    "        print(data[column].value_counts())\n",
    "        print(\"\")\n",
    "        \n",
    "# Displays Unique Values in Each Column of \"train\" :\n",
    "# Check \"train\" data for Values of each Column - Long Form :\n",
    "\n",
    "display_unique(train)\n",
    "\n",
    "# Display this info in a Table Format - Improvements coming In Part 2"
   ]
  },
  {
   "cell_type": "code",
   "execution_count": 15,
   "metadata": {
    "execution": {
     "iopub.execute_input": "2020-08-28T13:14:50.795880Z",
     "iopub.status.busy": "2020-08-28T13:14:50.794895Z",
     "iopub.status.idle": "2020-08-28T13:14:50.809543Z",
     "shell.execute_reply": "2020-08-28T13:14:50.810333Z"
    },
    "papermill": {
     "duration": 0.043508,
     "end_time": "2020-08-28T13:14:50.810522",
     "exception": false,
     "start_time": "2020-08-28T13:14:50.767014",
     "status": "completed"
    },
    "tags": []
   },
   "outputs": [
    {
     "name": "stdout",
     "output_type": "stream",
     "text": [
      "column ID unique values [462809 462643 466315 ... 465406 467299 461879]\n",
      "column Gender unique values ['Male' 'Female']\n",
      "column Ever_Married unique values ['No' 'Yes' nan]\n",
      "column Age unique values [22 38 67 40 56 32 33 61 55 26 19 70 58 41 31 79 49 18 36 35 45 42 83 27\n",
      " 28 47 29 57 76 25 72 48 74 59 39 51 30 63 52 60 68 86 50 43 80 37 46 69\n",
      " 78 71 82 23 20 85 21 53 62 75 65 89 66 73 77 87 84 81 88]\n",
      "column Graduated unique values ['No' 'Yes' nan]\n",
      "column Profession unique values ['Healthcare' 'Engineer' 'Lawyer' 'Entertainment' 'Artist' 'Executive'\n",
      " 'Doctor' 'Homemaker' 'Marketing' nan]\n",
      "column Work_Experience unique values [ 1. nan  0.  4.  9. 12.  3. 13.  5.  8. 14.  7.  2.  6. 10. 11.]\n",
      "column Spending_Score unique values ['Low' 'Average' 'High']\n",
      "column Family_Size unique values [ 4.  3.  1.  2.  6. nan  5.  8.  7.  9.]\n",
      "column Var_1 unique values ['Cat_4' 'Cat_6' 'Cat_7' 'Cat_3' 'Cat_1' 'Cat_2' nan 'Cat_5']\n",
      "column Segmentation unique values ['D' 'A' 'B' 'C']\n"
     ]
    }
   ],
   "source": [
    "# Check \"train\" data for Values of each Column - Short Form :\n",
    "# Use Whichever you feel good working with :\n",
    "\n",
    "for i in train:\n",
    "    print(f\"column {i} unique values {train[i].unique()}\")"
   ]
  },
  {
   "cell_type": "markdown",
   "metadata": {
    "papermill": {
     "duration": 0.023564,
     "end_time": "2020-08-28T13:14:50.859980",
     "exception": false,
     "start_time": "2020-08-28T13:14:50.836416",
     "status": "completed"
    },
    "tags": []
   },
   "source": [
    "### Multi - Class Classification Problem - Target has more than 2 Categories - \n",
    "### Target - Segmentation has 4 Values of Customers ['D' 'A' 'B' 'C']"
   ]
  },
  {
   "cell_type": "markdown",
   "metadata": {
    "papermill": {
     "duration": 0.022924,
     "end_time": "2020-08-28T13:14:50.905978",
     "exception": false,
     "start_time": "2020-08-28T13:14:50.883054",
     "status": "completed"
    },
    "tags": []
   },
   "source": [
    "## 5.  Feature Engineering\n",
    "\n",
    "### 5.1 Feature Selection - Selection of Most Important Existing Features\n",
    "### 5.2 Feature Creation  - Creation  of New Features from the Existing Features / Predictors :"
   ]
  },
  {
   "cell_type": "code",
   "execution_count": 16,
   "metadata": {
    "execution": {
     "iopub.execute_input": "2020-08-28T13:14:50.960867Z",
     "iopub.status.busy": "2020-08-28T13:14:50.959853Z",
     "iopub.status.idle": "2020-08-28T13:14:50.971387Z",
     "shell.execute_reply": "2020-08-28T13:14:50.970831Z"
    },
    "papermill": {
     "duration": 0.042332,
     "end_time": "2020-08-28T13:14:50.971503",
     "exception": false,
     "start_time": "2020-08-28T13:14:50.929171",
     "status": "completed"
    },
    "tags": []
   },
   "outputs": [],
   "source": [
    "# Concatenate train and test data into single DataFrame - df :\n",
    "\n",
    "train['is_train'] = 1\n",
    "test['is_train'] = 0\n",
    "df = pd.concat([train,test])"
   ]
  },
  {
   "cell_type": "code",
   "execution_count": 17,
   "metadata": {
    "execution": {
     "iopub.execute_input": "2020-08-28T13:14:51.026559Z",
     "iopub.status.busy": "2020-08-28T13:14:51.025669Z",
     "iopub.status.idle": "2020-08-28T13:14:51.074314Z",
     "shell.execute_reply": "2020-08-28T13:14:51.073816Z"
    },
    "papermill": {
     "duration": 0.078566,
     "end_time": "2020-08-28T13:14:51.074422",
     "exception": false,
     "start_time": "2020-08-28T13:14:50.995856",
     "status": "completed"
    },
    "tags": []
   },
   "outputs": [],
   "source": [
    "# Convert 2 Categorical(String) Columns 'City_Type','Employer_Category' using Label Encode Technique :\n",
    "# Docs : https://scikit-learn.org/stable/modules/generated/sklearn.preprocessing.LabelEncoder.html\n",
    "# Label encode category values\n",
    "\n",
    "from sklearn.preprocessing import LabelEncoder\n",
    "\n",
    "for i in ['Gender' , 'Ever_Married' , 'Graduated','Profession','Spending_Score','Var_1'  ]:\n",
    "    le = LabelEncoder()\n",
    "    df[i] = le.fit_transform(df[i].astype('str'))"
   ]
  },
  {
   "cell_type": "code",
   "execution_count": 18,
   "metadata": {
    "execution": {
     "iopub.execute_input": "2020-08-28T13:14:51.131180Z",
     "iopub.status.busy": "2020-08-28T13:14:51.130199Z",
     "iopub.status.idle": "2020-08-28T13:14:51.132543Z",
     "shell.execute_reply": "2020-08-28T13:14:51.133063Z"
    },
    "papermill": {
     "duration": 0.034598,
     "end_time": "2020-08-28T13:14:51.133191",
     "exception": false,
     "start_time": "2020-08-28T13:14:51.098593",
     "status": "completed"
    },
    "tags": []
   },
   "outputs": [],
   "source": [
    "# Mapping Values to Label ENCODED Values :\n",
    "\n",
    "df['Segmentation'] = df['Segmentation'].map({'A':0,'B':1,'C':2,'D':3})"
   ]
  },
  {
   "cell_type": "code",
   "execution_count": 19,
   "metadata": {
    "execution": {
     "iopub.execute_input": "2020-08-28T13:14:51.184849Z",
     "iopub.status.busy": "2020-08-28T13:14:51.183940Z",
     "iopub.status.idle": "2020-08-28T13:14:51.188959Z",
     "shell.execute_reply": "2020-08-28T13:14:51.189425Z"
    },
    "papermill": {
     "duration": 0.03359,
     "end_time": "2020-08-28T13:14:51.189568",
     "exception": false,
     "start_time": "2020-08-28T13:14:51.155978",
     "status": "completed"
    },
    "tags": []
   },
   "outputs": [],
   "source": [
    "# Get Back train data from df with a condition on column is_train == 1 :\n",
    "\n",
    "train = df[df['is_train'] == 1]"
   ]
  },
  {
   "cell_type": "markdown",
   "metadata": {
    "papermill": {
     "duration": 0.02387,
     "end_time": "2020-08-28T13:14:51.236825",
     "exception": false,
     "start_time": "2020-08-28T13:14:51.212955",
     "status": "completed"
    },
    "tags": []
   },
   "source": [
    "## 6.  Split Train Data into Train and Validation Data with Predictors(Independent) & Target(Dependent) :"
   ]
  },
  {
   "cell_type": "code",
   "execution_count": 20,
   "metadata": {
    "execution": {
     "iopub.execute_input": "2020-08-28T13:14:51.290190Z",
     "iopub.status.busy": "2020-08-28T13:14:51.289312Z",
     "iopub.status.idle": "2020-08-28T13:14:51.292291Z",
     "shell.execute_reply": "2020-08-28T13:14:51.291786Z"
    },
    "papermill": {
     "duration": 0.0325,
     "end_time": "2020-08-28T13:14:51.292399",
     "exception": false,
     "start_time": "2020-08-28T13:14:51.259899",
     "status": "completed"
    },
    "tags": []
   },
   "outputs": [],
   "source": [
    "# split train into 5 folds and apply random forest and check accuracy of each fold\n",
    "\n",
    "predictor_train = train.drop(['Segmentation','is_train','ID'],axis=1)\n",
    "target_train    = train['Segmentation']"
   ]
  },
  {
   "cell_type": "code",
   "execution_count": 21,
   "metadata": {
    "execution": {
     "iopub.execute_input": "2020-08-28T13:14:51.346336Z",
     "iopub.status.busy": "2020-08-28T13:14:51.345393Z",
     "iopub.status.idle": "2020-08-28T13:14:51.348581Z",
     "shell.execute_reply": "2020-08-28T13:14:51.348095Z"
    },
    "papermill": {
     "duration": 0.032558,
     "end_time": "2020-08-28T13:14:51.348705",
     "exception": false,
     "start_time": "2020-08-28T13:14:51.316147",
     "status": "completed"
    },
    "tags": []
   },
   "outputs": [],
   "source": [
    "predictor_test = test.drop(['is_train','ID'],axis=1)"
   ]
  },
  {
   "cell_type": "markdown",
   "metadata": {
    "papermill": {
     "duration": 0.023924,
     "end_time": "2020-08-28T13:14:51.396115",
     "exception": false,
     "start_time": "2020-08-28T13:14:51.372191",
     "status": "completed"
    },
    "tags": []
   },
   "source": [
    "\n",
    "## 7.  Data Encoding - Label Encoding :"
   ]
  },
  {
   "cell_type": "code",
   "execution_count": 22,
   "metadata": {
    "execution": {
     "iopub.execute_input": "2020-08-28T13:14:51.458524Z",
     "iopub.status.busy": "2020-08-28T13:14:51.457582Z",
     "iopub.status.idle": "2020-08-28T13:14:51.487375Z",
     "shell.execute_reply": "2020-08-28T13:14:51.486811Z"
    },
    "papermill": {
     "duration": 0.067215,
     "end_time": "2020-08-28T13:14:51.487471",
     "exception": false,
     "start_time": "2020-08-28T13:14:51.420256",
     "status": "completed"
    },
    "tags": []
   },
   "outputs": [],
   "source": [
    "def data_encoding( encoding_strategy , encoding_data , encoding_columns ):\n",
    "    \n",
    "    if encoding_strategy == \"LabelEncoding\":\n",
    "        Encoder = LabelEncoder()\n",
    "        for column in encoding_columns :\n",
    "            encoding_data[ column ] = Encoder.fit_transform(tuple(encoding_data[ column ]))\n",
    "        \n",
    "    elif encoding_strategy == \"OneHotEncoding\":\n",
    "#         display(encoding_data[encoding_columns])\n",
    "        encoding_data = pd.get_dummies( encoding_data  )\n",
    "        \n",
    "    elif encoding_strategy == \"TargetEncoding\":\n",
    "        ## Code Coming soon\n",
    "        print(\"TargetEncoding\")\n",
    "\n",
    "    else :\n",
    "        encoding_data = pd.get_dummies( encoding_data[encoding_columns]  )\n",
    "        \n",
    "    dtypes_list =['float64','float32','int64','int32']\n",
    "    # BEST CODE : 0.6872386379302422\n",
    "#     encoding_data.astype( dtypes_list[0] ).dtypes # UNCOMMENTED EARLIER\n",
    "    # NEW CODE : 0.6872386379302422 - NO CHANGE !!!\n",
    "    # encoding_data.astype( dtypes_list[0] ).dtypes - COMMENTED NOW\n",
    "    \n",
    "    return encoding_data\n",
    "\n",
    "encoding_columns  = [ \"Gender\", \"Ever_Married\" , \"Graduated\", \"Profession\" , \"Spending_Score\", \"Var_1\" ]\n",
    "encoding_strategy = [ \"OneHotEncoding\", \"LabelEncoding\", \"TargetEncoding\", \"ELSE\"]\n",
    "\n",
    "predictor_train_encode = data_encoding( encoding_strategy[1] , predictor_train , encoding_columns )\n",
    "predictor_test_encode  = data_encoding( encoding_strategy[1] , predictor_test ,  encoding_columns )"
   ]
  },
  {
   "cell_type": "code",
   "execution_count": 23,
   "metadata": {
    "execution": {
     "iopub.execute_input": "2020-08-28T13:14:51.540501Z",
     "iopub.status.busy": "2020-08-28T13:14:51.539806Z",
     "iopub.status.idle": "2020-08-28T13:14:51.571449Z",
     "shell.execute_reply": "2020-08-28T13:14:51.572029Z"
    },
    "papermill": {
     "duration": 0.061471,
     "end_time": "2020-08-28T13:14:51.572157",
     "exception": false,
     "start_time": "2020-08-28T13:14:51.510686",
     "status": "completed"
    },
    "tags": []
   },
   "outputs": [
    {
     "name": "stdout",
     "output_type": "stream",
     "text": [
      "predictor_train_encode SHAPE   :  (8068, 9)\n"
     ]
    },
    {
     "data": {
      "text/plain": [
       "'predictor_train_encode COLUMNS : '"
      ]
     },
     "metadata": {},
     "output_type": "display_data"
    },
    {
     "data": {
      "text/html": [
       "<div>\n",
       "<style scoped>\n",
       "    .dataframe tbody tr th:only-of-type {\n",
       "        vertical-align: middle;\n",
       "    }\n",
       "\n",
       "    .dataframe tbody tr th {\n",
       "        vertical-align: top;\n",
       "    }\n",
       "\n",
       "    .dataframe thead th {\n",
       "        text-align: right;\n",
       "    }\n",
       "</style>\n",
       "<table border=\"1\" class=\"dataframe\">\n",
       "  <thead>\n",
       "    <tr style=\"text-align: right;\">\n",
       "      <th></th>\n",
       "      <th>Gender</th>\n",
       "      <th>Ever_Married</th>\n",
       "      <th>Age</th>\n",
       "      <th>Graduated</th>\n",
       "      <th>Profession</th>\n",
       "      <th>Work_Experience</th>\n",
       "      <th>Spending_Score</th>\n",
       "      <th>Family_Size</th>\n",
       "      <th>Var_1</th>\n",
       "    </tr>\n",
       "  </thead>\n",
       "  <tbody>\n",
       "    <tr>\n",
       "      <th>0</th>\n",
       "      <td>1</td>\n",
       "      <td>0</td>\n",
       "      <td>22</td>\n",
       "      <td>0</td>\n",
       "      <td>5</td>\n",
       "      <td>1.0</td>\n",
       "      <td>2</td>\n",
       "      <td>4.0</td>\n",
       "      <td>3</td>\n",
       "    </tr>\n",
       "    <tr>\n",
       "      <th>1</th>\n",
       "      <td>0</td>\n",
       "      <td>1</td>\n",
       "      <td>38</td>\n",
       "      <td>1</td>\n",
       "      <td>2</td>\n",
       "      <td>NaN</td>\n",
       "      <td>0</td>\n",
       "      <td>3.0</td>\n",
       "      <td>3</td>\n",
       "    </tr>\n",
       "    <tr>\n",
       "      <th>2</th>\n",
       "      <td>0</td>\n",
       "      <td>1</td>\n",
       "      <td>67</td>\n",
       "      <td>1</td>\n",
       "      <td>2</td>\n",
       "      <td>1.0</td>\n",
       "      <td>2</td>\n",
       "      <td>1.0</td>\n",
       "      <td>5</td>\n",
       "    </tr>\n",
       "    <tr>\n",
       "      <th>3</th>\n",
       "      <td>1</td>\n",
       "      <td>1</td>\n",
       "      <td>67</td>\n",
       "      <td>1</td>\n",
       "      <td>7</td>\n",
       "      <td>0.0</td>\n",
       "      <td>1</td>\n",
       "      <td>2.0</td>\n",
       "      <td>5</td>\n",
       "    </tr>\n",
       "    <tr>\n",
       "      <th>4</th>\n",
       "      <td>0</td>\n",
       "      <td>1</td>\n",
       "      <td>40</td>\n",
       "      <td>1</td>\n",
       "      <td>3</td>\n",
       "      <td>NaN</td>\n",
       "      <td>1</td>\n",
       "      <td>6.0</td>\n",
       "      <td>5</td>\n",
       "    </tr>\n",
       "  </tbody>\n",
       "</table>\n",
       "</div>"
      ],
      "text/plain": [
       "   Gender  Ever_Married  Age  Graduated  Profession  Work_Experience  \\\n",
       "0       1             0   22          0           5              1.0   \n",
       "1       0             1   38          1           2              NaN   \n",
       "2       0             1   67          1           2              1.0   \n",
       "3       1             1   67          1           7              0.0   \n",
       "4       0             1   40          1           3              NaN   \n",
       "\n",
       "   Spending_Score  Family_Size  Var_1  \n",
       "0               2          4.0      3  \n",
       "1               0          3.0      3  \n",
       "2               2          1.0      5  \n",
       "3               1          2.0      5  \n",
       "4               1          6.0      5  "
      ]
     },
     "metadata": {},
     "output_type": "display_data"
    },
    {
     "name": "stdout",
     "output_type": "stream",
     "text": [
      "predictor_test_encode SHAPE   :  (2627, 9)\n"
     ]
    },
    {
     "data": {
      "text/plain": [
       "'predictor_test_encode COLUMNS : '"
      ]
     },
     "metadata": {},
     "output_type": "display_data"
    },
    {
     "data": {
      "text/html": [
       "<div>\n",
       "<style scoped>\n",
       "    .dataframe tbody tr th:only-of-type {\n",
       "        vertical-align: middle;\n",
       "    }\n",
       "\n",
       "    .dataframe tbody tr th {\n",
       "        vertical-align: top;\n",
       "    }\n",
       "\n",
       "    .dataframe thead th {\n",
       "        text-align: right;\n",
       "    }\n",
       "</style>\n",
       "<table border=\"1\" class=\"dataframe\">\n",
       "  <thead>\n",
       "    <tr style=\"text-align: right;\">\n",
       "      <th></th>\n",
       "      <th>Gender</th>\n",
       "      <th>Ever_Married</th>\n",
       "      <th>Age</th>\n",
       "      <th>Graduated</th>\n",
       "      <th>Profession</th>\n",
       "      <th>Work_Experience</th>\n",
       "      <th>Spending_Score</th>\n",
       "      <th>Family_Size</th>\n",
       "      <th>Var_1</th>\n",
       "    </tr>\n",
       "  </thead>\n",
       "  <tbody>\n",
       "    <tr>\n",
       "      <th>0</th>\n",
       "      <td>0</td>\n",
       "      <td>1</td>\n",
       "      <td>36</td>\n",
       "      <td>1</td>\n",
       "      <td>2</td>\n",
       "      <td>0.0</td>\n",
       "      <td>2</td>\n",
       "      <td>1.0</td>\n",
       "      <td>5</td>\n",
       "    </tr>\n",
       "    <tr>\n",
       "      <th>1</th>\n",
       "      <td>1</td>\n",
       "      <td>1</td>\n",
       "      <td>37</td>\n",
       "      <td>1</td>\n",
       "      <td>5</td>\n",
       "      <td>8.0</td>\n",
       "      <td>0</td>\n",
       "      <td>4.0</td>\n",
       "      <td>5</td>\n",
       "    </tr>\n",
       "    <tr>\n",
       "      <th>2</th>\n",
       "      <td>0</td>\n",
       "      <td>1</td>\n",
       "      <td>69</td>\n",
       "      <td>0</td>\n",
       "      <td>9</td>\n",
       "      <td>0.0</td>\n",
       "      <td>2</td>\n",
       "      <td>1.0</td>\n",
       "      <td>5</td>\n",
       "    </tr>\n",
       "    <tr>\n",
       "      <th>3</th>\n",
       "      <td>1</td>\n",
       "      <td>1</td>\n",
       "      <td>59</td>\n",
       "      <td>0</td>\n",
       "      <td>4</td>\n",
       "      <td>11.0</td>\n",
       "      <td>1</td>\n",
       "      <td>2.0</td>\n",
       "      <td>5</td>\n",
       "    </tr>\n",
       "    <tr>\n",
       "      <th>4</th>\n",
       "      <td>0</td>\n",
       "      <td>0</td>\n",
       "      <td>19</td>\n",
       "      <td>0</td>\n",
       "      <td>8</td>\n",
       "      <td>NaN</td>\n",
       "      <td>2</td>\n",
       "      <td>4.0</td>\n",
       "      <td>5</td>\n",
       "    </tr>\n",
       "  </tbody>\n",
       "</table>\n",
       "</div>"
      ],
      "text/plain": [
       "   Gender  Ever_Married  Age  Graduated  Profession  Work_Experience  \\\n",
       "0       0             1   36          1           2              0.0   \n",
       "1       1             1   37          1           5              8.0   \n",
       "2       0             1   69          0           9              0.0   \n",
       "3       1             1   59          0           4             11.0   \n",
       "4       0             0   19          0           8              NaN   \n",
       "\n",
       "   Spending_Score  Family_Size  Var_1  \n",
       "0               2          1.0      5  \n",
       "1               0          4.0      5  \n",
       "2               2          1.0      5  \n",
       "3               1          2.0      5  \n",
       "4               2          4.0      5  "
      ]
     },
     "metadata": {},
     "output_type": "display_data"
    }
   ],
   "source": [
    "print(\"predictor_train_encode SHAPE   : \",predictor_train_encode.shape)\n",
    "display(\"predictor_train_encode COLUMNS : \",predictor_train_encode.head())\n",
    "\n",
    "print(\"predictor_test_encode SHAPE   : \",predictor_test_encode.shape)\n",
    "display(\"predictor_test_encode COLUMNS : \",predictor_test_encode.head())"
   ]
  },
  {
   "cell_type": "markdown",
   "metadata": {
    "papermill": {
     "duration": 0.02368,
     "end_time": "2020-08-28T13:14:51.621717",
     "exception": false,
     "start_time": "2020-08-28T13:14:51.598037",
     "status": "completed"
    },
    "tags": []
   },
   "source": [
    "## 8.  Create Baseline ML Model :"
   ]
  },
  {
   "cell_type": "code",
   "execution_count": 25,
   "metadata": {
    "execution": {
     "iopub.execute_input": "2020-08-28T13:14:51.681035Z",
     "iopub.status.busy": "2020-08-28T13:14:51.680012Z",
     "iopub.status.idle": "2020-08-28T13:14:55.605770Z",
     "shell.execute_reply": "2020-08-28T13:14:55.604765Z"
    },
    "papermill": {
     "duration": 3.960177,
     "end_time": "2020-08-28T13:14:55.605963",
     "exception": false,
     "start_time": "2020-08-28T13:14:51.645786",
     "status": "completed"
    },
    "tags": []
   },
   "outputs": [
    {
     "name": "stderr",
     "output_type": "stream",
     "text": [
      "/Users/MC/opt/anaconda3/lib/python3.8/site-packages/lightgbm/basic.py:1551: UserWarning: Using categorical_feature in Dataset.\n",
      "  warnings.warn('Using categorical_feature in Dataset.')\n"
     ]
    },
    {
     "name": "stdout",
     "output_type": "stream",
     "text": [
      "fold 0 accuracy 0.5377942998760843\n",
      "fold 1 accuracy 0.5154894671623296\n",
      "fold 2 accuracy 0.5192069392812887\n",
      "fold 3 accuracy 0.5514250309789344\n",
      "fold 4 accuracy 0.5328376703841388\n",
      "fold 5 accuracy 0.5130111524163569\n",
      "fold 6 accuracy 0.5006195786864932\n",
      "fold 7 accuracy 0.5291201982651796\n",
      "fold 8 accuracy 0.5459057071960298\n",
      "fold 9 accuracy 0.56575682382134\n",
      "Mean accuracy score 0.5311166868068176\n"
     ]
    }
   ],
   "source": [
    "# Mention Categorical Values of the Light GBM Model to Handle :\n",
    "categorical_features = [\"Gender\", \"Ever_Married\" ,\"Graduated\" ,\"Profession\" ,\"Spending_Score\" ,\"Var_1\" ]\n",
    "\n",
    "lgb_model = LGBMClassifier()\n",
    "\n",
    "# Apply Stratified K-Fold Cross Validation where K=5 or n_splits=5 :\n",
    "kf = StratifiedKFold(n_splits=10,shuffle=True,random_state=10)\n",
    "acc = []\n",
    "\n",
    "# Pass predictor_train,target_train for Cross Validation :\n",
    "for fold,(t_id,v_id) in enumerate(kf.split(predictor_train,target_train)):\n",
    "    \n",
    "    # Split train and validation data :\n",
    "    tx = predictor_train.iloc[t_id]; ty = target_train.iloc[t_id]\n",
    "    vx = predictor_train.iloc[v_id]; vy = target_train.iloc[v_id]\n",
    "    \n",
    "    # Train/Fit the Data to LighGBM Model :\n",
    "    lgb_model.fit(tx,ty, categorical_feature = categorical_features )\n",
    "    \n",
    "    # Predict the Validation Data to Train LighGBM Model :\n",
    "    val_y = lgb_model.predict(vx)\n",
    "    \n",
    "    # Get Accuracy Score on Validation Data for Each Fold :\n",
    "    acc_score = accuracy_score(vy,val_y)\n",
    "    acc.append(acc_score)\n",
    "    print(f\"fold {fold} accuracy {acc_score}\")\n",
    "\n",
    "# Get Mean of Accuracy Score on Validation Data for All 5 Folds :\n",
    "print(f\"Mean accuracy score {np.mean(acc)}\")"
   ]
  },
  {
   "cell_type": "code",
   "execution_count": 85,
   "metadata": {},
   "outputs": [],
   "source": [
    "lgb_model = LGBMClassifier(\n",
    "                                   boosting_type='gbdt', \n",
    "                                   max_depth=15, \n",
    "                                   learning_rate=0.15, \n",
    "                                   objective='multiclass', # Multi Class Classification\n",
    "                                   random_state=100,  \n",
    "                                   n_estimators=1000 ,\n",
    "                                   reg_alpha=0, \n",
    "                                   reg_lambda=1, \n",
    "                                   n_jobs=-1\n",
    "                                 )"
   ]
  },
  {
   "cell_type": "code",
   "execution_count": 66,
   "metadata": {},
   "outputs": [
    {
     "data": {
      "text/plain": [
       "\"                               )\\ngsearch = GridSearchCV(lgb_model, param_grid=parameters, scoring='roc_auc', cv=5)\\ngsearch.fit(tx, ty)\\nprint('参数的最佳取值:{0}'.format(gsearch.best_params_))\\nprint('最佳模型得分:{0}'.format(gsearch.best_score_))\\nprint(gsearch.cv_results_['mean_test_score'])\\nprint(gsearch.cv_results_['params'])\\n\\n\""
      ]
     },
     "execution_count": 66,
     "metadata": {},
     "output_type": "execute_result"
    }
   ],
   "source": [
    " #调参\n",
    "#parameters={'max_depth': range(5,16,2),'num_leaves':range(33,pow(2,10)+1,100)}\n",
    "\n",
    "lgb_model = LGBMClassifier(\n",
    "                                   boosting_type='gbdt', \n",
    "                                   max_depth=15, \n",
    "                                   learning_rate=0.1, \n",
    "                                   objective='multiclass', # Multi Class Classification\n",
    "                                   random_state=100,  \n",
    "                                   n_estimators=1000 ,\n",
    "                                   reg_alpha=0, \n",
    "                                   reg_lambda=1, \n",
    "                                   n_jobs=-1\n",
    ")\n",
    "'''                               )\n",
    "gsearch = GridSearchCV(lgb_model, param_grid=parameters, scoring='roc_auc', cv=5)\n",
    "gsearch.fit(tx, ty)\n",
    "print('参数的最佳取值:{0}'.format(gsearch.best_params_))\n",
    "print('最佳模型得分:{0}'.format(gsearch.best_score_))\n",
    "print(gsearch.cv_results_['mean_test_score'])\n",
    "print(gsearch.cv_results_['params'])\n",
    "\n",
    "'''  "
   ]
  },
  {
   "cell_type": "markdown",
   "metadata": {
    "papermill": {
     "duration": 0.039542,
     "end_time": "2020-08-28T13:14:55.705043",
     "exception": false,
     "start_time": "2020-08-28T13:14:55.665501",
     "status": "completed"
    },
    "tags": []
   },
   "source": [
    "## 9. Improve ML Model,Fine Tune with MODEL Evaluation METRIC - \"Accuracy\" and Predict Target \"Segmentation\" :"
   ]
  },
  {
   "cell_type": "code",
   "execution_count": 73,
   "metadata": {
    "execution": {
     "iopub.execute_input": "2020-08-28T13:14:55.847591Z",
     "iopub.status.busy": "2020-08-28T13:14:55.846659Z",
     "iopub.status.idle": "2020-08-28T13:15:25.122708Z",
     "shell.execute_reply": "2020-08-28T13:15:25.123395Z"
    },
    "papermill": {
     "duration": 29.314013,
     "end_time": "2020-08-28T13:15:25.123566",
     "exception": false,
     "start_time": "2020-08-28T13:14:55.809553",
     "status": "completed"
    },
    "tags": []
   },
   "outputs": [
    {
     "name": "stderr",
     "output_type": "stream",
     "text": [
      "/Users/MC/opt/anaconda3/lib/python3.8/site-packages/lightgbm/basic.py:1551: UserWarning: Using categorical_feature in Dataset.\n",
      "  warnings.warn('Using categorical_feature in Dataset.')\n"
     ]
    },
    {
     "name": "stdout",
     "output_type": "stream",
     "text": [
      "[LightGBM] [Warning] Accuracy may be bad since you didn't explicitly set num_leaves OR 2^max_depth > num_leaves. (num_leaves=31).\n",
      "fold 0 accuracy 0.5396530359355638\n",
      "[LightGBM] [Warning] Accuracy may be bad since you didn't explicitly set num_leaves OR 2^max_depth > num_leaves. (num_leaves=31).\n",
      "fold 1 accuracy 0.5433705080545229\n",
      "[LightGBM] [Warning] Accuracy may be bad since you didn't explicitly set num_leaves OR 2^max_depth > num_leaves. (num_leaves=31).\n",
      "fold 2 accuracy 0.5278810408921933\n",
      "[LightGBM] [Warning] Accuracy may be bad since you didn't explicitly set num_leaves OR 2^max_depth > num_leaves. (num_leaves=31).\n",
      "fold 3 accuracy 0.527588344699318\n",
      "[LightGBM] [Warning] Accuracy may be bad since you didn't explicitly set num_leaves OR 2^max_depth > num_leaves. (num_leaves=31).\n",
      "fold 4 accuracy 0.555486670799752\n",
      "Mean accuracy score 0.53879592007627\n"
     ]
    }
   ],
   "source": [
    "# Mention Categorical Values of the Light GBM Model to Handle :\n",
    "categorical_features = [\"Gender\", \"Ever_Married\" ,\"Graduated\" ,\"Profession\" ,\"Spending_Score\" ,\"Var_1\" ]\n",
    "\n",
    "# Apply Stratified K-Fold Cross Validation where K=5 or n_splits=5 :\n",
    "kf = StratifiedKFold(n_splits=5,shuffle=True,random_state=10)\n",
    "acc = []\n",
    "\n",
    "# Pass predictor_train,target_train for Cross Validation :\n",
    "for fold,(t_id,v_id) in enumerate(kf.split(predictor_train,target_train)):\n",
    "    \n",
    "    # Split train and validation data :\n",
    "    tx = predictor_train.iloc[t_id]; ty = target_train.iloc[t_id]\n",
    "    vx = predictor_train.iloc[v_id]; vy = target_train.iloc[v_id]\n",
    "    \n",
    "    # Train/Fit the Data to LighGBM Model :\n",
    "    lgb_model.fit(tx,ty, categorical_feature = categorical_features )\n",
    "    \n",
    "    # Predict the Validation Data to Train LighGBM Model :\n",
    "    val_y = lgb_model.predict(vx)\n",
    "    \n",
    "    # Get Accuracy Score on Validation Data for Each Fold :\n",
    "    acc_score = accuracy_score(vy,val_y)\n",
    "    acc.append(acc_score)\n",
    "    print(f\"fold {fold} accuracy {acc_score}\")\n",
    "\n",
    "# Get Mean of Accuracy Score on Validation Data for All 5 Folds :\n",
    "print(f\"Mean accuracy score {np.mean(acc)}\")"
   ]
  },
  {
   "cell_type": "code",
   "execution_count": 86,
   "metadata": {
    "execution": {
     "iopub.execute_input": "2020-08-28T13:15:25.204559Z",
     "iopub.status.busy": "2020-08-28T13:15:25.203331Z",
     "iopub.status.idle": "2020-08-28T13:15:32.321598Z",
     "shell.execute_reply": "2020-08-28T13:15:32.320488Z"
    },
    "papermill": {
     "duration": 7.164337,
     "end_time": "2020-08-28T13:15:32.321794",
     "exception": false,
     "start_time": "2020-08-28T13:15:25.157457",
     "status": "completed"
    },
    "tags": []
   },
   "outputs": [
    {
     "name": "stderr",
     "output_type": "stream",
     "text": [
      "/Users/MC/opt/anaconda3/lib/python3.8/site-packages/lightgbm/basic.py:1551: UserWarning: Using categorical_feature in Dataset.\n",
      "  warnings.warn('Using categorical_feature in Dataset.')\n"
     ]
    },
    {
     "name": "stdout",
     "output_type": "stream",
     "text": [
      "[LightGBM] [Warning] Accuracy may be bad since you didn't explicitly set num_leaves OR 2^max_depth > num_leaves. (num_leaves=31).\n",
      "[1. 2. 0. ... 0. 2. 3.]\n",
      "['B' 'C' 'A' 'D']\n"
     ]
    }
   ],
   "source": [
    "def model_train_predict_submit( Classifiers_model_name, model_name ,X_train, y_train, X_test, target):\n",
    "    \n",
    "    categorical_features = [\"Gender\", \"Ever_Married\" ,\"Graduated\" ,\"Profession\" ,\"Spending_Score\" ,\"Var_1\"  ]\n",
    "    Classifiers_model_name.fit( X_train, y_train , categorical_feature = categorical_features )\n",
    "    final_predictions = Classifiers_model_name.predict( X_test )\n",
    "    print(final_predictions)  \n",
    "   \n",
    "    Result_Promoted = pd.DataFrame({'ID': sub['ID'], target : final_predictions})\n",
    "    Result_Promoted[ target ]=Result_Promoted[ target ].map({0: \"A\", 1: \"B\", 2: \"C\", 3: \"D\" })\n",
    "    print(Result_Promoted[ target ].unique())\n",
    "    Result_Promoted.to_csv(model_name +\"_Labelling=Yes_Scaling=Yes\"+\".csv\",index=False)\n",
    "    return Result_Promoted\n",
    "\n",
    "model_name       = \"LGBM_Tuned_BEST\"\n",
    "model_classifier = lgb_model\n",
    "sub = model_train_predict_submit( model_classifier, model_name, predictor_train_encode,target_train, predictor_test_encode, target = 'Segmentation')"
   ]
  },
  {
   "cell_type": "markdown",
   "metadata": {
    "papermill": {
     "duration": 0.025192,
     "end_time": "2020-08-28T13:15:32.374101",
     "exception": false,
     "start_time": "2020-08-28T13:15:32.348909",
     "status": "completed"
    },
    "tags": []
   },
   "source": [
    "## 10. Result Submission, Check Leaderboard & Improve \"ACCURACY\" :"
   ]
  },
  {
   "cell_type": "code",
   "execution_count": 87,
   "metadata": {
    "execution": {
     "iopub.execute_input": "2020-08-28T13:15:32.438482Z",
     "iopub.status.busy": "2020-08-28T13:15:32.437511Z",
     "iopub.status.idle": "2020-08-28T13:15:32.488199Z",
     "shell.execute_reply": "2020-08-28T13:15:32.488805Z"
    },
    "papermill": {
     "duration": 0.088498,
     "end_time": "2020-08-28T13:15:32.488951",
     "exception": false,
     "start_time": "2020-08-28T13:15:32.400453",
     "status": "completed"
    },
    "tags": []
   },
   "outputs": [
    {
     "data": {
      "text/html": [
       "<div>\n",
       "<style scoped>\n",
       "    .dataframe tbody tr th:only-of-type {\n",
       "        vertical-align: middle;\n",
       "    }\n",
       "\n",
       "    .dataframe tbody tr th {\n",
       "        vertical-align: top;\n",
       "    }\n",
       "\n",
       "    .dataframe thead th {\n",
       "        text-align: right;\n",
       "    }\n",
       "</style>\n",
       "<table border=\"1\" class=\"dataframe\">\n",
       "  <thead>\n",
       "    <tr style=\"text-align: right;\">\n",
       "      <th></th>\n",
       "      <th>ID</th>\n",
       "      <th>Segmentation_x</th>\n",
       "      <th>Gender_x</th>\n",
       "      <th>Ever_Married_x</th>\n",
       "      <th>Age_x</th>\n",
       "      <th>Graduated_x</th>\n",
       "      <th>Profession_x</th>\n",
       "      <th>Work_Experience_x</th>\n",
       "      <th>Spending_Score_x</th>\n",
       "      <th>Family_Size_x</th>\n",
       "      <th>...</th>\n",
       "      <th>Gender_y</th>\n",
       "      <th>Ever_Married_y</th>\n",
       "      <th>Age_y</th>\n",
       "      <th>Graduated_y</th>\n",
       "      <th>Profession_y</th>\n",
       "      <th>Work_Experience_y</th>\n",
       "      <th>Spending_Score_y</th>\n",
       "      <th>Family_Size_y</th>\n",
       "      <th>Var_1_y</th>\n",
       "      <th>Segmentation_y</th>\n",
       "    </tr>\n",
       "  </thead>\n",
       "  <tbody>\n",
       "    <tr>\n",
       "      <th>0</th>\n",
       "      <td>458989</td>\n",
       "      <td>B</td>\n",
       "      <td>Female</td>\n",
       "      <td>Yes</td>\n",
       "      <td>36</td>\n",
       "      <td>Yes</td>\n",
       "      <td>Engineer</td>\n",
       "      <td>0.0</td>\n",
       "      <td>Low</td>\n",
       "      <td>1.0</td>\n",
       "      <td>...</td>\n",
       "      <td>Female</td>\n",
       "      <td>Yes</td>\n",
       "      <td>42.0</td>\n",
       "      <td>Yes</td>\n",
       "      <td>Engineer</td>\n",
       "      <td>1.0</td>\n",
       "      <td>Low</td>\n",
       "      <td>1.0</td>\n",
       "      <td>Cat_6</td>\n",
       "      <td>B</td>\n",
       "    </tr>\n",
       "    <tr>\n",
       "      <th>1</th>\n",
       "      <td>458994</td>\n",
       "      <td>C</td>\n",
       "      <td>Male</td>\n",
       "      <td>Yes</td>\n",
       "      <td>37</td>\n",
       "      <td>Yes</td>\n",
       "      <td>Healthcare</td>\n",
       "      <td>8.0</td>\n",
       "      <td>Average</td>\n",
       "      <td>4.0</td>\n",
       "      <td>...</td>\n",
       "      <td>Male</td>\n",
       "      <td>Yes</td>\n",
       "      <td>38.0</td>\n",
       "      <td>Yes</td>\n",
       "      <td>Healthcare</td>\n",
       "      <td>8.0</td>\n",
       "      <td>Average</td>\n",
       "      <td>4.0</td>\n",
       "      <td>Cat_6</td>\n",
       "      <td>C</td>\n",
       "    </tr>\n",
       "    <tr>\n",
       "      <th>2</th>\n",
       "      <td>458996</td>\n",
       "      <td>A</td>\n",
       "      <td>Female</td>\n",
       "      <td>Yes</td>\n",
       "      <td>69</td>\n",
       "      <td>No</td>\n",
       "      <td>NaN</td>\n",
       "      <td>0.0</td>\n",
       "      <td>Low</td>\n",
       "      <td>1.0</td>\n",
       "      <td>...</td>\n",
       "      <td>Female</td>\n",
       "      <td>Yes</td>\n",
       "      <td>71.0</td>\n",
       "      <td>No</td>\n",
       "      <td>NaN</td>\n",
       "      <td>1.0</td>\n",
       "      <td>Low</td>\n",
       "      <td>1.0</td>\n",
       "      <td>Cat_6</td>\n",
       "      <td>A</td>\n",
       "    </tr>\n",
       "    <tr>\n",
       "      <th>3</th>\n",
       "      <td>459000</td>\n",
       "      <td>C</td>\n",
       "      <td>Male</td>\n",
       "      <td>Yes</td>\n",
       "      <td>59</td>\n",
       "      <td>No</td>\n",
       "      <td>Executive</td>\n",
       "      <td>11.0</td>\n",
       "      <td>High</td>\n",
       "      <td>2.0</td>\n",
       "      <td>...</td>\n",
       "      <td>Male</td>\n",
       "      <td>Yes</td>\n",
       "      <td>58.0</td>\n",
       "      <td>No</td>\n",
       "      <td>Executive</td>\n",
       "      <td>12.0</td>\n",
       "      <td>High</td>\n",
       "      <td>2.0</td>\n",
       "      <td>Cat_6</td>\n",
       "      <td>C</td>\n",
       "    </tr>\n",
       "    <tr>\n",
       "      <th>4</th>\n",
       "      <td>459001</td>\n",
       "      <td>D</td>\n",
       "      <td>Female</td>\n",
       "      <td>No</td>\n",
       "      <td>19</td>\n",
       "      <td>No</td>\n",
       "      <td>Marketing</td>\n",
       "      <td>NaN</td>\n",
       "      <td>Low</td>\n",
       "      <td>4.0</td>\n",
       "      <td>...</td>\n",
       "      <td>Female</td>\n",
       "      <td>No</td>\n",
       "      <td>20.0</td>\n",
       "      <td>No</td>\n",
       "      <td>Marketing</td>\n",
       "      <td>NaN</td>\n",
       "      <td>Low</td>\n",
       "      <td>4.0</td>\n",
       "      <td>Cat_6</td>\n",
       "      <td>C</td>\n",
       "    </tr>\n",
       "  </tbody>\n",
       "</table>\n",
       "<p>5 rows × 21 columns</p>\n",
       "</div>"
      ],
      "text/plain": [
       "       ID Segmentation_x Gender_x Ever_Married_x  Age_x Graduated_x  \\\n",
       "0  458989              B   Female            Yes     36         Yes   \n",
       "1  458994              C     Male            Yes     37         Yes   \n",
       "2  458996              A   Female            Yes     69          No   \n",
       "3  459000              C     Male            Yes     59          No   \n",
       "4  459001              D   Female             No     19          No   \n",
       "\n",
       "  Profession_x  Work_Experience_x Spending_Score_x  Family_Size_x  ...  \\\n",
       "0     Engineer                0.0              Low            1.0  ...   \n",
       "1   Healthcare                8.0          Average            4.0  ...   \n",
       "2          NaN                0.0              Low            1.0  ...   \n",
       "3    Executive               11.0             High            2.0  ...   \n",
       "4    Marketing                NaN              Low            4.0  ...   \n",
       "\n",
       "  Gender_y Ever_Married_y Age_y  Graduated_y Profession_y Work_Experience_y  \\\n",
       "0   Female            Yes  42.0          Yes     Engineer               1.0   \n",
       "1     Male            Yes  38.0          Yes   Healthcare               8.0   \n",
       "2   Female            Yes  71.0           No          NaN               1.0   \n",
       "3     Male            Yes  58.0           No    Executive              12.0   \n",
       "4   Female             No  20.0           No    Marketing               NaN   \n",
       "\n",
       "   Spending_Score_y Family_Size_y  Var_1_y Segmentation_y  \n",
       "0               Low           1.0    Cat_6              B  \n",
       "1           Average           4.0    Cat_6              C  \n",
       "2               Low           1.0    Cat_6              A  \n",
       "3              High           2.0    Cat_6              C  \n",
       "4               Low           4.0    Cat_6              C  \n",
       "\n",
       "[5 rows x 21 columns]"
      ]
     },
     "execution_count": 87,
     "metadata": {},
     "output_type": "execute_result"
    }
   ],
   "source": [
    "sub1 = pd.merge(sub,testx,how='left',on='ID')\n",
    "sub1.head()"
   ]
  },
  {
   "cell_type": "code",
   "execution_count": 88,
   "metadata": {
    "execution": {
     "iopub.execute_input": "2020-08-28T13:15:32.560585Z",
     "iopub.status.busy": "2020-08-28T13:15:32.559651Z",
     "iopub.status.idle": "2020-08-28T13:15:32.563980Z",
     "shell.execute_reply": "2020-08-28T13:15:32.564511Z"
    },
    "papermill": {
     "duration": 0.046152,
     "end_time": "2020-08-28T13:15:32.564676",
     "exception": false,
     "start_time": "2020-08-28T13:15:32.518524",
     "status": "completed"
    },
    "tags": []
   },
   "outputs": [
    {
     "name": "stdout",
     "output_type": "stream",
     "text": [
      "0.5824133993148077\n"
     ]
    }
   ],
   "source": [
    "sub['segmentation2'] = sub1['Segmentation_y']\n",
    "sub.head()\n",
    "n=0\n",
    "for i in range(len(sub)):\n",
    "    if sub.iloc[i,1]==sub.iloc[i,2]:\n",
    "        n+=1\n",
    "print(n/len(sub))"
   ]
  },
  {
   "cell_type": "code",
   "execution_count": 89,
   "metadata": {
    "execution": {
     "iopub.execute_input": "2020-08-28T13:15:33.601245Z",
     "iopub.status.busy": "2020-08-28T13:15:33.039890Z",
     "iopub.status.idle": "2020-08-28T13:15:33.744188Z",
     "shell.execute_reply": "2020-08-28T13:15:33.742973Z"
    },
    "papermill": {
     "duration": 1.150491,
     "end_time": "2020-08-28T13:15:33.744325",
     "exception": false,
     "start_time": "2020-08-28T13:15:32.593834",
     "status": "completed"
    },
    "tags": []
   },
   "outputs": [],
   "source": [
    "sub['segmentation2'] = sub['segmentation2'].fillna('x')\n",
    "for i in range(len(sub)):\n",
    "    if sub.iloc[i,2] != 'x':\n",
    "        sub.iloc[i,1] = sub.iloc[i,2]\n",
    "        \n",
    "sub[['ID','Segmentation']].to_csv('FINAL_LGBM_BEST_SUBMISSION_TUNED.csv',index = False)"
   ]
  },
  {
   "cell_type": "code",
   "execution_count": 96,
   "metadata": {},
   "outputs": [],
   "source": [
    "from xgboost                          import XGBClassifier\n",
    "from catboost                         import CatBoostClassifier\n",
    "from lightgbm                         import LGBMClassifier\n",
    "from sklearn.ensemble                 import RandomForestClassifier, VotingClassifier\n",
    "\n",
    "class Customer:\n",
    "    def init(self, gender,marriage,age,graduation,profession,work,spending,family,var_1,segmentation):\n",
    "        self.Gender=gender\n",
    "        self.Ever_Married=marriage\n",
    "        self.Age=age\n",
    "        self.Graduated=graduation\n",
    "        self.Profession=profession\n",
    "        self.Work_Experience=work\n",
    "        self.Spending_Score=spending\n",
    "        self.Family_Size=family\n",
    "        self.Var_1=var_1\n",
    "        self.Segmentation=segmentation\n",
    "        if not isinstance(profession, str): raise TypeError('需要输入字符型')\n",
    "        if not isinstance(spending, str): raise TypeError('请在low,average,high中选择')\n",
    "        if not isinstance(age,int): raise TypeError('年龄为整数')\n",
    "        if not isinstance(work,int): raise TypeError('工作经验为整数')\n",
    "        if not isinstance(family,int): raise TypeError('工作经验为整数')\n",
    "        if marriage not in ['Yes','No']:raise ValueError('请输入Yes or No')\n",
    "        if graduation not in ['Yes','No']:raise ValueError('请输入Yes or No')\n",
    "        if age < 15 or score > 100: raise ValueError('are you kidding')\n",
    "    def printinfo(self):\n",
    "        print(\"Hello, world!\\n Gender: {}.\\n Ever_Married: {}.\\n Age: {}.\\n Graduated:{}.\\n Profession:{}.\\n Work_Experience:{}.\\n Spending_Score:{}.\\n Family_Size:{}.\\n Var_1:{}.\\n Segmentation:{}\".format(self.Gender,self.Ever_Married,self.Age,self.Graduated,self.Profession,self.Work_Experience,self.Spending_Score,self.Family_Size,self.Var_1,self.Segmentation) )\n",
    "    def rf_pre(self,xtrain,ytrain):\n",
    "        customer_list=[]\n",
    "        ll=[self.Gender,self.Ever_Married,self.Age,self.Graduated,self.Profession,self.Work_Experience,self.Spending_Score,self.Family_Size,self.Var_1,self.Segmentation]\n",
    "        for i in ll:\n",
    "            if i in ['No','Male','Artist','Cat_1','Low']:customer_list.append(0)\n",
    "            elif i in ['Yes','Female','Healthcare','Cat_2','Average']:customer_list.append(1)\n",
    "            elif i in ['Cat_3','High','Entertainment']:customer_list.append(2)\n",
    "            elif i in ['Cat_4','Engineer']:customer_list.append(3)\n",
    "            elif i in ['Cat_5','Doctor']:customer_list.append(4)\n",
    "            elif i in ['Cat_6','Lawyer']:customer_list.append(5)\n",
    "            elif i =='Marketing':customer_list.append(7)\n",
    "            elif i =='Homemaker':customer_list.append(8)\n",
    "            else:customer_list.append(i)\n",
    "        model=RandomForestClassifier()\n",
    "        model.fit(xtrain,ytrain)\n",
    "        pred=model.predict(ll)\n",
    "        print('真实值:{}  预测值:{}'.format(self.Segmentation,pred))\n",
    "        return(pred==self.Segmentation)\n",
    "        \n",
    "    def xgb_pre(self,xtrain,ytrain):\n",
    "        customer_list=[]\n",
    "        ll=[self.Gender,self.Ever_Married,self.Age,self.Graduated,self.Profession,self.Work_Experience,self.Spending_Score,self.Family_Size,self.Var_1,self.Segmentation]\n",
    "        for i in ll:\n",
    "            if i in ['No','Male','Artist','Cat_1','Low']:customer_list.append(0)\n",
    "            elif i in ['Yes','Female','Healthcare','Cat_2','Average']:customer_list.append(1)\n",
    "            elif i in ['Cat_3','High','Entertainment']:customer_list.append(2)\n",
    "            elif i in ['Cat_4','Engineer']:customer_list.append(3)\n",
    "            elif i in ['Cat_5','Doctor']:customer_list.append(4)\n",
    "            elif i in ['Cat_6','Lawyer']:customer_list.append(5)\n",
    "            elif i =='Marketing':customer_list.append(7)\n",
    "            elif i =='Homemaker':customer_list.append(8)\n",
    "            else:customer_list.append(i)\n",
    "        model=XGBClassifier(base_score=0.5, booster='gbtree', colsample_bylevel=1,\n",
    "              colsample_bynode=1, colsample_bytree=0.8, gamma=5,\n",
    "              learning_rate=0.3, max_delta_step=0, max_depth=4,\n",
    "              min_child_weight=5, missing=1, n_estimators=500, n_jobs=4,\n",
    "              nthread=None, objective='multi:softprob', eval_metric='mlogloss', use_label_encoder=False,\n",
    "              random_state=0,reg_alpha=0, reg_lambda=1, scale_pos_weight=None, seed=None,\n",
    "              silent=None, subsample=0.8, verbosity=None)\n",
    "        model.fit(xtrain,ytrain)\n",
    "        pred=model.predict(ll)\n",
    "        print('真实值:{}  预测值:{}'.format(self.Segmentation,pred))\n",
    "        return(pred==self.Segmentation)\n",
    "\n",
    "    def lgb_pre(self,xtrain,ytrain):\n",
    "        customer_list=[]\n",
    "        ll=[self.Gender,self.Ever_Married,self.Age,self.Graduated,self.Profession,self.Work_Experience,self.Spending_Score,self.Family_Size,self.Var_1,self.Segmentation]\n",
    "        for i in ll:\n",
    "            if i in ['No','Male','Artist','Cat_1','Low']:customer_list.append(0)\n",
    "            elif i in ['Yes','Female','Healthcare','Cat_2','Average']:customer_list.append(1)\n",
    "            elif i in ['Cat_3','High','Entertainment']:customer_list.append(2)\n",
    "            elif i in ['Cat_4','Engineer']:customer_list.append(3)\n",
    "            elif i in ['Cat_5','Doctor']:customer_list.append(4)\n",
    "            elif i in ['Cat_6','Lawyer']:customer_list.append(5)\n",
    "            elif i =='Marketing':customer_list.append(7)\n",
    "            elif i =='Homemaker':customer_list.append(8)\n",
    "            else:customer_list.append(i)\n",
    "        model= LGBMClassifier(\n",
    "                                   boosting_type='gbdt', \n",
    "                                   max_depth=15, \n",
    "                                   learning_rate=0.1, \n",
    "                                   objective='multiclass', # Multi Class Classification\n",
    "                                   random_state=100,  \n",
    "                                   n_estimators=1000 ,\n",
    "                                   reg_alpha=0, \n",
    "                                   reg_lambda=1, \n",
    "                                   n_jobs=-1)\n",
    "        model.fit(xtrain,ytrain)\n",
    "        pred=model.predict(ll)\n",
    "        print('真实值:{}  预测值:{}'.format(self.Segmentation,pred))\n",
    "        return(pred==self.Segmentation)"
   ]
  },
  {
   "cell_type": "code",
   "execution_count": 92,
   "metadata": {},
   "outputs": [
    {
     "name": "stdout",
     "output_type": "stream",
     "text": [
      "请输入你的名字：崔博涵\n",
      "False\n"
     ]
    }
   ],
   "source": [
    "s=input('请输入你的名字：')\n",
    "print(s=='崔')\n"
   ]
  }
 ],
 "metadata": {
  "kernelspec": {
   "display_name": "Python 3",
   "language": "python",
   "name": "python3"
  },
  "language_info": {
   "codemirror_mode": {
    "name": "ipython",
    "version": 3
   },
   "file_extension": ".py",
   "mimetype": "text/x-python",
   "name": "python",
   "nbconvert_exporter": "python",
   "pygments_lexer": "ipython3",
   "version": "3.8.5"
  },
  "papermill": {
   "duration": 51.197805,
   "end_time": "2020-08-28T13:15:33.986973",
   "environment_variables": {},
   "exception": null,
   "input_path": "__notebook__.ipynb",
   "output_path": "__notebook__.ipynb",
   "parameters": {},
   "start_time": "2020-08-28T13:14:42.789168",
   "version": "2.1.0"
  }
 },
 "nbformat": 4,
 "nbformat_minor": 4
}
