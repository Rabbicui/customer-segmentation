{
 "cells": [
  {
   "cell_type": "markdown",
   "metadata": {},
   "source": [
    "## 这个可以用作数据预处理的模板"
   ]
  },
  {
   "cell_type": "code",
   "execution_count": 2,
   "metadata": {
    "_cell_guid": "b1076dfc-b9ad-4769-8c92-a6c4dae69d19",
    "_uuid": "8f2839f25d086af736a60e9eeb907d3b93b6e0e5",
    "execution": {
     "iopub.execute_input": "2021-06-08T09:05:03.594600Z",
     "iopub.status.busy": "2021-06-08T09:05:03.593608Z",
     "iopub.status.idle": "2021-06-08T09:05:03.613372Z",
     "shell.execute_reply": "2021-06-08T09:05:03.612310Z",
     "shell.execute_reply.started": "2021-06-08T09:03:32.555094Z"
    },
    "papermill": {
     "duration": 0.064009,
     "end_time": "2021-06-08T09:05:03.613765",
     "exception": false,
     "start_time": "2021-06-08T09:05:03.549756",
     "status": "completed"
    },
    "tags": []
   },
   "outputs": [],
   "source": [
    "# This Python 3 environment comes with many helpful analytics libraries installed\n",
    "# It is defined by the kaggle/python Docker image: https://github.com/kaggle/docker-python\n",
    "# For example, here's several helpful packages to load\n",
    "\n",
    "import numpy as np # linear algebra\n",
    "import pandas as pd # data processing, CSV file I/O (e.g. pd.read_csv)\n",
    "\n",
    "# Input data files are available in the read-only \"../input/\" directory\n",
    "# For example, running this (by clicking run or pressing Shift+Enter) will list all files under the input directory\n",
    "\n",
    "import os\n",
    "for dirname, _, filenames in os.walk('/kaggle/input'):\n",
    "    for filename in filenames:\n",
    "        print(os.path.join(dirname, filename))\n",
    "\n",
    "# You can write up to 20GB to the current directory (/kaggle/working/) that gets preserved as output when you create a version using \"Save & Run All\" \n",
    "# You can also write temporary files to /kaggle/temp/, but they won't be saved outside of the current session"
   ]
  },
  {
   "cell_type": "markdown",
   "metadata": {
    "papermill": {
     "duration": 0.041053,
     "end_time": "2021-06-08T09:05:03.697245",
     "exception": false,
     "start_time": "2021-06-08T09:05:03.656192",
     "status": "completed"
    },
    "tags": []
   },
   "source": [
    "## Importing Libraries and Dataset"
   ]
  },
  {
   "cell_type": "code",
   "execution_count": 150,
   "metadata": {
    "execution": {
     "iopub.execute_input": "2021-06-08T09:05:03.783519Z",
     "iopub.status.busy": "2021-06-08T09:05:03.782919Z",
     "iopub.status.idle": "2021-06-08T09:05:04.516551Z",
     "shell.execute_reply": "2021-06-08T09:05:04.516079Z",
     "shell.execute_reply.started": "2021-06-08T09:03:32.596434Z"
    },
    "papermill": {
     "duration": 0.77855,
     "end_time": "2021-06-08T09:05:04.516689",
     "exception": false,
     "start_time": "2021-06-08T09:05:03.738139",
     "status": "completed"
    },
    "tags": []
   },
   "outputs": [],
   "source": [
    "import matplotlib.pyplot as plt\n",
    "import seaborn as sns"
   ]
  },
  {
   "cell_type": "code",
   "execution_count": 151,
   "metadata": {
    "execution": {
     "iopub.execute_input": "2021-06-08T09:05:04.602872Z",
     "iopub.status.busy": "2021-06-08T09:05:04.602302Z",
     "iopub.status.idle": "2021-06-08T09:05:04.638277Z",
     "shell.execute_reply": "2021-06-08T09:05:04.637756Z",
     "shell.execute_reply.started": "2021-06-08T09:03:32.612001Z"
    },
    "papermill": {
     "duration": 0.080372,
     "end_time": "2021-06-08T09:05:04.638418",
     "exception": false,
     "start_time": "2021-06-08T09:05:04.558046",
     "status": "completed"
    },
    "tags": []
   },
   "outputs": [],
   "source": [
    "df = pd.read_csv('Train.csv')"
   ]
  },
  {
   "cell_type": "code",
   "execution_count": 152,
   "metadata": {
    "execution": {
     "iopub.execute_input": "2021-06-08T09:05:04.733798Z",
     "iopub.status.busy": "2021-06-08T09:05:04.721141Z",
     "iopub.status.idle": "2021-06-08T09:05:04.756957Z",
     "shell.execute_reply": "2021-06-08T09:05:04.756475Z",
     "shell.execute_reply.started": "2021-06-08T09:03:32.649088Z"
    },
    "papermill": {
     "duration": 0.078534,
     "end_time": "2021-06-08T09:05:04.757083",
     "exception": false,
     "start_time": "2021-06-08T09:05:04.678549",
     "status": "completed"
    },
    "tags": []
   },
   "outputs": [
    {
     "data": {
      "text/html": [
       "<div>\n",
       "<style scoped>\n",
       "    .dataframe tbody tr th:only-of-type {\n",
       "        vertical-align: middle;\n",
       "    }\n",
       "\n",
       "    .dataframe tbody tr th {\n",
       "        vertical-align: top;\n",
       "    }\n",
       "\n",
       "    .dataframe thead th {\n",
       "        text-align: right;\n",
       "    }\n",
       "</style>\n",
       "<table border=\"1\" class=\"dataframe\">\n",
       "  <thead>\n",
       "    <tr style=\"text-align: right;\">\n",
       "      <th></th>\n",
       "      <th>ID</th>\n",
       "      <th>Gender</th>\n",
       "      <th>Ever_Married</th>\n",
       "      <th>Age</th>\n",
       "      <th>Graduated</th>\n",
       "      <th>Profession</th>\n",
       "      <th>Work_Experience</th>\n",
       "      <th>Spending_Score</th>\n",
       "      <th>Family_Size</th>\n",
       "      <th>Var_1</th>\n",
       "      <th>Segmentation</th>\n",
       "    </tr>\n",
       "  </thead>\n",
       "  <tbody>\n",
       "    <tr>\n",
       "      <th>0</th>\n",
       "      <td>462809</td>\n",
       "      <td>Male</td>\n",
       "      <td>No</td>\n",
       "      <td>22</td>\n",
       "      <td>No</td>\n",
       "      <td>Healthcare</td>\n",
       "      <td>1.0</td>\n",
       "      <td>Low</td>\n",
       "      <td>4.0</td>\n",
       "      <td>Cat_4</td>\n",
       "      <td>D</td>\n",
       "    </tr>\n",
       "    <tr>\n",
       "      <th>1</th>\n",
       "      <td>462643</td>\n",
       "      <td>Female</td>\n",
       "      <td>Yes</td>\n",
       "      <td>38</td>\n",
       "      <td>Yes</td>\n",
       "      <td>Engineer</td>\n",
       "      <td>NaN</td>\n",
       "      <td>Average</td>\n",
       "      <td>3.0</td>\n",
       "      <td>Cat_4</td>\n",
       "      <td>A</td>\n",
       "    </tr>\n",
       "    <tr>\n",
       "      <th>2</th>\n",
       "      <td>466315</td>\n",
       "      <td>Female</td>\n",
       "      <td>Yes</td>\n",
       "      <td>67</td>\n",
       "      <td>Yes</td>\n",
       "      <td>Engineer</td>\n",
       "      <td>1.0</td>\n",
       "      <td>Low</td>\n",
       "      <td>1.0</td>\n",
       "      <td>Cat_6</td>\n",
       "      <td>B</td>\n",
       "    </tr>\n",
       "    <tr>\n",
       "      <th>3</th>\n",
       "      <td>461735</td>\n",
       "      <td>Male</td>\n",
       "      <td>Yes</td>\n",
       "      <td>67</td>\n",
       "      <td>Yes</td>\n",
       "      <td>Lawyer</td>\n",
       "      <td>0.0</td>\n",
       "      <td>High</td>\n",
       "      <td>2.0</td>\n",
       "      <td>Cat_6</td>\n",
       "      <td>B</td>\n",
       "    </tr>\n",
       "    <tr>\n",
       "      <th>4</th>\n",
       "      <td>462669</td>\n",
       "      <td>Female</td>\n",
       "      <td>Yes</td>\n",
       "      <td>40</td>\n",
       "      <td>Yes</td>\n",
       "      <td>Entertainment</td>\n",
       "      <td>NaN</td>\n",
       "      <td>High</td>\n",
       "      <td>6.0</td>\n",
       "      <td>Cat_6</td>\n",
       "      <td>A</td>\n",
       "    </tr>\n",
       "    <tr>\n",
       "      <th>...</th>\n",
       "      <td>...</td>\n",
       "      <td>...</td>\n",
       "      <td>...</td>\n",
       "      <td>...</td>\n",
       "      <td>...</td>\n",
       "      <td>...</td>\n",
       "      <td>...</td>\n",
       "      <td>...</td>\n",
       "      <td>...</td>\n",
       "      <td>...</td>\n",
       "      <td>...</td>\n",
       "    </tr>\n",
       "    <tr>\n",
       "      <th>8063</th>\n",
       "      <td>464018</td>\n",
       "      <td>Male</td>\n",
       "      <td>No</td>\n",
       "      <td>22</td>\n",
       "      <td>No</td>\n",
       "      <td>NaN</td>\n",
       "      <td>0.0</td>\n",
       "      <td>Low</td>\n",
       "      <td>7.0</td>\n",
       "      <td>Cat_1</td>\n",
       "      <td>D</td>\n",
       "    </tr>\n",
       "    <tr>\n",
       "      <th>8064</th>\n",
       "      <td>464685</td>\n",
       "      <td>Male</td>\n",
       "      <td>No</td>\n",
       "      <td>35</td>\n",
       "      <td>No</td>\n",
       "      <td>Executive</td>\n",
       "      <td>3.0</td>\n",
       "      <td>Low</td>\n",
       "      <td>4.0</td>\n",
       "      <td>Cat_4</td>\n",
       "      <td>D</td>\n",
       "    </tr>\n",
       "    <tr>\n",
       "      <th>8065</th>\n",
       "      <td>465406</td>\n",
       "      <td>Female</td>\n",
       "      <td>No</td>\n",
       "      <td>33</td>\n",
       "      <td>Yes</td>\n",
       "      <td>Healthcare</td>\n",
       "      <td>1.0</td>\n",
       "      <td>Low</td>\n",
       "      <td>1.0</td>\n",
       "      <td>Cat_6</td>\n",
       "      <td>D</td>\n",
       "    </tr>\n",
       "    <tr>\n",
       "      <th>8066</th>\n",
       "      <td>467299</td>\n",
       "      <td>Female</td>\n",
       "      <td>No</td>\n",
       "      <td>27</td>\n",
       "      <td>Yes</td>\n",
       "      <td>Healthcare</td>\n",
       "      <td>1.0</td>\n",
       "      <td>Low</td>\n",
       "      <td>4.0</td>\n",
       "      <td>Cat_6</td>\n",
       "      <td>B</td>\n",
       "    </tr>\n",
       "    <tr>\n",
       "      <th>8067</th>\n",
       "      <td>461879</td>\n",
       "      <td>Male</td>\n",
       "      <td>Yes</td>\n",
       "      <td>37</td>\n",
       "      <td>Yes</td>\n",
       "      <td>Executive</td>\n",
       "      <td>0.0</td>\n",
       "      <td>Average</td>\n",
       "      <td>3.0</td>\n",
       "      <td>Cat_4</td>\n",
       "      <td>B</td>\n",
       "    </tr>\n",
       "  </tbody>\n",
       "</table>\n",
       "<p>8068 rows × 11 columns</p>\n",
       "</div>"
      ],
      "text/plain": [
       "          ID  Gender Ever_Married  Age Graduated     Profession  \\\n",
       "0     462809    Male           No   22        No     Healthcare   \n",
       "1     462643  Female          Yes   38       Yes       Engineer   \n",
       "2     466315  Female          Yes   67       Yes       Engineer   \n",
       "3     461735    Male          Yes   67       Yes         Lawyer   \n",
       "4     462669  Female          Yes   40       Yes  Entertainment   \n",
       "...      ...     ...          ...  ...       ...            ...   \n",
       "8063  464018    Male           No   22        No            NaN   \n",
       "8064  464685    Male           No   35        No      Executive   \n",
       "8065  465406  Female           No   33       Yes     Healthcare   \n",
       "8066  467299  Female           No   27       Yes     Healthcare   \n",
       "8067  461879    Male          Yes   37       Yes      Executive   \n",
       "\n",
       "      Work_Experience Spending_Score  Family_Size  Var_1 Segmentation  \n",
       "0                 1.0            Low          4.0  Cat_4            D  \n",
       "1                 NaN        Average          3.0  Cat_4            A  \n",
       "2                 1.0            Low          1.0  Cat_6            B  \n",
       "3                 0.0           High          2.0  Cat_6            B  \n",
       "4                 NaN           High          6.0  Cat_6            A  \n",
       "...               ...            ...          ...    ...          ...  \n",
       "8063              0.0            Low          7.0  Cat_1            D  \n",
       "8064              3.0            Low          4.0  Cat_4            D  \n",
       "8065              1.0            Low          1.0  Cat_6            D  \n",
       "8066              1.0            Low          4.0  Cat_6            B  \n",
       "8067              0.0        Average          3.0  Cat_4            B  \n",
       "\n",
       "[8068 rows x 11 columns]"
      ]
     },
     "execution_count": 152,
     "metadata": {},
     "output_type": "execute_result"
    }
   ],
   "source": [
    "df"
   ]
  },
  {
   "cell_type": "markdown",
   "metadata": {
    "papermill": {
     "duration": 0.041895,
     "end_time": "2021-06-08T09:05:04.839580",
     "exception": false,
     "start_time": "2021-06-08T09:05:04.797685",
     "status": "completed"
    },
    "tags": []
   },
   "source": [
    "## EDA"
   ]
  },
  {
   "cell_type": "code",
   "execution_count": 153,
   "metadata": {
    "execution": {
     "iopub.execute_input": "2021-06-08T09:05:04.925810Z",
     "iopub.status.busy": "2021-06-08T09:05:04.924963Z",
     "iopub.status.idle": "2021-06-08T09:05:04.928673Z",
     "shell.execute_reply": "2021-06-08T09:05:04.928246Z",
     "shell.execute_reply.started": "2021-06-08T09:03:32.683071Z"
    },
    "papermill": {
     "duration": 0.048075,
     "end_time": "2021-06-08T09:05:04.928812",
     "exception": false,
     "start_time": "2021-06-08T09:05:04.880737",
     "status": "completed"
    },
    "tags": []
   },
   "outputs": [
    {
     "data": {
      "text/plain": [
       "(8068, 11)"
      ]
     },
     "execution_count": 153,
     "metadata": {},
     "output_type": "execute_result"
    }
   ],
   "source": [
    "df.shape"
   ]
  },
  {
   "cell_type": "code",
   "execution_count": 154,
   "metadata": {
    "execution": {
     "iopub.execute_input": "2021-06-08T09:05:05.015869Z",
     "iopub.status.busy": "2021-06-08T09:05:05.015059Z",
     "iopub.status.idle": "2021-06-08T09:05:05.018854Z",
     "shell.execute_reply": "2021-06-08T09:05:05.018424Z",
     "shell.execute_reply.started": "2021-06-08T09:03:32.695009Z"
    },
    "papermill": {
     "duration": 0.049295,
     "end_time": "2021-06-08T09:05:05.018982",
     "exception": false,
     "start_time": "2021-06-08T09:05:04.969687",
     "status": "completed"
    },
    "tags": []
   },
   "outputs": [
    {
     "data": {
      "text/plain": [
       "Index(['ID', 'Gender', 'Ever_Married', 'Age', 'Graduated', 'Profession',\n",
       "       'Work_Experience', 'Spending_Score', 'Family_Size', 'Var_1',\n",
       "       'Segmentation'],\n",
       "      dtype='object')"
      ]
     },
     "execution_count": 154,
     "metadata": {},
     "output_type": "execute_result"
    }
   ],
   "source": [
    "df.columns"
   ]
  },
  {
   "cell_type": "markdown",
   "metadata": {
    "papermill": {
     "duration": 0.0406,
     "end_time": "2021-06-08T09:05:05.100479",
     "exception": false,
     "start_time": "2021-06-08T09:05:05.059879",
     "status": "completed"
    },
    "tags": []
   },
   "source": [
    "Dropping ID Column "
   ]
  },
  {
   "cell_type": "code",
   "execution_count": 155,
   "metadata": {
    "execution": {
     "iopub.execute_input": "2021-06-08T09:05:05.188903Z",
     "iopub.status.busy": "2021-06-08T09:05:05.188289Z",
     "iopub.status.idle": "2021-06-08T09:05:05.208949Z",
     "shell.execute_reply": "2021-06-08T09:05:05.208456Z",
     "shell.execute_reply.started": "2021-06-08T09:03:32.711509Z"
    },
    "papermill": {
     "duration": 0.067555,
     "end_time": "2021-06-08T09:05:05.209093",
     "exception": false,
     "start_time": "2021-06-08T09:05:05.141538",
     "status": "completed"
    },
    "tags": []
   },
   "outputs": [
    {
     "data": {
      "text/html": [
       "<div>\n",
       "<style scoped>\n",
       "    .dataframe tbody tr th:only-of-type {\n",
       "        vertical-align: middle;\n",
       "    }\n",
       "\n",
       "    .dataframe tbody tr th {\n",
       "        vertical-align: top;\n",
       "    }\n",
       "\n",
       "    .dataframe thead th {\n",
       "        text-align: right;\n",
       "    }\n",
       "</style>\n",
       "<table border=\"1\" class=\"dataframe\">\n",
       "  <thead>\n",
       "    <tr style=\"text-align: right;\">\n",
       "      <th></th>\n",
       "      <th>Gender</th>\n",
       "      <th>Ever_Married</th>\n",
       "      <th>Age</th>\n",
       "      <th>Graduated</th>\n",
       "      <th>Profession</th>\n",
       "      <th>Work_Experience</th>\n",
       "      <th>Spending_Score</th>\n",
       "      <th>Family_Size</th>\n",
       "      <th>Var_1</th>\n",
       "      <th>Segmentation</th>\n",
       "    </tr>\n",
       "  </thead>\n",
       "  <tbody>\n",
       "    <tr>\n",
       "      <th>0</th>\n",
       "      <td>Male</td>\n",
       "      <td>No</td>\n",
       "      <td>22</td>\n",
       "      <td>No</td>\n",
       "      <td>Healthcare</td>\n",
       "      <td>1.0</td>\n",
       "      <td>Low</td>\n",
       "      <td>4.0</td>\n",
       "      <td>Cat_4</td>\n",
       "      <td>D</td>\n",
       "    </tr>\n",
       "    <tr>\n",
       "      <th>1</th>\n",
       "      <td>Female</td>\n",
       "      <td>Yes</td>\n",
       "      <td>38</td>\n",
       "      <td>Yes</td>\n",
       "      <td>Engineer</td>\n",
       "      <td>NaN</td>\n",
       "      <td>Average</td>\n",
       "      <td>3.0</td>\n",
       "      <td>Cat_4</td>\n",
       "      <td>A</td>\n",
       "    </tr>\n",
       "    <tr>\n",
       "      <th>2</th>\n",
       "      <td>Female</td>\n",
       "      <td>Yes</td>\n",
       "      <td>67</td>\n",
       "      <td>Yes</td>\n",
       "      <td>Engineer</td>\n",
       "      <td>1.0</td>\n",
       "      <td>Low</td>\n",
       "      <td>1.0</td>\n",
       "      <td>Cat_6</td>\n",
       "      <td>B</td>\n",
       "    </tr>\n",
       "    <tr>\n",
       "      <th>3</th>\n",
       "      <td>Male</td>\n",
       "      <td>Yes</td>\n",
       "      <td>67</td>\n",
       "      <td>Yes</td>\n",
       "      <td>Lawyer</td>\n",
       "      <td>0.0</td>\n",
       "      <td>High</td>\n",
       "      <td>2.0</td>\n",
       "      <td>Cat_6</td>\n",
       "      <td>B</td>\n",
       "    </tr>\n",
       "    <tr>\n",
       "      <th>4</th>\n",
       "      <td>Female</td>\n",
       "      <td>Yes</td>\n",
       "      <td>40</td>\n",
       "      <td>Yes</td>\n",
       "      <td>Entertainment</td>\n",
       "      <td>NaN</td>\n",
       "      <td>High</td>\n",
       "      <td>6.0</td>\n",
       "      <td>Cat_6</td>\n",
       "      <td>A</td>\n",
       "    </tr>\n",
       "    <tr>\n",
       "      <th>...</th>\n",
       "      <td>...</td>\n",
       "      <td>...</td>\n",
       "      <td>...</td>\n",
       "      <td>...</td>\n",
       "      <td>...</td>\n",
       "      <td>...</td>\n",
       "      <td>...</td>\n",
       "      <td>...</td>\n",
       "      <td>...</td>\n",
       "      <td>...</td>\n",
       "    </tr>\n",
       "    <tr>\n",
       "      <th>8063</th>\n",
       "      <td>Male</td>\n",
       "      <td>No</td>\n",
       "      <td>22</td>\n",
       "      <td>No</td>\n",
       "      <td>NaN</td>\n",
       "      <td>0.0</td>\n",
       "      <td>Low</td>\n",
       "      <td>7.0</td>\n",
       "      <td>Cat_1</td>\n",
       "      <td>D</td>\n",
       "    </tr>\n",
       "    <tr>\n",
       "      <th>8064</th>\n",
       "      <td>Male</td>\n",
       "      <td>No</td>\n",
       "      <td>35</td>\n",
       "      <td>No</td>\n",
       "      <td>Executive</td>\n",
       "      <td>3.0</td>\n",
       "      <td>Low</td>\n",
       "      <td>4.0</td>\n",
       "      <td>Cat_4</td>\n",
       "      <td>D</td>\n",
       "    </tr>\n",
       "    <tr>\n",
       "      <th>8065</th>\n",
       "      <td>Female</td>\n",
       "      <td>No</td>\n",
       "      <td>33</td>\n",
       "      <td>Yes</td>\n",
       "      <td>Healthcare</td>\n",
       "      <td>1.0</td>\n",
       "      <td>Low</td>\n",
       "      <td>1.0</td>\n",
       "      <td>Cat_6</td>\n",
       "      <td>D</td>\n",
       "    </tr>\n",
       "    <tr>\n",
       "      <th>8066</th>\n",
       "      <td>Female</td>\n",
       "      <td>No</td>\n",
       "      <td>27</td>\n",
       "      <td>Yes</td>\n",
       "      <td>Healthcare</td>\n",
       "      <td>1.0</td>\n",
       "      <td>Low</td>\n",
       "      <td>4.0</td>\n",
       "      <td>Cat_6</td>\n",
       "      <td>B</td>\n",
       "    </tr>\n",
       "    <tr>\n",
       "      <th>8067</th>\n",
       "      <td>Male</td>\n",
       "      <td>Yes</td>\n",
       "      <td>37</td>\n",
       "      <td>Yes</td>\n",
       "      <td>Executive</td>\n",
       "      <td>0.0</td>\n",
       "      <td>Average</td>\n",
       "      <td>3.0</td>\n",
       "      <td>Cat_4</td>\n",
       "      <td>B</td>\n",
       "    </tr>\n",
       "  </tbody>\n",
       "</table>\n",
       "<p>8068 rows × 10 columns</p>\n",
       "</div>"
      ],
      "text/plain": [
       "      Gender Ever_Married  Age Graduated     Profession  Work_Experience  \\\n",
       "0       Male           No   22        No     Healthcare              1.0   \n",
       "1     Female          Yes   38       Yes       Engineer              NaN   \n",
       "2     Female          Yes   67       Yes       Engineer              1.0   \n",
       "3       Male          Yes   67       Yes         Lawyer              0.0   \n",
       "4     Female          Yes   40       Yes  Entertainment              NaN   \n",
       "...      ...          ...  ...       ...            ...              ...   \n",
       "8063    Male           No   22        No            NaN              0.0   \n",
       "8064    Male           No   35        No      Executive              3.0   \n",
       "8065  Female           No   33       Yes     Healthcare              1.0   \n",
       "8066  Female           No   27       Yes     Healthcare              1.0   \n",
       "8067    Male          Yes   37       Yes      Executive              0.0   \n",
       "\n",
       "     Spending_Score  Family_Size  Var_1 Segmentation  \n",
       "0               Low          4.0  Cat_4            D  \n",
       "1           Average          3.0  Cat_4            A  \n",
       "2               Low          1.0  Cat_6            B  \n",
       "3              High          2.0  Cat_6            B  \n",
       "4              High          6.0  Cat_6            A  \n",
       "...             ...          ...    ...          ...  \n",
       "8063            Low          7.0  Cat_1            D  \n",
       "8064            Low          4.0  Cat_4            D  \n",
       "8065            Low          1.0  Cat_6            D  \n",
       "8066            Low          4.0  Cat_6            B  \n",
       "8067        Average          3.0  Cat_4            B  \n",
       "\n",
       "[8068 rows x 10 columns]"
      ]
     },
     "execution_count": 155,
     "metadata": {},
     "output_type": "execute_result"
    }
   ],
   "source": [
    "df.drop(['ID'], axis=1)"
   ]
  },
  {
   "cell_type": "code",
   "execution_count": 156,
   "metadata": {
    "execution": {
     "iopub.execute_input": "2021-06-08T09:05:05.300600Z",
     "iopub.status.busy": "2021-06-08T09:05:05.300074Z",
     "iopub.status.idle": "2021-06-08T09:05:05.303280Z",
     "shell.execute_reply": "2021-06-08T09:05:05.302739Z",
     "shell.execute_reply.started": "2021-06-08T09:03:32.748072Z"
    },
    "papermill": {
     "duration": 0.052209,
     "end_time": "2021-06-08T09:05:05.303399",
     "exception": false,
     "start_time": "2021-06-08T09:05:05.251190",
     "status": "completed"
    },
    "tags": []
   },
   "outputs": [
    {
     "data": {
      "text/plain": [
       "D    2268\n",
       "A    1972\n",
       "C    1970\n",
       "B    1858\n",
       "Name: Segmentation, dtype: int64"
      ]
     },
     "execution_count": 156,
     "metadata": {},
     "output_type": "execute_result"
    }
   ],
   "source": [
    "df['Segmentation'].value_counts()"
   ]
  },
  {
   "cell_type": "code",
   "execution_count": 157,
   "metadata": {
    "execution": {
     "iopub.execute_input": "2021-06-08T09:05:05.392930Z",
     "iopub.status.busy": "2021-06-08T09:05:05.392361Z",
     "iopub.status.idle": "2021-06-08T09:05:05.535744Z",
     "shell.execute_reply": "2021-06-08T09:05:05.535161Z",
     "shell.execute_reply.started": "2021-06-08T09:03:32.774776Z"
    },
    "papermill": {
     "duration": 0.190449,
     "end_time": "2021-06-08T09:05:05.535879",
     "exception": false,
     "start_time": "2021-06-08T09:05:05.345430",
     "status": "completed"
    },
    "tags": []
   },
   "outputs": [
    {
     "data": {
      "text/plain": [
       "<AxesSubplot:ylabel='Segmentation'>"
      ]
     },
     "execution_count": 157,
     "metadata": {},
     "output_type": "execute_result"
    },
    {
     "data": {
      "image/png": "[encoded data removed]",
      "text/plain": [
       "<Figure size 432x288 with 1 Axes>"
      ]
     },
     "metadata": {},
     "output_type": "display_data"
    }
   ],
   "source": [
    "df['Segmentation'].value_counts().plot.pie(\n",
    "    #labels=['D','B','C','D'], # 设置饼图标签\n",
    "        colors=[\"#d5695d\", \"#5d8ca8\", \"#65a479\", \"#a564c9\"], # 设置饼图颜色\n",
    "        explode=(0.1, 0, 0, 0), # 第二部分突出显示，值越大，距离中心越远\n",
    "        autopct='%.1f%%')# 格式化输出百分比autopct=%0.1f%% )"
   ]
  },
  {
   "cell_type": "code",
   "execution_count": 158,
   "metadata": {
    "execution": {
     "iopub.execute_input": "2021-06-08T09:05:05.630888Z",
     "iopub.status.busy": "2021-06-08T09:05:05.630102Z",
     "iopub.status.idle": "2021-06-08T09:05:05.633823Z",
     "shell.execute_reply": "2021-06-08T09:05:05.633379Z",
     "shell.execute_reply.started": "2021-06-08T09:03:32.880522Z"
    },
    "papermill": {
     "duration": 0.055145,
     "end_time": "2021-06-08T09:05:05.633957",
     "exception": false,
     "start_time": "2021-06-08T09:05:05.578812",
     "status": "completed"
    },
    "tags": []
   },
   "outputs": [
    {
     "data": {
      "text/plain": [
       "ID                   0\n",
       "Gender               0\n",
       "Ever_Married       140\n",
       "Age                  0\n",
       "Graduated           78\n",
       "Profession         124\n",
       "Work_Experience    829\n",
       "Spending_Score       0\n",
       "Family_Size        335\n",
       "Var_1               76\n",
       "Segmentation         0\n",
       "dtype: int64"
      ]
     },
     "execution_count": 158,
     "metadata": {},
     "output_type": "execute_result"
    }
   ],
   "source": [
    "df.isnull().sum()"
   ]
  },
  {
   "cell_type": "markdown",
   "metadata": {
    "papermill": {
     "duration": 0.042316,
     "end_time": "2021-06-08T09:05:05.718803",
     "exception": false,
     "start_time": "2021-06-08T09:05:05.676487",
     "status": "completed"
    },
    "tags": []
   },
   "source": [
    "#### Finding Categorical Data\n",
    "\n",
    "这类特征通常被称为离散或者分类特征，为object型"
   ]
  },
  {
   "cell_type": "code",
   "execution_count": 159,
   "metadata": {
    "execution": {
     "iopub.execute_input": "2021-06-08T09:05:05.811089Z",
     "iopub.status.busy": "2021-06-08T09:05:05.810437Z",
     "iopub.status.idle": "2021-06-08T09:05:05.814548Z",
     "shell.execute_reply": "2021-06-08T09:05:05.814102Z",
     "shell.execute_reply.started": "2021-06-08T09:03:32.898927Z"
    },
    "papermill": {
     "duration": 0.053188,
     "end_time": "2021-06-08T09:05:05.814685",
     "exception": false,
     "start_time": "2021-06-08T09:05:05.761497",
     "status": "completed"
    },
    "tags": []
   },
   "outputs": [
    {
     "data": {
      "text/plain": [
       "ID                   int64\n",
       "Gender              object\n",
       "Ever_Married        object\n",
       "Age                  int64\n",
       "Graduated           object\n",
       "Profession          object\n",
       "Work_Experience    float64\n",
       "Spending_Score      object\n",
       "Family_Size        float64\n",
       "Var_1               object\n",
       "Segmentation        object\n",
       "dtype: object"
      ]
     },
     "execution_count": 159,
     "metadata": {},
     "output_type": "execute_result"
    }
   ],
   "source": [
    "df.dtypes"
   ]
  },
  {
   "cell_type": "code",
   "execution_count": 160,
   "metadata": {
    "execution": {
     "iopub.execute_input": "2021-06-08T09:05:05.932923Z",
     "iopub.status.busy": "2021-06-08T09:05:05.931839Z",
     "iopub.status.idle": "2021-06-08T09:05:05.937002Z",
     "shell.execute_reply": "2021-06-08T09:05:05.937556Z",
     "shell.execute_reply.started": "2021-06-08T09:03:32.909738Z"
    },
    "papermill": {
     "duration": 0.078237,
     "end_time": "2021-06-08T09:05:05.937963",
     "exception": false,
     "start_time": "2021-06-08T09:05:05.859726",
     "status": "completed"
    },
    "tags": []
   },
   "outputs": [
    {
     "name": "stdout",
     "output_type": "stream",
     "text": [
      "total categorical_features 7\n"
     ]
    }
   ],
   "source": [
    "categorical_features = df.select_dtypes(include=[np.object]).columns\n",
    "print(\"total categorical_features\",len(categorical_features))"
   ]
  },
  {
   "cell_type": "code",
   "execution_count": 161,
   "metadata": {
    "execution": {
     "iopub.execute_input": "2021-06-08T09:05:06.045681Z",
     "iopub.status.busy": "2021-06-08T09:05:06.044781Z",
     "iopub.status.idle": "2021-06-08T09:05:06.061805Z",
     "shell.execute_reply": "2021-06-08T09:05:06.061277Z",
     "shell.execute_reply.started": "2021-06-08T09:03:32.924541Z"
    },
    "papermill": {
     "duration": 0.066599,
     "end_time": "2021-06-08T09:05:06.061945",
     "exception": false,
     "start_time": "2021-06-08T09:05:05.995346",
     "status": "completed"
    },
    "tags": []
   },
   "outputs": [
    {
     "data": {
      "text/html": [
       "<div>\n",
       "<style scoped>\n",
       "    .dataframe tbody tr th:only-of-type {\n",
       "        vertical-align: middle;\n",
       "    }\n",
       "\n",
       "    .dataframe tbody tr th {\n",
       "        vertical-align: top;\n",
       "    }\n",
       "\n",
       "    .dataframe thead th {\n",
       "        text-align: right;\n",
       "    }\n",
       "</style>\n",
       "<table border=\"1\" class=\"dataframe\">\n",
       "  <thead>\n",
       "    <tr style=\"text-align: right;\">\n",
       "      <th></th>\n",
       "      <th>Gender</th>\n",
       "      <th>Ever_Married</th>\n",
       "      <th>Graduated</th>\n",
       "      <th>Profession</th>\n",
       "      <th>Spending_Score</th>\n",
       "      <th>Var_1</th>\n",
       "      <th>Segmentation</th>\n",
       "    </tr>\n",
       "  </thead>\n",
       "  <tbody>\n",
       "    <tr>\n",
       "      <th>0</th>\n",
       "      <td>Male</td>\n",
       "      <td>No</td>\n",
       "      <td>No</td>\n",
       "      <td>Healthcare</td>\n",
       "      <td>Low</td>\n",
       "      <td>Cat_4</td>\n",
       "      <td>D</td>\n",
       "    </tr>\n",
       "    <tr>\n",
       "      <th>1</th>\n",
       "      <td>Female</td>\n",
       "      <td>Yes</td>\n",
       "      <td>Yes</td>\n",
       "      <td>Engineer</td>\n",
       "      <td>Average</td>\n",
       "      <td>Cat_4</td>\n",
       "      <td>A</td>\n",
       "    </tr>\n",
       "    <tr>\n",
       "      <th>2</th>\n",
       "      <td>Female</td>\n",
       "      <td>Yes</td>\n",
       "      <td>Yes</td>\n",
       "      <td>Engineer</td>\n",
       "      <td>Low</td>\n",
       "      <td>Cat_6</td>\n",
       "      <td>B</td>\n",
       "    </tr>\n",
       "    <tr>\n",
       "      <th>3</th>\n",
       "      <td>Male</td>\n",
       "      <td>Yes</td>\n",
       "      <td>Yes</td>\n",
       "      <td>Lawyer</td>\n",
       "      <td>High</td>\n",
       "      <td>Cat_6</td>\n",
       "      <td>B</td>\n",
       "    </tr>\n",
       "    <tr>\n",
       "      <th>4</th>\n",
       "      <td>Female</td>\n",
       "      <td>Yes</td>\n",
       "      <td>Yes</td>\n",
       "      <td>Entertainment</td>\n",
       "      <td>High</td>\n",
       "      <td>Cat_6</td>\n",
       "      <td>A</td>\n",
       "    </tr>\n",
       "    <tr>\n",
       "      <th>...</th>\n",
       "      <td>...</td>\n",
       "      <td>...</td>\n",
       "      <td>...</td>\n",
       "      <td>...</td>\n",
       "      <td>...</td>\n",
       "      <td>...</td>\n",
       "      <td>...</td>\n",
       "    </tr>\n",
       "    <tr>\n",
       "      <th>8063</th>\n",
       "      <td>Male</td>\n",
       "      <td>No</td>\n",
       "      <td>No</td>\n",
       "      <td>NaN</td>\n",
       "      <td>Low</td>\n",
       "      <td>Cat_1</td>\n",
       "      <td>D</td>\n",
       "    </tr>\n",
       "    <tr>\n",
       "      <th>8064</th>\n",
       "      <td>Male</td>\n",
       "      <td>No</td>\n",
       "      <td>No</td>\n",
       "      <td>Executive</td>\n",
       "      <td>Low</td>\n",
       "      <td>Cat_4</td>\n",
       "      <td>D</td>\n",
       "    </tr>\n",
       "    <tr>\n",
       "      <th>8065</th>\n",
       "      <td>Female</td>\n",
       "      <td>No</td>\n",
       "      <td>Yes</td>\n",
       "      <td>Healthcare</td>\n",
       "      <td>Low</td>\n",
       "      <td>Cat_6</td>\n",
       "      <td>D</td>\n",
       "    </tr>\n",
       "    <tr>\n",
       "      <th>8066</th>\n",
       "      <td>Female</td>\n",
       "      <td>No</td>\n",
       "      <td>Yes</td>\n",
       "      <td>Healthcare</td>\n",
       "      <td>Low</td>\n",
       "      <td>Cat_6</td>\n",
       "      <td>B</td>\n",
       "    </tr>\n",
       "    <tr>\n",
       "      <th>8067</th>\n",
       "      <td>Male</td>\n",
       "      <td>Yes</td>\n",
       "      <td>Yes</td>\n",
       "      <td>Executive</td>\n",
       "      <td>Average</td>\n",
       "      <td>Cat_4</td>\n",
       "      <td>B</td>\n",
       "    </tr>\n",
       "  </tbody>\n",
       "</table>\n",
       "<p>8068 rows × 7 columns</p>\n",
       "</div>"
      ],
      "text/plain": [
       "      Gender Ever_Married Graduated     Profession Spending_Score  Var_1  \\\n",
       "0       Male           No        No     Healthcare            Low  Cat_4   \n",
       "1     Female          Yes       Yes       Engineer        Average  Cat_4   \n",
       "2     Female          Yes       Yes       Engineer            Low  Cat_6   \n",
       "3       Male          Yes       Yes         Lawyer           High  Cat_6   \n",
       "4     Female          Yes       Yes  Entertainment           High  Cat_6   \n",
       "...      ...          ...       ...            ...            ...    ...   \n",
       "8063    Male           No        No            NaN            Low  Cat_1   \n",
       "8064    Male           No        No      Executive            Low  Cat_4   \n",
       "8065  Female           No       Yes     Healthcare            Low  Cat_6   \n",
       "8066  Female           No       Yes     Healthcare            Low  Cat_6   \n",
       "8067    Male          Yes       Yes      Executive        Average  Cat_4   \n",
       "\n",
       "     Segmentation  \n",
       "0               D  \n",
       "1               A  \n",
       "2               B  \n",
       "3               B  \n",
       "4               A  \n",
       "...           ...  \n",
       "8063            D  \n",
       "8064            D  \n",
       "8065            D  \n",
       "8066            B  \n",
       "8067            B  \n",
       "\n",
       "[8068 rows x 7 columns]"
      ]
     },
     "execution_count": 161,
     "metadata": {},
     "output_type": "execute_result"
    }
   ],
   "source": [
    "df[categorical_features]"
   ]
  },
  {
   "cell_type": "code",
   "execution_count": 162,
   "metadata": {
    "execution": {
     "iopub.execute_input": "2021-06-08T09:05:06.157282Z",
     "iopub.status.busy": "2021-06-08T09:05:06.156646Z",
     "iopub.status.idle": "2021-06-08T09:05:06.159414Z",
     "shell.execute_reply": "2021-06-08T09:05:06.159937Z",
     "shell.execute_reply.started": "2021-06-08T09:03:32.952963Z"
    },
    "papermill": {
     "duration": 0.053471,
     "end_time": "2021-06-08T09:05:06.160097",
     "exception": false,
     "start_time": "2021-06-08T09:05:06.106626",
     "status": "completed"
    },
    "tags": []
   },
   "outputs": [
    {
     "data": {
      "text/plain": [
       "Male      4417\n",
       "Female    3651\n",
       "Name: Gender, dtype: int64"
      ]
     },
     "execution_count": 162,
     "metadata": {},
     "output_type": "execute_result"
    }
   ],
   "source": [
    "df['Gender'].value_counts()"
   ]
  },
  {
   "cell_type": "code",
   "execution_count": 163,
   "metadata": {
    "execution": {
     "iopub.execute_input": "2021-06-08T09:05:06.250662Z",
     "iopub.status.busy": "2021-06-08T09:05:06.250136Z",
     "iopub.status.idle": "2021-06-08T09:05:06.410732Z",
     "shell.execute_reply": "2021-06-08T09:05:06.410187Z",
     "shell.execute_reply.started": "2021-06-08T09:03:32.968474Z"
    },
    "papermill": {
     "duration": 0.206726,
     "end_time": "2021-06-08T09:05:06.410863",
     "exception": false,
     "start_time": "2021-06-08T09:05:06.204137",
     "status": "completed"
    },
    "tags": []
   },
   "outputs": [
    {
     "data": {
      "image/png": "[encoded data removed]",
      "text/plain": [
       "<Figure size 576x360 with 1 Axes>"
      ]
     },
     "metadata": {
      "needs_background": "light"
     },
     "output_type": "display_data"
    }
   ],
   "source": [
    "plt.figure(figsize=(8,5))\n",
    "f1=sns.countplot(x='Gender',hue='Segmentation',data=df,palette='coolwarm')\n",
    "plt.title(\"Segmentation wrt Gender\")\n",
    "plt.show()\n",
    "fig = f1.get_figure()\n",
    "fig.savefig('1.png', dpi = 400)\n"
   ]
  },
  {
   "cell_type": "code",
   "execution_count": 164,
   "metadata": {
    "execution": {
     "iopub.execute_input": "2021-06-08T09:05:06.507858Z",
     "iopub.status.busy": "2021-06-08T09:05:06.507066Z",
     "iopub.status.idle": "2021-06-08T09:05:06.510646Z",
     "shell.execute_reply": "2021-06-08T09:05:06.510225Z",
     "shell.execute_reply.started": "2021-06-08T09:03:33.172343Z"
    },
    "papermill": {
     "duration": 0.054607,
     "end_time": "2021-06-08T09:05:06.510785",
     "exception": false,
     "start_time": "2021-06-08T09:05:06.456178",
     "status": "completed"
    },
    "tags": []
   },
   "outputs": [
    {
     "data": {
      "text/plain": [
       "Yes    4643\n",
       "No     3285\n",
       "Name: Ever_Married, dtype: int64"
      ]
     },
     "execution_count": 164,
     "metadata": {},
     "output_type": "execute_result"
    }
   ],
   "source": [
    "df['Ever_Married'].value_counts()"
   ]
  },
  {
   "cell_type": "code",
   "execution_count": 165,
   "metadata": {
    "execution": {
     "iopub.execute_input": "2021-06-08T09:05:06.611642Z",
     "iopub.status.busy": "2021-06-08T09:05:06.611058Z",
     "iopub.status.idle": "2021-06-08T09:05:06.765938Z",
     "shell.execute_reply": "2021-06-08T09:05:06.766323Z",
     "shell.execute_reply.started": "2021-06-08T09:03:33.182447Z"
    },
    "papermill": {
     "duration": 0.211071,
     "end_time": "2021-06-08T09:05:06.766496",
     "exception": false,
     "start_time": "2021-06-08T09:05:06.555425",
     "status": "completed"
    },
    "tags": []
   },
   "outputs": [
    {
     "data": {
      "image/png": "[encoded data removed]",
      "text/plain": [
       "<Figure size 576x360 with 1 Axes>"
      ]
     },
     "metadata": {
      "needs_background": "light"
     },
     "output_type": "display_data"
    }
   ],
   "source": [
    "plt.figure(figsize=(8,5))\n",
    "f2=sns.countplot(x='Ever_Married',hue='Segmentation', data=df, palette='coolwarm')#这个颜色简直丑死。\n",
    "plt.title(\"Segmentation wrt Ever_Married\")\n",
    "plt.show()\n",
    "fig = f2.get_figure()\n",
    "fig.savefig('2.png', dpi = 400)"
   ]
  },
  {
   "cell_type": "markdown",
   "metadata": {
    "papermill": {
     "duration": 0.047464,
     "end_time": "2021-06-08T09:05:06.859970",
     "exception": false,
     "start_time": "2021-06-08T09:05:06.812506",
     "status": "completed"
    },
    "tags": []
   },
   "source": [
    "Married people are mostly part of segmentation C, whereas unmarried people are mostly part of segmentation D"
   ]
  },
  {
   "cell_type": "code",
   "execution_count": 166,
   "metadata": {
    "execution": {
     "iopub.execute_input": "2021-06-08T09:05:06.958206Z",
     "iopub.status.busy": "2021-06-08T09:05:06.957621Z",
     "iopub.status.idle": "2021-06-08T09:05:06.962178Z",
     "shell.execute_reply": "2021-06-08T09:05:06.961656Z",
     "shell.execute_reply.started": "2021-06-08T09:03:33.403482Z"
    },
    "papermill": {
     "duration": 0.056781,
     "end_time": "2021-06-08T09:05:06.962301",
     "exception": false,
     "start_time": "2021-06-08T09:05:06.905520",
     "status": "completed"
    },
    "tags": []
   },
   "outputs": [
    {
     "data": {
      "text/plain": [
       "Yes    4968\n",
       "No     3022\n",
       "Name: Graduated, dtype: int64"
      ]
     },
     "execution_count": 166,
     "metadata": {},
     "output_type": "execute_result"
    }
   ],
   "source": [
    "df['Graduated'].value_counts()"
   ]
  },
  {
   "cell_type": "code",
   "execution_count": 167,
   "metadata": {
    "execution": {
     "iopub.execute_input": "2021-06-08T09:05:07.073582Z",
     "iopub.status.busy": "2021-06-08T09:05:07.064957Z",
     "iopub.status.idle": "2021-06-08T09:05:07.229295Z",
     "shell.execute_reply": "2021-06-08T09:05:07.229747Z",
     "shell.execute_reply.started": "2021-06-08T09:03:33.415004Z"
    },
    "papermill": {
     "duration": 0.220687,
     "end_time": "2021-06-08T09:05:07.229929",
     "exception": false,
     "start_time": "2021-06-08T09:05:07.009242",
     "status": "completed"
    },
    "tags": []
   },
   "outputs": [
    {
     "data": {
      "image/png": "[encoded data removed]",
      "text/plain": [
       "<Figure size 576x360 with 1 Axes>"
      ]
     },
     "metadata": {
      "needs_background": "light"
     },
     "output_type": "display_data"
    }
   ],
   "source": [
    "plt.figure(figsize=(8,5))\n",
    "f3=sns.countplot(x='Graduated',hue='Segmentation', data=df, palette='coolwarm')\n",
    "plt.title(\"Segmentation wrt Graduated\")\n",
    "plt.show()\n",
    "fig = f3.get_figure()\n",
    "fig.savefig('3.png', dpi = 400)"
   ]
  },
  {
   "cell_type": "markdown",
   "metadata": {
    "papermill": {
     "duration": 0.046609,
     "end_time": "2021-06-08T09:05:07.323246",
     "exception": false,
     "start_time": "2021-06-08T09:05:07.276637",
     "status": "completed"
    },
    "tags": []
   },
   "source": [
    "Graduated People are mostly part of Segmentation C, whereas Non-graduates are mostly part of segmenation D"
   ]
  },
  {
   "cell_type": "code",
   "execution_count": 168,
   "metadata": {
    "execution": {
     "iopub.execute_input": "2021-06-08T09:05:07.423991Z",
     "iopub.status.busy": "2021-06-08T09:05:07.423215Z",
     "iopub.status.idle": "2021-06-08T09:05:07.427172Z",
     "shell.execute_reply": "2021-06-08T09:05:07.426696Z",
     "shell.execute_reply.started": "2021-06-08T09:03:33.635205Z"
    },
    "papermill": {
     "duration": 0.057364,
     "end_time": "2021-06-08T09:05:07.427298",
     "exception": false,
     "start_time": "2021-06-08T09:05:07.369934",
     "status": "completed"
    },
    "tags": []
   },
   "outputs": [
    {
     "data": {
      "text/plain": [
       "Artist           2516\n",
       "Healthcare       1332\n",
       "Entertainment     949\n",
       "Engineer          699\n",
       "Doctor            688\n",
       "Lawyer            623\n",
       "Executive         599\n",
       "Marketing         292\n",
       "Homemaker         246\n",
       "Name: Profession, dtype: int64"
      ]
     },
     "execution_count": 168,
     "metadata": {},
     "output_type": "execute_result"
    }
   ],
   "source": [
    "df['Profession'].value_counts()"
   ]
  },
  {
   "cell_type": "code",
   "execution_count": 169,
   "metadata": {
    "execution": {
     "iopub.execute_input": "2021-06-08T09:05:07.539759Z",
     "iopub.status.busy": "2021-06-08T09:05:07.531816Z",
     "iopub.status.idle": "2021-06-08T09:05:07.791381Z",
     "shell.execute_reply": "2021-06-08T09:05:07.790853Z",
     "shell.execute_reply.started": "2021-06-08T09:03:33.647923Z"
    },
    "papermill": {
     "duration": 0.317153,
     "end_time": "2021-06-08T09:05:07.791528",
     "exception": false,
     "start_time": "2021-06-08T09:05:07.474375",
     "status": "completed"
    },
    "tags": []
   },
   "outputs": [
    {
     "data": {
      "image/png": "[encoded data removed]",
      "text/plain": [
       "<Figure size 1440x360 with 1 Axes>"
      ]
     },
     "metadata": {
      "needs_background": "light"
     },
     "output_type": "display_data"
    }
   ],
   "source": [
    "plt.figure(figsize=(20,5))\n",
    "f4=sns.countplot(x='Profession',hue='Segmentation', data=df, palette='coolwarm')\n",
    "plt.title(\"Segmentation wrt Profession\")\n",
    "plt.show()\n",
    "fig = f4.get_figure()\n",
    "fig.savefig('4.png', dpi = 400)"
   ]
  },
  {
   "cell_type": "markdown",
   "metadata": {
    "papermill": {
     "duration": 0.048295,
     "end_time": "2021-06-08T09:05:07.888639",
     "exception": false,
     "start_time": "2021-06-08T09:05:07.840344",
     "status": "completed"
    },
    "tags": []
   },
   "source": [
    "Healthcare Workers are mostly part of Segmentation D"
   ]
  },
  {
   "cell_type": "code",
   "execution_count": 170,
   "metadata": {
    "execution": {
     "iopub.execute_input": "2021-06-08T09:05:07.992565Z",
     "iopub.status.busy": "2021-06-08T09:05:07.992008Z",
     "iopub.status.idle": "2021-06-08T09:05:07.995301Z",
     "shell.execute_reply": "2021-06-08T09:05:07.994749Z",
     "shell.execute_reply.started": "2021-06-08T09:03:33.993576Z"
    },
    "papermill": {
     "duration": 0.058167,
     "end_time": "2021-06-08T09:05:07.995435",
     "exception": false,
     "start_time": "2021-06-08T09:05:07.937268",
     "status": "completed"
    },
    "tags": []
   },
   "outputs": [
    {
     "data": {
      "text/plain": [
       "Low        4878\n",
       "Average    1974\n",
       "High       1216\n",
       "Name: Spending_Score, dtype: int64"
      ]
     },
     "execution_count": 170,
     "metadata": {},
     "output_type": "execute_result"
    }
   ],
   "source": [
    "df['Spending_Score'].value_counts()"
   ]
  },
  {
   "cell_type": "code",
   "execution_count": 171,
   "metadata": {
    "execution": {
     "iopub.execute_input": "2021-06-08T09:05:08.102455Z",
     "iopub.status.busy": "2021-06-08T09:05:08.100742Z",
     "iopub.status.idle": "2021-06-08T09:05:08.273654Z",
     "shell.execute_reply": "2021-06-08T09:05:08.272778Z",
     "shell.execute_reply.started": "2021-06-08T09:03:34.004899Z"
    },
    "papermill": {
     "duration": 0.229529,
     "end_time": "2021-06-08T09:05:08.273812",
     "exception": false,
     "start_time": "2021-06-08T09:05:08.044283",
     "status": "completed"
    },
    "tags": []
   },
   "outputs": [
    {
     "data": {
      "image/png": "[encoded data removed]",
      "text/plain": [
       "<Figure size 576x360 with 1 Axes>"
      ]
     },
     "metadata": {
      "needs_background": "light"
     },
     "output_type": "display_data"
    }
   ],
   "source": [
    "plt.figure(figsize=(8,5))\n",
    "f5=sns.countplot(x='Spending_Score',hue='Segmentation', data=df, palette='coolwarm')\n",
    "plt.title(\"Segmentation wrt Spending_Score\")\n",
    "plt.show()\n",
    "fig = f5.get_figure()\n",
    "fig.savefig('5.png', dpi = 400)"
   ]
  },
  {
   "cell_type": "markdown",
   "metadata": {
    "papermill": {
     "duration": 0.049281,
     "end_time": "2021-06-08T09:05:08.371634",
     "exception": false,
     "start_time": "2021-06-08T09:05:08.322353",
     "status": "completed"
    },
    "tags": []
   },
   "source": [
    "People with low spending score are mostly part of Segmentation D"
   ]
  },
  {
   "cell_type": "code",
   "execution_count": 172,
   "metadata": {
    "execution": {
     "iopub.execute_input": "2021-06-08T09:05:08.475770Z",
     "iopub.status.busy": "2021-06-08T09:05:08.474940Z",
     "iopub.status.idle": "2021-06-08T09:05:08.478785Z",
     "shell.execute_reply": "2021-06-08T09:05:08.478366Z",
     "shell.execute_reply.started": "2021-06-08T09:03:34.225506Z"
    },
    "papermill": {
     "duration": 0.059027,
     "end_time": "2021-06-08T09:05:08.478923",
     "exception": false,
     "start_time": "2021-06-08T09:05:08.419896",
     "status": "completed"
    },
    "tags": []
   },
   "outputs": [
    {
     "data": {
      "text/plain": [
       "Cat_6    5238\n",
       "Cat_4    1089\n",
       "Cat_3     822\n",
       "Cat_2     422\n",
       "Cat_7     203\n",
       "Cat_1     133\n",
       "Cat_5      85\n",
       "Name: Var_1, dtype: int64"
      ]
     },
     "execution_count": 172,
     "metadata": {},
     "output_type": "execute_result"
    }
   ],
   "source": [
    "df['Var_1'].value_counts()"
   ]
  },
  {
   "cell_type": "code",
   "execution_count": 173,
   "metadata": {
    "execution": {
     "iopub.execute_input": "2021-06-08T09:05:08.587861Z",
     "iopub.status.busy": "2021-06-08T09:05:08.587193Z",
     "iopub.status.idle": "2021-06-08T09:05:08.926503Z",
     "shell.execute_reply": "2021-06-08T09:05:08.926079Z",
     "shell.execute_reply.started": "2021-06-08T09:03:34.237884Z"
    },
    "papermill": {
     "duration": 0.398844,
     "end_time": "2021-06-08T09:05:08.926632",
     "exception": false,
     "start_time": "2021-06-08T09:05:08.527788",
     "status": "completed"
    },
    "tags": []
   },
   "outputs": [
    {
     "data": {
      "image/png": "[encoded data removed]",
      "text/plain": [
       "<Figure size 1440x360 with 1 Axes>"
      ]
     },
     "metadata": {
      "needs_background": "light"
     },
     "output_type": "display_data"
    }
   ],
   "source": [
    "plt.figure(figsize=(20,5))\n",
    "f6=sns.countplot(x='Var_1',hue='Segmentation', data=df, palette='coolwarm')\n",
    "plt.title(\"Segmentation wrt Var_1\")\n",
    "plt.show()\n",
    "fig = f6.get_figure()\n",
    "fig.savefig('6.png', dpi = 400)"
   ]
  },
  {
   "cell_type": "code",
   "execution_count": 174,
   "metadata": {
    "execution": {
     "iopub.execute_input": "2021-06-08T09:05:09.030524Z",
     "iopub.status.busy": "2021-06-08T09:05:09.029613Z",
     "iopub.status.idle": "2021-06-08T09:05:09.036049Z",
     "shell.execute_reply": "2021-06-08T09:05:09.035627Z",
     "shell.execute_reply.started": "2021-06-08T09:03:34.763885Z"
    },
    "papermill": {
     "duration": 0.060315,
     "end_time": "2021-06-08T09:05:09.036179",
     "exception": false,
     "start_time": "2021-06-08T09:05:08.975864",
     "status": "completed"
    },
    "tags": []
   },
   "outputs": [
    {
     "data": {
      "text/plain": [
       "2.0    2390\n",
       "3.0    1497\n",
       "1.0    1453\n",
       "4.0    1379\n",
       "5.0     612\n",
       "6.0     212\n",
       "7.0      96\n",
       "8.0      50\n",
       "9.0      44\n",
       "Name: Family_Size, dtype: int64"
      ]
     },
     "execution_count": 174,
     "metadata": {},
     "output_type": "execute_result"
    }
   ],
   "source": [
    "df['Family_Size'].value_counts()"
   ]
  },
  {
   "cell_type": "code",
   "execution_count": 175,
   "metadata": {
    "execution": {
     "iopub.execute_input": "2021-06-08T09:05:09.141229Z",
     "iopub.status.busy": "2021-06-08T09:05:09.140651Z",
     "iopub.status.idle": "2021-06-08T09:05:09.402581Z",
     "shell.execute_reply": "2021-06-08T09:05:09.402135Z",
     "shell.execute_reply.started": "2021-06-08T09:03:34.774147Z"
    },
    "papermill": {
     "duration": 0.317186,
     "end_time": "2021-06-08T09:05:09.402732",
     "exception": false,
     "start_time": "2021-06-08T09:05:09.085546",
     "status": "completed"
    },
    "tags": []
   },
   "outputs": [
    {
     "data": {
      "image/png": "[encoded data removed]",
      "text/plain": [
       "<Figure size 1440x360 with 1 Axes>"
      ]
     },
     "metadata": {
      "needs_background": "light"
     },
     "output_type": "display_data"
    }
   ],
   "source": [
    "plt.figure(figsize=(20,5))\n",
    "f7=sns.countplot(x='Family_Size',hue='Segmentation', data=df, palette='coolwarm')\n",
    "plt.title(\"Segmentation wrt Family_Size\")\n",
    "plt.show()\n",
    "fig = f7.get_figure()\n",
    "fig.savefig('7.png', dpi = 400)"
   ]
  },
  {
   "cell_type": "markdown",
   "metadata": {
    "papermill": {
     "duration": 0.049563,
     "end_time": "2021-06-08T09:05:09.502625",
     "exception": false,
     "start_time": "2021-06-08T09:05:09.453062",
     "status": "completed"
    },
    "tags": []
   },
   "source": [
    "### Encoding Categorical Data"
   ]
  },
  {
   "cell_type": "code",
   "execution_count": 176,
   "metadata": {
    "execution": {
     "iopub.execute_input": "2021-06-08T09:05:09.625686Z",
     "iopub.status.busy": "2021-06-08T09:05:09.624884Z",
     "iopub.status.idle": "2021-06-08T09:05:09.628605Z",
     "shell.execute_reply": "2021-06-08T09:05:09.629026Z",
     "shell.execute_reply.started": "2021-06-08T09:03:35.164501Z"
    },
    "papermill": {
     "duration": 0.076843,
     "end_time": "2021-06-08T09:05:09.629291",
     "exception": false,
     "start_time": "2021-06-08T09:05:09.552448",
     "status": "completed"
    },
    "tags": []
   },
   "outputs": [
    {
     "data": {
      "text/html": [
       "<div>\n",
       "<style scoped>\n",
       "    .dataframe tbody tr th:only-of-type {\n",
       "        vertical-align: middle;\n",
       "    }\n",
       "\n",
       "    .dataframe tbody tr th {\n",
       "        vertical-align: top;\n",
       "    }\n",
       "\n",
       "    .dataframe thead th {\n",
       "        text-align: right;\n",
       "    }\n",
       "</style>\n",
       "<table border=\"1\" class=\"dataframe\">\n",
       "  <thead>\n",
       "    <tr style=\"text-align: right;\">\n",
       "      <th></th>\n",
       "      <th>ID</th>\n",
       "      <th>Gender</th>\n",
       "      <th>Ever_Married</th>\n",
       "      <th>Age</th>\n",
       "      <th>Graduated</th>\n",
       "      <th>Profession</th>\n",
       "      <th>Work_Experience</th>\n",
       "      <th>Spending_Score</th>\n",
       "      <th>Family_Size</th>\n",
       "      <th>Var_1</th>\n",
       "      <th>Segmentation</th>\n",
       "    </tr>\n",
       "  </thead>\n",
       "  <tbody>\n",
       "    <tr>\n",
       "      <th>0</th>\n",
       "      <td>462809</td>\n",
       "      <td>Male</td>\n",
       "      <td>No</td>\n",
       "      <td>22</td>\n",
       "      <td>No</td>\n",
       "      <td>Healthcare</td>\n",
       "      <td>1.0</td>\n",
       "      <td>Low</td>\n",
       "      <td>4.0</td>\n",
       "      <td>Cat_4</td>\n",
       "      <td>D</td>\n",
       "    </tr>\n",
       "    <tr>\n",
       "      <th>1</th>\n",
       "      <td>462643</td>\n",
       "      <td>Female</td>\n",
       "      <td>Yes</td>\n",
       "      <td>38</td>\n",
       "      <td>Yes</td>\n",
       "      <td>Engineer</td>\n",
       "      <td>NaN</td>\n",
       "      <td>Average</td>\n",
       "      <td>3.0</td>\n",
       "      <td>Cat_4</td>\n",
       "      <td>A</td>\n",
       "    </tr>\n",
       "    <tr>\n",
       "      <th>2</th>\n",
       "      <td>466315</td>\n",
       "      <td>Female</td>\n",
       "      <td>Yes</td>\n",
       "      <td>67</td>\n",
       "      <td>Yes</td>\n",
       "      <td>Engineer</td>\n",
       "      <td>1.0</td>\n",
       "      <td>Low</td>\n",
       "      <td>1.0</td>\n",
       "      <td>Cat_6</td>\n",
       "      <td>B</td>\n",
       "    </tr>\n",
       "    <tr>\n",
       "      <th>3</th>\n",
       "      <td>461735</td>\n",
       "      <td>Male</td>\n",
       "      <td>Yes</td>\n",
       "      <td>67</td>\n",
       "      <td>Yes</td>\n",
       "      <td>Lawyer</td>\n",
       "      <td>0.0</td>\n",
       "      <td>High</td>\n",
       "      <td>2.0</td>\n",
       "      <td>Cat_6</td>\n",
       "      <td>B</td>\n",
       "    </tr>\n",
       "    <tr>\n",
       "      <th>4</th>\n",
       "      <td>462669</td>\n",
       "      <td>Female</td>\n",
       "      <td>Yes</td>\n",
       "      <td>40</td>\n",
       "      <td>Yes</td>\n",
       "      <td>Entertainment</td>\n",
       "      <td>NaN</td>\n",
       "      <td>High</td>\n",
       "      <td>6.0</td>\n",
       "      <td>Cat_6</td>\n",
       "      <td>A</td>\n",
       "    </tr>\n",
       "    <tr>\n",
       "      <th>...</th>\n",
       "      <td>...</td>\n",
       "      <td>...</td>\n",
       "      <td>...</td>\n",
       "      <td>...</td>\n",
       "      <td>...</td>\n",
       "      <td>...</td>\n",
       "      <td>...</td>\n",
       "      <td>...</td>\n",
       "      <td>...</td>\n",
       "      <td>...</td>\n",
       "      <td>...</td>\n",
       "    </tr>\n",
       "    <tr>\n",
       "      <th>8063</th>\n",
       "      <td>464018</td>\n",
       "      <td>Male</td>\n",
       "      <td>No</td>\n",
       "      <td>22</td>\n",
       "      <td>No</td>\n",
       "      <td>NaN</td>\n",
       "      <td>0.0</td>\n",
       "      <td>Low</td>\n",
       "      <td>7.0</td>\n",
       "      <td>Cat_1</td>\n",
       "      <td>D</td>\n",
       "    </tr>\n",
       "    <tr>\n",
       "      <th>8064</th>\n",
       "      <td>464685</td>\n",
       "      <td>Male</td>\n",
       "      <td>No</td>\n",
       "      <td>35</td>\n",
       "      <td>No</td>\n",
       "      <td>Executive</td>\n",
       "      <td>3.0</td>\n",
       "      <td>Low</td>\n",
       "      <td>4.0</td>\n",
       "      <td>Cat_4</td>\n",
       "      <td>D</td>\n",
       "    </tr>\n",
       "    <tr>\n",
       "      <th>8065</th>\n",
       "      <td>465406</td>\n",
       "      <td>Female</td>\n",
       "      <td>No</td>\n",
       "      <td>33</td>\n",
       "      <td>Yes</td>\n",
       "      <td>Healthcare</td>\n",
       "      <td>1.0</td>\n",
       "      <td>Low</td>\n",
       "      <td>1.0</td>\n",
       "      <td>Cat_6</td>\n",
       "      <td>D</td>\n",
       "    </tr>\n",
       "    <tr>\n",
       "      <th>8066</th>\n",
       "      <td>467299</td>\n",
       "      <td>Female</td>\n",
       "      <td>No</td>\n",
       "      <td>27</td>\n",
       "      <td>Yes</td>\n",
       "      <td>Healthcare</td>\n",
       "      <td>1.0</td>\n",
       "      <td>Low</td>\n",
       "      <td>4.0</td>\n",
       "      <td>Cat_6</td>\n",
       "      <td>B</td>\n",
       "    </tr>\n",
       "    <tr>\n",
       "      <th>8067</th>\n",
       "      <td>461879</td>\n",
       "      <td>Male</td>\n",
       "      <td>Yes</td>\n",
       "      <td>37</td>\n",
       "      <td>Yes</td>\n",
       "      <td>Executive</td>\n",
       "      <td>0.0</td>\n",
       "      <td>Average</td>\n",
       "      <td>3.0</td>\n",
       "      <td>Cat_4</td>\n",
       "      <td>B</td>\n",
       "    </tr>\n",
       "  </tbody>\n",
       "</table>\n",
       "<p>8068 rows × 11 columns</p>\n",
       "</div>"
      ],
      "text/plain": [
       "          ID  Gender Ever_Married  Age Graduated     Profession  \\\n",
       "0     462809    Male           No   22        No     Healthcare   \n",
       "1     462643  Female          Yes   38       Yes       Engineer   \n",
       "2     466315  Female          Yes   67       Yes       Engineer   \n",
       "3     461735    Male          Yes   67       Yes         Lawyer   \n",
       "4     462669  Female          Yes   40       Yes  Entertainment   \n",
       "...      ...     ...          ...  ...       ...            ...   \n",
       "8063  464018    Male           No   22        No            NaN   \n",
       "8064  464685    Male           No   35        No      Executive   \n",
       "8065  465406  Female           No   33       Yes     Healthcare   \n",
       "8066  467299  Female           No   27       Yes     Healthcare   \n",
       "8067  461879    Male          Yes   37       Yes      Executive   \n",
       "\n",
       "      Work_Experience Spending_Score  Family_Size  Var_1 Segmentation  \n",
       "0                 1.0            Low          4.0  Cat_4            D  \n",
       "1                 NaN        Average          3.0  Cat_4            A  \n",
       "2                 1.0            Low          1.0  Cat_6            B  \n",
       "3                 0.0           High          2.0  Cat_6            B  \n",
       "4                 NaN           High          6.0  Cat_6            A  \n",
       "...               ...            ...          ...    ...          ...  \n",
       "8063              0.0            Low          7.0  Cat_1            D  \n",
       "8064              3.0            Low          4.0  Cat_4            D  \n",
       "8065              1.0            Low          1.0  Cat_6            D  \n",
       "8066              1.0            Low          4.0  Cat_6            B  \n",
       "8067              0.0        Average          3.0  Cat_4            B  \n",
       "\n",
       "[8068 rows x 11 columns]"
      ]
     },
     "execution_count": 176,
     "metadata": {},
     "output_type": "execute_result"
    }
   ],
   "source": [
    "df"
   ]
  },
  {
   "cell_type": "code",
   "execution_count": 177,
   "metadata": {
    "execution": {
     "iopub.execute_input": "2021-06-08T09:05:09.737560Z",
     "iopub.status.busy": "2021-06-08T09:05:09.736900Z",
     "iopub.status.idle": "2021-06-08T09:05:09.739873Z",
     "shell.execute_reply": "2021-06-08T09:05:09.740248Z",
     "shell.execute_reply.started": "2021-06-08T09:03:35.194701Z"
    },
    "papermill": {
     "duration": 0.059976,
     "end_time": "2021-06-08T09:05:09.740423",
     "exception": false,
     "start_time": "2021-06-08T09:05:09.680447",
     "status": "completed"
    },
    "tags": []
   },
   "outputs": [],
   "source": [
    "df = df.drop(['ID'], axis=1)"
   ]
  },
  {
   "cell_type": "code",
   "execution_count": 178,
   "metadata": {
    "execution": {
     "iopub.execute_input": "2021-06-08T09:05:09.863978Z",
     "iopub.status.busy": "2021-06-08T09:05:09.863396Z",
     "iopub.status.idle": "2021-06-08T09:05:09.868905Z",
     "shell.execute_reply": "2021-06-08T09:05:09.868353Z",
     "shell.execute_reply.started": "2021-06-08T09:03:35.212938Z"
    },
    "papermill": {
     "duration": 0.07793,
     "end_time": "2021-06-08T09:05:09.869036",
     "exception": false,
     "start_time": "2021-06-08T09:05:09.791106",
     "status": "completed"
    },
    "tags": []
   },
   "outputs": [
    {
     "data": {
      "text/html": [
       "<div>\n",
       "<style scoped>\n",
       "    .dataframe tbody tr th:only-of-type {\n",
       "        vertical-align: middle;\n",
       "    }\n",
       "\n",
       "    .dataframe tbody tr th {\n",
       "        vertical-align: top;\n",
       "    }\n",
       "\n",
       "    .dataframe thead th {\n",
       "        text-align: right;\n",
       "    }\n",
       "</style>\n",
       "<table border=\"1\" class=\"dataframe\">\n",
       "  <thead>\n",
       "    <tr style=\"text-align: right;\">\n",
       "      <th></th>\n",
       "      <th>Gender</th>\n",
       "      <th>Ever_Married</th>\n",
       "      <th>Age</th>\n",
       "      <th>Graduated</th>\n",
       "      <th>Profession</th>\n",
       "      <th>Work_Experience</th>\n",
       "      <th>Spending_Score</th>\n",
       "      <th>Family_Size</th>\n",
       "      <th>Var_1</th>\n",
       "      <th>Segmentation</th>\n",
       "    </tr>\n",
       "  </thead>\n",
       "  <tbody>\n",
       "    <tr>\n",
       "      <th>0</th>\n",
       "      <td>Male</td>\n",
       "      <td>No</td>\n",
       "      <td>22</td>\n",
       "      <td>No</td>\n",
       "      <td>Healthcare</td>\n",
       "      <td>1.0</td>\n",
       "      <td>Low</td>\n",
       "      <td>4.0</td>\n",
       "      <td>Cat_4</td>\n",
       "      <td>D</td>\n",
       "    </tr>\n",
       "    <tr>\n",
       "      <th>1</th>\n",
       "      <td>Female</td>\n",
       "      <td>Yes</td>\n",
       "      <td>38</td>\n",
       "      <td>Yes</td>\n",
       "      <td>Engineer</td>\n",
       "      <td>NaN</td>\n",
       "      <td>Average</td>\n",
       "      <td>3.0</td>\n",
       "      <td>Cat_4</td>\n",
       "      <td>A</td>\n",
       "    </tr>\n",
       "    <tr>\n",
       "      <th>2</th>\n",
       "      <td>Female</td>\n",
       "      <td>Yes</td>\n",
       "      <td>67</td>\n",
       "      <td>Yes</td>\n",
       "      <td>Engineer</td>\n",
       "      <td>1.0</td>\n",
       "      <td>Low</td>\n",
       "      <td>1.0</td>\n",
       "      <td>Cat_6</td>\n",
       "      <td>B</td>\n",
       "    </tr>\n",
       "    <tr>\n",
       "      <th>3</th>\n",
       "      <td>Male</td>\n",
       "      <td>Yes</td>\n",
       "      <td>67</td>\n",
       "      <td>Yes</td>\n",
       "      <td>Lawyer</td>\n",
       "      <td>0.0</td>\n",
       "      <td>High</td>\n",
       "      <td>2.0</td>\n",
       "      <td>Cat_6</td>\n",
       "      <td>B</td>\n",
       "    </tr>\n",
       "    <tr>\n",
       "      <th>4</th>\n",
       "      <td>Female</td>\n",
       "      <td>Yes</td>\n",
       "      <td>40</td>\n",
       "      <td>Yes</td>\n",
       "      <td>Entertainment</td>\n",
       "      <td>NaN</td>\n",
       "      <td>High</td>\n",
       "      <td>6.0</td>\n",
       "      <td>Cat_6</td>\n",
       "      <td>A</td>\n",
       "    </tr>\n",
       "    <tr>\n",
       "      <th>...</th>\n",
       "      <td>...</td>\n",
       "      <td>...</td>\n",
       "      <td>...</td>\n",
       "      <td>...</td>\n",
       "      <td>...</td>\n",
       "      <td>...</td>\n",
       "      <td>...</td>\n",
       "      <td>...</td>\n",
       "      <td>...</td>\n",
       "      <td>...</td>\n",
       "    </tr>\n",
       "    <tr>\n",
       "      <th>8063</th>\n",
       "      <td>Male</td>\n",
       "      <td>No</td>\n",
       "      <td>22</td>\n",
       "      <td>No</td>\n",
       "      <td>NaN</td>\n",
       "      <td>0.0</td>\n",
       "      <td>Low</td>\n",
       "      <td>7.0</td>\n",
       "      <td>Cat_1</td>\n",
       "      <td>D</td>\n",
       "    </tr>\n",
       "    <tr>\n",
       "      <th>8064</th>\n",
       "      <td>Male</td>\n",
       "      <td>No</td>\n",
       "      <td>35</td>\n",
       "      <td>No</td>\n",
       "      <td>Executive</td>\n",
       "      <td>3.0</td>\n",
       "      <td>Low</td>\n",
       "      <td>4.0</td>\n",
       "      <td>Cat_4</td>\n",
       "      <td>D</td>\n",
       "    </tr>\n",
       "    <tr>\n",
       "      <th>8065</th>\n",
       "      <td>Female</td>\n",
       "      <td>No</td>\n",
       "      <td>33</td>\n",
       "      <td>Yes</td>\n",
       "      <td>Healthcare</td>\n",
       "      <td>1.0</td>\n",
       "      <td>Low</td>\n",
       "      <td>1.0</td>\n",
       "      <td>Cat_6</td>\n",
       "      <td>D</td>\n",
       "    </tr>\n",
       "    <tr>\n",
       "      <th>8066</th>\n",
       "      <td>Female</td>\n",
       "      <td>No</td>\n",
       "      <td>27</td>\n",
       "      <td>Yes</td>\n",
       "      <td>Healthcare</td>\n",
       "      <td>1.0</td>\n",
       "      <td>Low</td>\n",
       "      <td>4.0</td>\n",
       "      <td>Cat_6</td>\n",
       "      <td>B</td>\n",
       "    </tr>\n",
       "    <tr>\n",
       "      <th>8067</th>\n",
       "      <td>Male</td>\n",
       "      <td>Yes</td>\n",
       "      <td>37</td>\n",
       "      <td>Yes</td>\n",
       "      <td>Executive</td>\n",
       "      <td>0.0</td>\n",
       "      <td>Average</td>\n",
       "      <td>3.0</td>\n",
       "      <td>Cat_4</td>\n",
       "      <td>B</td>\n",
       "    </tr>\n",
       "  </tbody>\n",
       "</table>\n",
       "<p>8068 rows × 10 columns</p>\n",
       "</div>"
      ],
      "text/plain": [
       "      Gender Ever_Married  Age Graduated     Profession  Work_Experience  \\\n",
       "0       Male           No   22        No     Healthcare              1.0   \n",
       "1     Female          Yes   38       Yes       Engineer              NaN   \n",
       "2     Female          Yes   67       Yes       Engineer              1.0   \n",
       "3       Male          Yes   67       Yes         Lawyer              0.0   \n",
       "4     Female          Yes   40       Yes  Entertainment              NaN   \n",
       "...      ...          ...  ...       ...            ...              ...   \n",
       "8063    Male           No   22        No            NaN              0.0   \n",
       "8064    Male           No   35        No      Executive              3.0   \n",
       "8065  Female           No   33       Yes     Healthcare              1.0   \n",
       "8066  Female           No   27       Yes     Healthcare              1.0   \n",
       "8067    Male          Yes   37       Yes      Executive              0.0   \n",
       "\n",
       "     Spending_Score  Family_Size  Var_1 Segmentation  \n",
       "0               Low          4.0  Cat_4            D  \n",
       "1           Average          3.0  Cat_4            A  \n",
       "2               Low          1.0  Cat_6            B  \n",
       "3              High          2.0  Cat_6            B  \n",
       "4              High          6.0  Cat_6            A  \n",
       "...             ...          ...    ...          ...  \n",
       "8063            Low          7.0  Cat_1            D  \n",
       "8064            Low          4.0  Cat_4            D  \n",
       "8065            Low          1.0  Cat_6            D  \n",
       "8066            Low          4.0  Cat_6            B  \n",
       "8067        Average          3.0  Cat_4            B  \n",
       "\n",
       "[8068 rows x 10 columns]"
      ]
     },
     "execution_count": 178,
     "metadata": {},
     "output_type": "execute_result"
    }
   ],
   "source": [
    "df"
   ]
  },
  {
   "cell_type": "code",
   "execution_count": 179,
   "metadata": {
    "execution": {
     "iopub.execute_input": "2021-06-08T09:05:09.982037Z",
     "iopub.status.busy": "2021-06-08T09:05:09.978071Z",
     "iopub.status.idle": "2021-06-08T09:05:09.984671Z",
     "shell.execute_reply": "2021-06-08T09:05:09.984123Z",
     "shell.execute_reply.started": "2021-06-08T09:03:35.252882Z"
    },
    "papermill": {
     "duration": 0.064535,
     "end_time": "2021-06-08T09:05:09.984835",
     "exception": false,
     "start_time": "2021-06-08T09:05:09.920300",
     "status": "completed"
    },
    "tags": []
   },
   "outputs": [],
   "source": [
    "# Replacing Male with 0 and Female with 1 in Gender column\n",
    "df['Gender'] = df['Gender'].replace({'Male':0,'Female':1})"
   ]
  },
  {
   "cell_type": "code",
   "execution_count": 180,
   "metadata": {
    "execution": {
     "iopub.execute_input": "2021-06-08T09:05:10.095481Z",
     "iopub.status.busy": "2021-06-08T09:05:10.094753Z",
     "iopub.status.idle": "2021-06-08T09:05:10.097522Z",
     "shell.execute_reply": "2021-06-08T09:05:10.097991Z",
     "shell.execute_reply.started": "2021-06-08T09:03:35.267598Z"
    },
    "papermill": {
     "duration": 0.061993,
     "end_time": "2021-06-08T09:05:10.098149",
     "exception": false,
     "start_time": "2021-06-08T09:05:10.036156",
     "status": "completed"
    },
    "tags": []
   },
   "outputs": [],
   "source": [
    "# Replacing No with 0 and Yes with 1 in Ever_Married column\n",
    "df['Ever_Married'] = df['Ever_Married'].replace({'No':0,'Yes':1})"
   ]
  },
  {
   "cell_type": "code",
   "execution_count": 181,
   "metadata": {
    "execution": {
     "iopub.execute_input": "2021-06-08T09:05:10.205502Z",
     "iopub.status.busy": "2021-06-08T09:05:10.204597Z",
     "iopub.status.idle": "2021-06-08T09:05:10.213594Z",
     "shell.execute_reply": "2021-06-08T09:05:10.213138Z",
     "shell.execute_reply.started": "2021-06-08T09:03:35.285998Z"
    },
    "papermill": {
     "duration": 0.06336,
     "end_time": "2021-06-08T09:05:10.213749",
     "exception": false,
     "start_time": "2021-06-08T09:05:10.150389",
     "status": "completed"
    },
    "tags": []
   },
   "outputs": [],
   "source": [
    "# Replacing No with 0 and Yes with 1 in Graduated column\n",
    "df['Graduated'] = df['Graduated'].replace({'No':0,'Yes':1})"
   ]
  },
  {
   "cell_type": "code",
   "execution_count": 182,
   "metadata": {
    "execution": {
     "iopub.execute_input": "2021-06-08T09:05:10.319447Z",
     "iopub.status.busy": "2021-06-08T09:05:10.318867Z",
     "iopub.status.idle": "2021-06-08T09:05:10.340537Z",
     "shell.execute_reply": "2021-06-08T09:05:10.340938Z",
     "shell.execute_reply.started": "2021-06-08T09:03:35.304501Z"
    },
    "papermill": {
     "duration": 0.075735,
     "end_time": "2021-06-08T09:05:10.341101",
     "exception": false,
     "start_time": "2021-06-08T09:05:10.265366",
     "status": "completed"
    },
    "tags": []
   },
   "outputs": [
    {
     "data": {
      "text/html": [
       "<div>\n",
       "<style scoped>\n",
       "    .dataframe tbody tr th:only-of-type {\n",
       "        vertical-align: middle;\n",
       "    }\n",
       "\n",
       "    .dataframe tbody tr th {\n",
       "        vertical-align: top;\n",
       "    }\n",
       "\n",
       "    .dataframe thead th {\n",
       "        text-align: right;\n",
       "    }\n",
       "</style>\n",
       "<table border=\"1\" class=\"dataframe\">\n",
       "  <thead>\n",
       "    <tr style=\"text-align: right;\">\n",
       "      <th></th>\n",
       "      <th>Gender</th>\n",
       "      <th>Ever_Married</th>\n",
       "      <th>Age</th>\n",
       "      <th>Graduated</th>\n",
       "      <th>Profession</th>\n",
       "      <th>Work_Experience</th>\n",
       "      <th>Spending_Score</th>\n",
       "      <th>Family_Size</th>\n",
       "      <th>Var_1</th>\n",
       "      <th>Segmentation</th>\n",
       "    </tr>\n",
       "  </thead>\n",
       "  <tbody>\n",
       "    <tr>\n",
       "      <th>0</th>\n",
       "      <td>0</td>\n",
       "      <td>0.0</td>\n",
       "      <td>22</td>\n",
       "      <td>0.0</td>\n",
       "      <td>Healthcare</td>\n",
       "      <td>1.0</td>\n",
       "      <td>Low</td>\n",
       "      <td>4.0</td>\n",
       "      <td>Cat_4</td>\n",
       "      <td>D</td>\n",
       "    </tr>\n",
       "    <tr>\n",
       "      <th>1</th>\n",
       "      <td>1</td>\n",
       "      <td>1.0</td>\n",
       "      <td>38</td>\n",
       "      <td>1.0</td>\n",
       "      <td>Engineer</td>\n",
       "      <td>NaN</td>\n",
       "      <td>Average</td>\n",
       "      <td>3.0</td>\n",
       "      <td>Cat_4</td>\n",
       "      <td>A</td>\n",
       "    </tr>\n",
       "    <tr>\n",
       "      <th>2</th>\n",
       "      <td>1</td>\n",
       "      <td>1.0</td>\n",
       "      <td>67</td>\n",
       "      <td>1.0</td>\n",
       "      <td>Engineer</td>\n",
       "      <td>1.0</td>\n",
       "      <td>Low</td>\n",
       "      <td>1.0</td>\n",
       "      <td>Cat_6</td>\n",
       "      <td>B</td>\n",
       "    </tr>\n",
       "    <tr>\n",
       "      <th>3</th>\n",
       "      <td>0</td>\n",
       "      <td>1.0</td>\n",
       "      <td>67</td>\n",
       "      <td>1.0</td>\n",
       "      <td>Lawyer</td>\n",
       "      <td>0.0</td>\n",
       "      <td>High</td>\n",
       "      <td>2.0</td>\n",
       "      <td>Cat_6</td>\n",
       "      <td>B</td>\n",
       "    </tr>\n",
       "    <tr>\n",
       "      <th>4</th>\n",
       "      <td>1</td>\n",
       "      <td>1.0</td>\n",
       "      <td>40</td>\n",
       "      <td>1.0</td>\n",
       "      <td>Entertainment</td>\n",
       "      <td>NaN</td>\n",
       "      <td>High</td>\n",
       "      <td>6.0</td>\n",
       "      <td>Cat_6</td>\n",
       "      <td>A</td>\n",
       "    </tr>\n",
       "    <tr>\n",
       "      <th>...</th>\n",
       "      <td>...</td>\n",
       "      <td>...</td>\n",
       "      <td>...</td>\n",
       "      <td>...</td>\n",
       "      <td>...</td>\n",
       "      <td>...</td>\n",
       "      <td>...</td>\n",
       "      <td>...</td>\n",
       "      <td>...</td>\n",
       "      <td>...</td>\n",
       "    </tr>\n",
       "    <tr>\n",
       "      <th>8063</th>\n",
       "      <td>0</td>\n",
       "      <td>0.0</td>\n",
       "      <td>22</td>\n",
       "      <td>0.0</td>\n",
       "      <td>NaN</td>\n",
       "      <td>0.0</td>\n",
       "      <td>Low</td>\n",
       "      <td>7.0</td>\n",
       "      <td>Cat_1</td>\n",
       "      <td>D</td>\n",
       "    </tr>\n",
       "    <tr>\n",
       "      <th>8064</th>\n",
       "      <td>0</td>\n",
       "      <td>0.0</td>\n",
       "      <td>35</td>\n",
       "      <td>0.0</td>\n",
       "      <td>Executive</td>\n",
       "      <td>3.0</td>\n",
       "      <td>Low</td>\n",
       "      <td>4.0</td>\n",
       "      <td>Cat_4</td>\n",
       "      <td>D</td>\n",
       "    </tr>\n",
       "    <tr>\n",
       "      <th>8065</th>\n",
       "      <td>1</td>\n",
       "      <td>0.0</td>\n",
       "      <td>33</td>\n",
       "      <td>1.0</td>\n",
       "      <td>Healthcare</td>\n",
       "      <td>1.0</td>\n",
       "      <td>Low</td>\n",
       "      <td>1.0</td>\n",
       "      <td>Cat_6</td>\n",
       "      <td>D</td>\n",
       "    </tr>\n",
       "    <tr>\n",
       "      <th>8066</th>\n",
       "      <td>1</td>\n",
       "      <td>0.0</td>\n",
       "      <td>27</td>\n",
       "      <td>1.0</td>\n",
       "      <td>Healthcare</td>\n",
       "      <td>1.0</td>\n",
       "      <td>Low</td>\n",
       "      <td>4.0</td>\n",
       "      <td>Cat_6</td>\n",
       "      <td>B</td>\n",
       "    </tr>\n",
       "    <tr>\n",
       "      <th>8067</th>\n",
       "      <td>0</td>\n",
       "      <td>1.0</td>\n",
       "      <td>37</td>\n",
       "      <td>1.0</td>\n",
       "      <td>Executive</td>\n",
       "      <td>0.0</td>\n",
       "      <td>Average</td>\n",
       "      <td>3.0</td>\n",
       "      <td>Cat_4</td>\n",
       "      <td>B</td>\n",
       "    </tr>\n",
       "  </tbody>\n",
       "</table>\n",
       "<p>8068 rows × 10 columns</p>\n",
       "</div>"
      ],
      "text/plain": [
       "      Gender  Ever_Married  Age  Graduated     Profession  Work_Experience  \\\n",
       "0          0           0.0   22        0.0     Healthcare              1.0   \n",
       "1          1           1.0   38        1.0       Engineer              NaN   \n",
       "2          1           1.0   67        1.0       Engineer              1.0   \n",
       "3          0           1.0   67        1.0         Lawyer              0.0   \n",
       "4          1           1.0   40        1.0  Entertainment              NaN   \n",
       "...      ...           ...  ...        ...            ...              ...   \n",
       "8063       0           0.0   22        0.0            NaN              0.0   \n",
       "8064       0           0.0   35        0.0      Executive              3.0   \n",
       "8065       1           0.0   33        1.0     Healthcare              1.0   \n",
       "8066       1           0.0   27        1.0     Healthcare              1.0   \n",
       "8067       0           1.0   37        1.0      Executive              0.0   \n",
       "\n",
       "     Spending_Score  Family_Size  Var_1 Segmentation  \n",
       "0               Low          4.0  Cat_4            D  \n",
       "1           Average          3.0  Cat_4            A  \n",
       "2               Low          1.0  Cat_6            B  \n",
       "3              High          2.0  Cat_6            B  \n",
       "4              High          6.0  Cat_6            A  \n",
       "...             ...          ...    ...          ...  \n",
       "8063            Low          7.0  Cat_1            D  \n",
       "8064            Low          4.0  Cat_4            D  \n",
       "8065            Low          1.0  Cat_6            D  \n",
       "8066            Low          4.0  Cat_6            B  \n",
       "8067        Average          3.0  Cat_4            B  \n",
       "\n",
       "[8068 rows x 10 columns]"
      ]
     },
     "execution_count": 182,
     "metadata": {},
     "output_type": "execute_result"
    }
   ],
   "source": [
    "df"
   ]
  },
  {
   "cell_type": "code",
   "execution_count": 183,
   "metadata": {
    "execution": {
     "iopub.execute_input": "2021-06-08T09:05:10.451445Z",
     "iopub.status.busy": "2021-06-08T09:05:10.449622Z",
     "iopub.status.idle": "2021-06-08T09:05:10.455227Z",
     "shell.execute_reply": "2021-06-08T09:05:10.454669Z",
     "shell.execute_reply.started": "2021-06-08T09:03:35.348784Z"
    },
    "papermill": {
     "duration": 0.062587,
     "end_time": "2021-06-08T09:05:10.455357",
     "exception": false,
     "start_time": "2021-06-08T09:05:10.392770",
     "status": "completed"
    },
    "tags": []
   },
   "outputs": [
    {
     "data": {
      "text/plain": [
       "Low        4878\n",
       "Average    1974\n",
       "High       1216\n",
       "Name: Spending_Score, dtype: int64"
      ]
     },
     "execution_count": 183,
     "metadata": {},
     "output_type": "execute_result"
    }
   ],
   "source": [
    "df['Spending_Score'].value_counts()"
   ]
  },
  {
   "cell_type": "code",
   "execution_count": 184,
   "metadata": {
    "execution": {
     "iopub.execute_input": "2021-06-08T09:05:10.568568Z",
     "iopub.status.busy": "2021-06-08T09:05:10.567871Z",
     "iopub.status.idle": "2021-06-08T09:05:10.571012Z",
     "shell.execute_reply": "2021-06-08T09:05:10.571450Z",
     "shell.execute_reply.started": "2021-06-08T09:03:35.363381Z"
    },
    "papermill": {
     "duration": 0.064359,
     "end_time": "2021-06-08T09:05:10.571612",
     "exception": false,
     "start_time": "2021-06-08T09:05:10.507253",
     "status": "completed"
    },
    "tags": []
   },
   "outputs": [],
   "source": [
    "# Replacing Low with 0, Average with 1 and High with 2 in Spending_Score column\n",
    "df['Spending_Score'] = df['Spending_Score'].replace({'Low':0,'Average':1,'High':2})"
   ]
  },
  {
   "cell_type": "code",
   "execution_count": 185,
   "metadata": {
    "execution": {
     "iopub.execute_input": "2021-06-08T09:05:10.683549Z",
     "iopub.status.busy": "2021-06-08T09:05:10.682752Z",
     "iopub.status.idle": "2021-06-08T09:05:10.686871Z",
     "shell.execute_reply": "2021-06-08T09:05:10.686332Z",
     "shell.execute_reply.started": "2021-06-08T09:03:35.381127Z"
    },
    "papermill": {
     "duration": 0.063218,
     "end_time": "2021-06-08T09:05:10.686997",
     "exception": false,
     "start_time": "2021-06-08T09:05:10.623779",
     "status": "completed"
    },
    "tags": []
   },
   "outputs": [
    {
     "data": {
      "text/plain": [
       "Cat_6    5238\n",
       "Cat_4    1089\n",
       "Cat_3     822\n",
       "Cat_2     422\n",
       "Cat_7     203\n",
       "Cat_1     133\n",
       "Cat_5      85\n",
       "Name: Var_1, dtype: int64"
      ]
     },
     "execution_count": 185,
     "metadata": {},
     "output_type": "execute_result"
    }
   ],
   "source": [
    "df['Var_1'].value_counts()"
   ]
  },
  {
   "cell_type": "code",
   "execution_count": 186,
   "metadata": {
    "execution": {
     "iopub.execute_input": "2021-06-08T09:05:10.798324Z",
     "iopub.status.busy": "2021-06-08T09:05:10.797428Z",
     "iopub.status.idle": "2021-06-08T09:05:10.805353Z",
     "shell.execute_reply": "2021-06-08T09:05:10.804761Z",
     "shell.execute_reply.started": "2021-06-08T09:03:35.394798Z"
    },
    "papermill": {
     "duration": 0.066197,
     "end_time": "2021-06-08T09:05:10.805482",
     "exception": false,
     "start_time": "2021-06-08T09:05:10.739285",
     "status": "completed"
    },
    "tags": []
   },
   "outputs": [],
   "source": [
    "# Replacing Cat_1 with 1, Cat_2 with 2, Cat_3 with 3, Cat4 with 4, Cat_5 with 5, Cat_6 with 6, and Cat_7 with 7 in Var_1 column\n",
    "df['Var_1'] = df['Var_1'].replace({'Cat_1':0,'Cat_2':1,'Cat_3':2,'Cat_4':3,'Cat_5':4,'Cat_6':5,'Cat_7':6})"
   ]
  },
  {
   "cell_type": "code",
   "execution_count": 187,
   "metadata": {
    "execution": {
     "iopub.execute_input": "2021-06-08T09:05:10.917999Z",
     "iopub.status.busy": "2021-06-08T09:05:10.917086Z",
     "iopub.status.idle": "2021-06-08T09:05:10.941481Z",
     "shell.execute_reply": "2021-06-08T09:05:10.940905Z",
     "shell.execute_reply.started": "2021-06-08T09:03:35.416814Z"
    },
    "papermill": {
     "duration": 0.08185,
     "end_time": "2021-06-08T09:05:10.941614",
     "exception": false,
     "start_time": "2021-06-08T09:05:10.859764",
     "status": "completed"
    },
    "tags": []
   },
   "outputs": [
    {
     "data": {
      "text/html": [
       "<div>\n",
       "<style scoped>\n",
       "    .dataframe tbody tr th:only-of-type {\n",
       "        vertical-align: middle;\n",
       "    }\n",
       "\n",
       "    .dataframe tbody tr th {\n",
       "        vertical-align: top;\n",
       "    }\n",
       "\n",
       "    .dataframe thead th {\n",
       "        text-align: right;\n",
       "    }\n",
       "</style>\n",
       "<table border=\"1\" class=\"dataframe\">\n",
       "  <thead>\n",
       "    <tr style=\"text-align: right;\">\n",
       "      <th></th>\n",
       "      <th>Gender</th>\n",
       "      <th>Ever_Married</th>\n",
       "      <th>Age</th>\n",
       "      <th>Graduated</th>\n",
       "      <th>Profession</th>\n",
       "      <th>Work_Experience</th>\n",
       "      <th>Spending_Score</th>\n",
       "      <th>Family_Size</th>\n",
       "      <th>Var_1</th>\n",
       "      <th>Segmentation</th>\n",
       "    </tr>\n",
       "  </thead>\n",
       "  <tbody>\n",
       "    <tr>\n",
       "      <th>0</th>\n",
       "      <td>0</td>\n",
       "      <td>0.0</td>\n",
       "      <td>22</td>\n",
       "      <td>0.0</td>\n",
       "      <td>Healthcare</td>\n",
       "      <td>1.0</td>\n",
       "      <td>0</td>\n",
       "      <td>4.0</td>\n",
       "      <td>3.0</td>\n",
       "      <td>D</td>\n",
       "    </tr>\n",
       "    <tr>\n",
       "      <th>1</th>\n",
       "      <td>1</td>\n",
       "      <td>1.0</td>\n",
       "      <td>38</td>\n",
       "      <td>1.0</td>\n",
       "      <td>Engineer</td>\n",
       "      <td>NaN</td>\n",
       "      <td>1</td>\n",
       "      <td>3.0</td>\n",
       "      <td>3.0</td>\n",
       "      <td>A</td>\n",
       "    </tr>\n",
       "    <tr>\n",
       "      <th>2</th>\n",
       "      <td>1</td>\n",
       "      <td>1.0</td>\n",
       "      <td>67</td>\n",
       "      <td>1.0</td>\n",
       "      <td>Engineer</td>\n",
       "      <td>1.0</td>\n",
       "      <td>0</td>\n",
       "      <td>1.0</td>\n",
       "      <td>5.0</td>\n",
       "      <td>B</td>\n",
       "    </tr>\n",
       "    <tr>\n",
       "      <th>3</th>\n",
       "      <td>0</td>\n",
       "      <td>1.0</td>\n",
       "      <td>67</td>\n",
       "      <td>1.0</td>\n",
       "      <td>Lawyer</td>\n",
       "      <td>0.0</td>\n",
       "      <td>2</td>\n",
       "      <td>2.0</td>\n",
       "      <td>5.0</td>\n",
       "      <td>B</td>\n",
       "    </tr>\n",
       "    <tr>\n",
       "      <th>4</th>\n",
       "      <td>1</td>\n",
       "      <td>1.0</td>\n",
       "      <td>40</td>\n",
       "      <td>1.0</td>\n",
       "      <td>Entertainment</td>\n",
       "      <td>NaN</td>\n",
       "      <td>2</td>\n",
       "      <td>6.0</td>\n",
       "      <td>5.0</td>\n",
       "      <td>A</td>\n",
       "    </tr>\n",
       "    <tr>\n",
       "      <th>...</th>\n",
       "      <td>...</td>\n",
       "      <td>...</td>\n",
       "      <td>...</td>\n",
       "      <td>...</td>\n",
       "      <td>...</td>\n",
       "      <td>...</td>\n",
       "      <td>...</td>\n",
       "      <td>...</td>\n",
       "      <td>...</td>\n",
       "      <td>...</td>\n",
       "    </tr>\n",
       "    <tr>\n",
       "      <th>8063</th>\n",
       "      <td>0</td>\n",
       "      <td>0.0</td>\n",
       "      <td>22</td>\n",
       "      <td>0.0</td>\n",
       "      <td>NaN</td>\n",
       "      <td>0.0</td>\n",
       "      <td>0</td>\n",
       "      <td>7.0</td>\n",
       "      <td>0.0</td>\n",
       "      <td>D</td>\n",
       "    </tr>\n",
       "    <tr>\n",
       "      <th>8064</th>\n",
       "      <td>0</td>\n",
       "      <td>0.0</td>\n",
       "      <td>35</td>\n",
       "      <td>0.0</td>\n",
       "      <td>Executive</td>\n",
       "      <td>3.0</td>\n",
       "      <td>0</td>\n",
       "      <td>4.0</td>\n",
       "      <td>3.0</td>\n",
       "      <td>D</td>\n",
       "    </tr>\n",
       "    <tr>\n",
       "      <th>8065</th>\n",
       "      <td>1</td>\n",
       "      <td>0.0</td>\n",
       "      <td>33</td>\n",
       "      <td>1.0</td>\n",
       "      <td>Healthcare</td>\n",
       "      <td>1.0</td>\n",
       "      <td>0</td>\n",
       "      <td>1.0</td>\n",
       "      <td>5.0</td>\n",
       "      <td>D</td>\n",
       "    </tr>\n",
       "    <tr>\n",
       "      <th>8066</th>\n",
       "      <td>1</td>\n",
       "      <td>0.0</td>\n",
       "      <td>27</td>\n",
       "      <td>1.0</td>\n",
       "      <td>Healthcare</td>\n",
       "      <td>1.0</td>\n",
       "      <td>0</td>\n",
       "      <td>4.0</td>\n",
       "      <td>5.0</td>\n",
       "      <td>B</td>\n",
       "    </tr>\n",
       "    <tr>\n",
       "      <th>8067</th>\n",
       "      <td>0</td>\n",
       "      <td>1.0</td>\n",
       "      <td>37</td>\n",
       "      <td>1.0</td>\n",
       "      <td>Executive</td>\n",
       "      <td>0.0</td>\n",
       "      <td>1</td>\n",
       "      <td>3.0</td>\n",
       "      <td>3.0</td>\n",
       "      <td>B</td>\n",
       "    </tr>\n",
       "  </tbody>\n",
       "</table>\n",
       "<p>8068 rows × 10 columns</p>\n",
       "</div>"
      ],
      "text/plain": [
       "      Gender  Ever_Married  Age  Graduated     Profession  Work_Experience  \\\n",
       "0          0           0.0   22        0.0     Healthcare              1.0   \n",
       "1          1           1.0   38        1.0       Engineer              NaN   \n",
       "2          1           1.0   67        1.0       Engineer              1.0   \n",
       "3          0           1.0   67        1.0         Lawyer              0.0   \n",
       "4          1           1.0   40        1.0  Entertainment              NaN   \n",
       "...      ...           ...  ...        ...            ...              ...   \n",
       "8063       0           0.0   22        0.0            NaN              0.0   \n",
       "8064       0           0.0   35        0.0      Executive              3.0   \n",
       "8065       1           0.0   33        1.0     Healthcare              1.0   \n",
       "8066       1           0.0   27        1.0     Healthcare              1.0   \n",
       "8067       0           1.0   37        1.0      Executive              0.0   \n",
       "\n",
       "      Spending_Score  Family_Size  Var_1 Segmentation  \n",
       "0                  0          4.0    3.0            D  \n",
       "1                  1          3.0    3.0            A  \n",
       "2                  0          1.0    5.0            B  \n",
       "3                  2          2.0    5.0            B  \n",
       "4                  2          6.0    5.0            A  \n",
       "...              ...          ...    ...          ...  \n",
       "8063               0          7.0    0.0            D  \n",
       "8064               0          4.0    3.0            D  \n",
       "8065               0          1.0    5.0            D  \n",
       "8066               0          4.0    5.0            B  \n",
       "8067               1          3.0    3.0            B  \n",
       "\n",
       "[8068 rows x 10 columns]"
      ]
     },
     "execution_count": 187,
     "metadata": {},
     "output_type": "execute_result"
    }
   ],
   "source": [
    "df"
   ]
  },
  {
   "cell_type": "code",
   "execution_count": 188,
   "metadata": {
    "execution": {
     "iopub.execute_input": "2021-06-08T09:05:11.055415Z",
     "iopub.status.busy": "2021-06-08T09:05:11.054586Z",
     "iopub.status.idle": "2021-06-08T09:05:11.058639Z",
     "shell.execute_reply": "2021-06-08T09:05:11.058111Z",
     "shell.execute_reply.started": "2021-06-08T09:03:35.452620Z"
    },
    "papermill": {
     "duration": 0.064651,
     "end_time": "2021-06-08T09:05:11.058786",
     "exception": false,
     "start_time": "2021-06-08T09:05:10.994135",
     "status": "completed"
    },
    "tags": []
   },
   "outputs": [
    {
     "data": {
      "text/plain": [
       "Artist           2516\n",
       "Healthcare       1332\n",
       "Entertainment     949\n",
       "Engineer          699\n",
       "Doctor            688\n",
       "Lawyer            623\n",
       "Executive         599\n",
       "Marketing         292\n",
       "Homemaker         246\n",
       "Name: Profession, dtype: int64"
      ]
     },
     "execution_count": 188,
     "metadata": {},
     "output_type": "execute_result"
    }
   ],
   "source": [
    "df['Profession'].value_counts()"
   ]
  },
  {
   "cell_type": "code",
   "execution_count": 189,
   "metadata": {
    "execution": {
     "iopub.execute_input": "2021-06-08T09:05:11.176372Z",
     "iopub.status.busy": "2021-06-08T09:05:11.175459Z",
     "iopub.status.idle": "2021-06-08T09:05:11.184150Z",
     "shell.execute_reply": "2021-06-08T09:05:11.183635Z",
     "shell.execute_reply.started": "2021-06-08T09:03:35.465691Z"
    },
    "papermill": {
     "duration": 0.070957,
     "end_time": "2021-06-08T09:05:11.184276",
     "exception": false,
     "start_time": "2021-06-08T09:05:11.113319",
     "status": "completed"
    },
    "tags": []
   },
   "outputs": [],
   "source": [
    "# Replacing Artist with 0, Healthcare with 1, Entertainment with 2, Engineer with 3, Doctor with 4, Lawyer with 5, Executive with 6, Marketing with 7 and Homemaker with 8 in Var_1 column\n",
    "df['Profession'] = df['Profession'].replace({'Artist':0,'Healthcare':1,'Entertainment':2,'Engineer':3,'Doctor':4,'Lawyer':5,'Executive':6,'Marketing':7,'Homemaker':8})"
   ]
  },
  {
   "cell_type": "code",
   "execution_count": 190,
   "metadata": {
    "execution": {
     "iopub.execute_input": "2021-06-08T09:05:11.316581Z",
     "iopub.status.busy": "2021-06-08T09:05:11.307780Z",
     "iopub.status.idle": "2021-06-08T09:05:11.320420Z",
     "shell.execute_reply": "2021-06-08T09:05:11.320813Z",
     "shell.execute_reply.started": "2021-06-08T09:03:35.487688Z"
    },
    "papermill": {
     "duration": 0.082652,
     "end_time": "2021-06-08T09:05:11.320973",
     "exception": false,
     "start_time": "2021-06-08T09:05:11.238321",
     "status": "completed"
    },
    "tags": []
   },
   "outputs": [
    {
     "data": {
      "text/html": [
       "<div>\n",
       "<style scoped>\n",
       "    .dataframe tbody tr th:only-of-type {\n",
       "        vertical-align: middle;\n",
       "    }\n",
       "\n",
       "    .dataframe tbody tr th {\n",
       "        vertical-align: top;\n",
       "    }\n",
       "\n",
       "    .dataframe thead th {\n",
       "        text-align: right;\n",
       "    }\n",
       "</style>\n",
       "<table border=\"1\" class=\"dataframe\">\n",
       "  <thead>\n",
       "    <tr style=\"text-align: right;\">\n",
       "      <th></th>\n",
       "      <th>Gender</th>\n",
       "      <th>Ever_Married</th>\n",
       "      <th>Age</th>\n",
       "      <th>Graduated</th>\n",
       "      <th>Profession</th>\n",
       "      <th>Work_Experience</th>\n",
       "      <th>Spending_Score</th>\n",
       "      <th>Family_Size</th>\n",
       "      <th>Var_1</th>\n",
       "      <th>Segmentation</th>\n",
       "    </tr>\n",
       "  </thead>\n",
       "  <tbody>\n",
       "    <tr>\n",
       "      <th>0</th>\n",
       "      <td>0</td>\n",
       "      <td>0.0</td>\n",
       "      <td>22</td>\n",
       "      <td>0.0</td>\n",
       "      <td>1.0</td>\n",
       "      <td>1.0</td>\n",
       "      <td>0</td>\n",
       "      <td>4.0</td>\n",
       "      <td>3.0</td>\n",
       "      <td>D</td>\n",
       "    </tr>\n",
       "    <tr>\n",
       "      <th>1</th>\n",
       "      <td>1</td>\n",
       "      <td>1.0</td>\n",
       "      <td>38</td>\n",
       "      <td>1.0</td>\n",
       "      <td>3.0</td>\n",
       "      <td>NaN</td>\n",
       "      <td>1</td>\n",
       "      <td>3.0</td>\n",
       "      <td>3.0</td>\n",
       "      <td>A</td>\n",
       "    </tr>\n",
       "    <tr>\n",
       "      <th>2</th>\n",
       "      <td>1</td>\n",
       "      <td>1.0</td>\n",
       "      <td>67</td>\n",
       "      <td>1.0</td>\n",
       "      <td>3.0</td>\n",
       "      <td>1.0</td>\n",
       "      <td>0</td>\n",
       "      <td>1.0</td>\n",
       "      <td>5.0</td>\n",
       "      <td>B</td>\n",
       "    </tr>\n",
       "    <tr>\n",
       "      <th>3</th>\n",
       "      <td>0</td>\n",
       "      <td>1.0</td>\n",
       "      <td>67</td>\n",
       "      <td>1.0</td>\n",
       "      <td>5.0</td>\n",
       "      <td>0.0</td>\n",
       "      <td>2</td>\n",
       "      <td>2.0</td>\n",
       "      <td>5.0</td>\n",
       "      <td>B</td>\n",
       "    </tr>\n",
       "    <tr>\n",
       "      <th>4</th>\n",
       "      <td>1</td>\n",
       "      <td>1.0</td>\n",
       "      <td>40</td>\n",
       "      <td>1.0</td>\n",
       "      <td>2.0</td>\n",
       "      <td>NaN</td>\n",
       "      <td>2</td>\n",
       "      <td>6.0</td>\n",
       "      <td>5.0</td>\n",
       "      <td>A</td>\n",
       "    </tr>\n",
       "    <tr>\n",
       "      <th>...</th>\n",
       "      <td>...</td>\n",
       "      <td>...</td>\n",
       "      <td>...</td>\n",
       "      <td>...</td>\n",
       "      <td>...</td>\n",
       "      <td>...</td>\n",
       "      <td>...</td>\n",
       "      <td>...</td>\n",
       "      <td>...</td>\n",
       "      <td>...</td>\n",
       "    </tr>\n",
       "    <tr>\n",
       "      <th>8063</th>\n",
       "      <td>0</td>\n",
       "      <td>0.0</td>\n",
       "      <td>22</td>\n",
       "      <td>0.0</td>\n",
       "      <td>NaN</td>\n",
       "      <td>0.0</td>\n",
       "      <td>0</td>\n",
       "      <td>7.0</td>\n",
       "      <td>0.0</td>\n",
       "      <td>D</td>\n",
       "    </tr>\n",
       "    <tr>\n",
       "      <th>8064</th>\n",
       "      <td>0</td>\n",
       "      <td>0.0</td>\n",
       "      <td>35</td>\n",
       "      <td>0.0</td>\n",
       "      <td>6.0</td>\n",
       "      <td>3.0</td>\n",
       "      <td>0</td>\n",
       "      <td>4.0</td>\n",
       "      <td>3.0</td>\n",
       "      <td>D</td>\n",
       "    </tr>\n",
       "    <tr>\n",
       "      <th>8065</th>\n",
       "      <td>1</td>\n",
       "      <td>0.0</td>\n",
       "      <td>33</td>\n",
       "      <td>1.0</td>\n",
       "      <td>1.0</td>\n",
       "      <td>1.0</td>\n",
       "      <td>0</td>\n",
       "      <td>1.0</td>\n",
       "      <td>5.0</td>\n",
       "      <td>D</td>\n",
       "    </tr>\n",
       "    <tr>\n",
       "      <th>8066</th>\n",
       "      <td>1</td>\n",
       "      <td>0.0</td>\n",
       "      <td>27</td>\n",
       "      <td>1.0</td>\n",
       "      <td>1.0</td>\n",
       "      <td>1.0</td>\n",
       "      <td>0</td>\n",
       "      <td>4.0</td>\n",
       "      <td>5.0</td>\n",
       "      <td>B</td>\n",
       "    </tr>\n",
       "    <tr>\n",
       "      <th>8067</th>\n",
       "      <td>0</td>\n",
       "      <td>1.0</td>\n",
       "      <td>37</td>\n",
       "      <td>1.0</td>\n",
       "      <td>6.0</td>\n",
       "      <td>0.0</td>\n",
       "      <td>1</td>\n",
       "      <td>3.0</td>\n",
       "      <td>3.0</td>\n",
       "      <td>B</td>\n",
       "    </tr>\n",
       "  </tbody>\n",
       "</table>\n",
       "<p>8068 rows × 10 columns</p>\n",
       "</div>"
      ],
      "text/plain": [
       "      Gender  Ever_Married  Age  Graduated  Profession  Work_Experience  \\\n",
       "0          0           0.0   22        0.0         1.0              1.0   \n",
       "1          1           1.0   38        1.0         3.0              NaN   \n",
       "2          1           1.0   67        1.0         3.0              1.0   \n",
       "3          0           1.0   67        1.0         5.0              0.0   \n",
       "4          1           1.0   40        1.0         2.0              NaN   \n",
       "...      ...           ...  ...        ...         ...              ...   \n",
       "8063       0           0.0   22        0.0         NaN              0.0   \n",
       "8064       0           0.0   35        0.0         6.0              3.0   \n",
       "8065       1           0.0   33        1.0         1.0              1.0   \n",
       "8066       1           0.0   27        1.0         1.0              1.0   \n",
       "8067       0           1.0   37        1.0         6.0              0.0   \n",
       "\n",
       "      Spending_Score  Family_Size  Var_1 Segmentation  \n",
       "0                  0          4.0    3.0            D  \n",
       "1                  1          3.0    3.0            A  \n",
       "2                  0          1.0    5.0            B  \n",
       "3                  2          2.0    5.0            B  \n",
       "4                  2          6.0    5.0            A  \n",
       "...              ...          ...    ...          ...  \n",
       "8063               0          7.0    0.0            D  \n",
       "8064               0          4.0    3.0            D  \n",
       "8065               0          1.0    5.0            D  \n",
       "8066               0          4.0    5.0            B  \n",
       "8067               1          3.0    3.0            B  \n",
       "\n",
       "[8068 rows x 10 columns]"
      ]
     },
     "execution_count": 190,
     "metadata": {},
     "output_type": "execute_result"
    }
   ],
   "source": [
    "df"
   ]
  },
  {
   "cell_type": "code",
   "execution_count": 191,
   "metadata": {
    "execution": {
     "iopub.execute_input": "2021-06-08T09:05:11.431779Z",
     "iopub.status.busy": "2021-06-08T09:05:11.431128Z",
     "iopub.status.idle": "2021-06-08T09:05:11.437466Z",
     "shell.execute_reply": "2021-06-08T09:05:11.436994Z",
     "shell.execute_reply.started": "2021-06-08T09:03:35.528878Z"
    },
    "papermill": {
     "duration": 0.063195,
     "end_time": "2021-06-08T09:05:11.437597",
     "exception": false,
     "start_time": "2021-06-08T09:05:11.374402",
     "status": "completed"
    },
    "tags": []
   },
   "outputs": [
    {
     "data": {
      "text/plain": [
       "0.0    2516\n",
       "1.0    1332\n",
       "2.0     949\n",
       "3.0     699\n",
       "4.0     688\n",
       "5.0     623\n",
       "6.0     599\n",
       "7.0     292\n",
       "8.0     246\n",
       "Name: Profession, dtype: int64"
      ]
     },
     "execution_count": 191,
     "metadata": {},
     "output_type": "execute_result"
    }
   ],
   "source": [
    "df['Profession'].value_counts()"
   ]
  },
  {
   "cell_type": "code",
   "execution_count": 192,
   "metadata": {
    "execution": {
     "iopub.execute_input": "2021-06-08T09:05:11.552128Z",
     "iopub.status.busy": "2021-06-08T09:05:11.551506Z",
     "iopub.status.idle": "2021-06-08T09:05:11.555166Z",
     "shell.execute_reply": "2021-06-08T09:05:11.554735Z",
     "shell.execute_reply.started": "2021-06-08T09:03:35.541166Z"
    },
    "papermill": {
     "duration": 0.063526,
     "end_time": "2021-06-08T09:05:11.555309",
     "exception": false,
     "start_time": "2021-06-08T09:05:11.491783",
     "status": "completed"
    },
    "tags": []
   },
   "outputs": [
    {
     "data": {
      "text/plain": [
       "5.0    5238\n",
       "3.0    1089\n",
       "2.0     822\n",
       "1.0     422\n",
       "6.0     203\n",
       "0.0     133\n",
       "4.0      85\n",
       "Name: Var_1, dtype: int64"
      ]
     },
     "execution_count": 192,
     "metadata": {},
     "output_type": "execute_result"
    }
   ],
   "source": [
    "df['Var_1'].value_counts()"
   ]
  },
  {
   "cell_type": "code",
   "execution_count": 193,
   "metadata": {
    "execution": {
     "iopub.execute_input": "2021-06-08T09:05:11.668903Z",
     "iopub.status.busy": "2021-06-08T09:05:11.668027Z",
     "iopub.status.idle": "2021-06-08T09:05:11.672352Z",
     "shell.execute_reply": "2021-06-08T09:05:11.672773Z",
     "shell.execute_reply.started": "2021-06-08T09:03:35.555759Z"
    },
    "papermill": {
     "duration": 0.063834,
     "end_time": "2021-06-08T09:05:11.672941",
     "exception": false,
     "start_time": "2021-06-08T09:05:11.609107",
     "status": "completed"
    },
    "tags": []
   },
   "outputs": [
    {
     "data": {
      "text/plain": [
       "D    2268\n",
       "A    1972\n",
       "C    1970\n",
       "B    1858\n",
       "Name: Segmentation, dtype: int64"
      ]
     },
     "execution_count": 193,
     "metadata": {},
     "output_type": "execute_result"
    }
   ],
   "source": [
    "df['Segmentation'].value_counts()"
   ]
  },
  {
   "cell_type": "code",
   "execution_count": 194,
   "metadata": {
    "execution": {
     "iopub.execute_input": "2021-06-08T09:05:11.784000Z",
     "iopub.status.busy": "2021-06-08T09:05:11.783394Z",
     "iopub.status.idle": "2021-06-08T09:05:11.791279Z",
     "shell.execute_reply": "2021-06-08T09:05:11.791747Z",
     "shell.execute_reply.started": "2021-06-08T09:03:35.571512Z"
    },
    "papermill": {
     "duration": 0.06476,
     "end_time": "2021-06-08T09:05:11.791914",
     "exception": false,
     "start_time": "2021-06-08T09:05:11.727154",
     "status": "completed"
    },
    "tags": []
   },
   "outputs": [],
   "source": [
    "# Replacing A with 0, B with 1, C with 2 and D with 3 in Spending_Score column\n",
    "df['Segmentation'] = df['Segmentation'].replace({'A':0,'B':1,'C':2,'D':3})"
   ]
  },
  {
   "cell_type": "code",
   "execution_count": 195,
   "metadata": {
    "execution": {
     "iopub.execute_input": "2021-06-08T09:05:11.904874Z",
     "iopub.status.busy": "2021-06-08T09:05:11.904265Z",
     "iopub.status.idle": "2021-06-08T09:05:11.909971Z",
     "shell.execute_reply": "2021-06-08T09:05:11.910431Z",
     "shell.execute_reply.started": "2021-06-08T09:03:35.587011Z"
    },
    "papermill": {
     "duration": 0.06367,
     "end_time": "2021-06-08T09:05:11.910588",
     "exception": false,
     "start_time": "2021-06-08T09:05:11.846918",
     "status": "completed"
    },
    "tags": []
   },
   "outputs": [
    {
     "data": {
      "text/plain": [
       "3    2268\n",
       "0    1972\n",
       "2    1970\n",
       "1    1858\n",
       "Name: Segmentation, dtype: int64"
      ]
     },
     "execution_count": 195,
     "metadata": {},
     "output_type": "execute_result"
    }
   ],
   "source": [
    "df['Segmentation'].value_counts()"
   ]
  },
  {
   "cell_type": "code",
   "execution_count": 196,
   "metadata": {
    "execution": {
     "iopub.execute_input": "2021-06-08T09:05:12.025777Z",
     "iopub.status.busy": "2021-06-08T09:05:12.025172Z",
     "iopub.status.idle": "2021-06-08T09:05:12.046902Z",
     "shell.execute_reply": "2021-06-08T09:05:12.047343Z",
     "shell.execute_reply.started": "2021-06-08T09:03:35.602233Z"
    },
    "papermill": {
     "duration": 0.081337,
     "end_time": "2021-06-08T09:05:12.047501",
     "exception": false,
     "start_time": "2021-06-08T09:05:11.966164",
     "status": "completed"
    },
    "tags": []
   },
   "outputs": [
    {
     "data": {
      "text/html": [
       "<div>\n",
       "<style scoped>\n",
       "    .dataframe tbody tr th:only-of-type {\n",
       "        vertical-align: middle;\n",
       "    }\n",
       "\n",
       "    .dataframe tbody tr th {\n",
       "        vertical-align: top;\n",
       "    }\n",
       "\n",
       "    .dataframe thead th {\n",
       "        text-align: right;\n",
       "    }\n",
       "</style>\n",
       "<table border=\"1\" class=\"dataframe\">\n",
       "  <thead>\n",
       "    <tr style=\"text-align: right;\">\n",
       "      <th></th>\n",
       "      <th>Gender</th>\n",
       "      <th>Ever_Married</th>\n",
       "      <th>Age</th>\n",
       "      <th>Graduated</th>\n",
       "      <th>Profession</th>\n",
       "      <th>Work_Experience</th>\n",
       "      <th>Spending_Score</th>\n",
       "      <th>Family_Size</th>\n",
       "      <th>Var_1</th>\n",
       "      <th>Segmentation</th>\n",
       "    </tr>\n",
       "  </thead>\n",
       "  <tbody>\n",
       "    <tr>\n",
       "      <th>0</th>\n",
       "      <td>0</td>\n",
       "      <td>0.0</td>\n",
       "      <td>22</td>\n",
       "      <td>0.0</td>\n",
       "      <td>1.0</td>\n",
       "      <td>1.0</td>\n",
       "      <td>0</td>\n",
       "      <td>4.0</td>\n",
       "      <td>3.0</td>\n",
       "      <td>3</td>\n",
       "    </tr>\n",
       "    <tr>\n",
       "      <th>1</th>\n",
       "      <td>1</td>\n",
       "      <td>1.0</td>\n",
       "      <td>38</td>\n",
       "      <td>1.0</td>\n",
       "      <td>3.0</td>\n",
       "      <td>NaN</td>\n",
       "      <td>1</td>\n",
       "      <td>3.0</td>\n",
       "      <td>3.0</td>\n",
       "      <td>0</td>\n",
       "    </tr>\n",
       "    <tr>\n",
       "      <th>2</th>\n",
       "      <td>1</td>\n",
       "      <td>1.0</td>\n",
       "      <td>67</td>\n",
       "      <td>1.0</td>\n",
       "      <td>3.0</td>\n",
       "      <td>1.0</td>\n",
       "      <td>0</td>\n",
       "      <td>1.0</td>\n",
       "      <td>5.0</td>\n",
       "      <td>1</td>\n",
       "    </tr>\n",
       "    <tr>\n",
       "      <th>3</th>\n",
       "      <td>0</td>\n",
       "      <td>1.0</td>\n",
       "      <td>67</td>\n",
       "      <td>1.0</td>\n",
       "      <td>5.0</td>\n",
       "      <td>0.0</td>\n",
       "      <td>2</td>\n",
       "      <td>2.0</td>\n",
       "      <td>5.0</td>\n",
       "      <td>1</td>\n",
       "    </tr>\n",
       "    <tr>\n",
       "      <th>4</th>\n",
       "      <td>1</td>\n",
       "      <td>1.0</td>\n",
       "      <td>40</td>\n",
       "      <td>1.0</td>\n",
       "      <td>2.0</td>\n",
       "      <td>NaN</td>\n",
       "      <td>2</td>\n",
       "      <td>6.0</td>\n",
       "      <td>5.0</td>\n",
       "      <td>0</td>\n",
       "    </tr>\n",
       "    <tr>\n",
       "      <th>...</th>\n",
       "      <td>...</td>\n",
       "      <td>...</td>\n",
       "      <td>...</td>\n",
       "      <td>...</td>\n",
       "      <td>...</td>\n",
       "      <td>...</td>\n",
       "      <td>...</td>\n",
       "      <td>...</td>\n",
       "      <td>...</td>\n",
       "      <td>...</td>\n",
       "    </tr>\n",
       "    <tr>\n",
       "      <th>8063</th>\n",
       "      <td>0</td>\n",
       "      <td>0.0</td>\n",
       "      <td>22</td>\n",
       "      <td>0.0</td>\n",
       "      <td>NaN</td>\n",
       "      <td>0.0</td>\n",
       "      <td>0</td>\n",
       "      <td>7.0</td>\n",
       "      <td>0.0</td>\n",
       "      <td>3</td>\n",
       "    </tr>\n",
       "    <tr>\n",
       "      <th>8064</th>\n",
       "      <td>0</td>\n",
       "      <td>0.0</td>\n",
       "      <td>35</td>\n",
       "      <td>0.0</td>\n",
       "      <td>6.0</td>\n",
       "      <td>3.0</td>\n",
       "      <td>0</td>\n",
       "      <td>4.0</td>\n",
       "      <td>3.0</td>\n",
       "      <td>3</td>\n",
       "    </tr>\n",
       "    <tr>\n",
       "      <th>8065</th>\n",
       "      <td>1</td>\n",
       "      <td>0.0</td>\n",
       "      <td>33</td>\n",
       "      <td>1.0</td>\n",
       "      <td>1.0</td>\n",
       "      <td>1.0</td>\n",
       "      <td>0</td>\n",
       "      <td>1.0</td>\n",
       "      <td>5.0</td>\n",
       "      <td>3</td>\n",
       "    </tr>\n",
       "    <tr>\n",
       "      <th>8066</th>\n",
       "      <td>1</td>\n",
       "      <td>0.0</td>\n",
       "      <td>27</td>\n",
       "      <td>1.0</td>\n",
       "      <td>1.0</td>\n",
       "      <td>1.0</td>\n",
       "      <td>0</td>\n",
       "      <td>4.0</td>\n",
       "      <td>5.0</td>\n",
       "      <td>1</td>\n",
       "    </tr>\n",
       "    <tr>\n",
       "      <th>8067</th>\n",
       "      <td>0</td>\n",
       "      <td>1.0</td>\n",
       "      <td>37</td>\n",
       "      <td>1.0</td>\n",
       "      <td>6.0</td>\n",
       "      <td>0.0</td>\n",
       "      <td>1</td>\n",
       "      <td>3.0</td>\n",
       "      <td>3.0</td>\n",
       "      <td>1</td>\n",
       "    </tr>\n",
       "  </tbody>\n",
       "</table>\n",
       "<p>8068 rows × 10 columns</p>\n",
       "</div>"
      ],
      "text/plain": [
       "      Gender  Ever_Married  Age  Graduated  Profession  Work_Experience  \\\n",
       "0          0           0.0   22        0.0         1.0              1.0   \n",
       "1          1           1.0   38        1.0         3.0              NaN   \n",
       "2          1           1.0   67        1.0         3.0              1.0   \n",
       "3          0           1.0   67        1.0         5.0              0.0   \n",
       "4          1           1.0   40        1.0         2.0              NaN   \n",
       "...      ...           ...  ...        ...         ...              ...   \n",
       "8063       0           0.0   22        0.0         NaN              0.0   \n",
       "8064       0           0.0   35        0.0         6.0              3.0   \n",
       "8065       1           0.0   33        1.0         1.0              1.0   \n",
       "8066       1           0.0   27        1.0         1.0              1.0   \n",
       "8067       0           1.0   37        1.0         6.0              0.0   \n",
       "\n",
       "      Spending_Score  Family_Size  Var_1  Segmentation  \n",
       "0                  0          4.0    3.0             3  \n",
       "1                  1          3.0    3.0             0  \n",
       "2                  0          1.0    5.0             1  \n",
       "3                  2          2.0    5.0             1  \n",
       "4                  2          6.0    5.0             0  \n",
       "...              ...          ...    ...           ...  \n",
       "8063               0          7.0    0.0             3  \n",
       "8064               0          4.0    3.0             3  \n",
       "8065               0          1.0    5.0             3  \n",
       "8066               0          4.0    5.0             1  \n",
       "8067               1          3.0    3.0             1  \n",
       "\n",
       "[8068 rows x 10 columns]"
      ]
     },
     "execution_count": 196,
     "metadata": {},
     "output_type": "execute_result"
    }
   ],
   "source": [
    "df"
   ]
  },
  {
   "cell_type": "markdown",
   "metadata": {
    "papermill": {
     "duration": 0.055197,
     "end_time": "2021-06-08T09:05:12.159350",
     "exception": false,
     "start_time": "2021-06-08T09:05:12.104153",
     "status": "completed"
    },
    "tags": []
   },
   "source": [
    "### Filling missing data "
   ]
  },
  {
   "cell_type": "code",
   "execution_count": 197,
   "metadata": {
    "execution": {
     "iopub.execute_input": "2021-06-08T09:05:12.273841Z",
     "iopub.status.busy": "2021-06-08T09:05:12.273151Z",
     "iopub.status.idle": "2021-06-08T09:05:12.280467Z",
     "shell.execute_reply": "2021-06-08T09:05:12.280933Z",
     "shell.execute_reply.started": "2021-06-08T09:03:35.641948Z"
    },
    "papermill": {
     "duration": 0.066066,
     "end_time": "2021-06-08T09:05:12.281094",
     "exception": false,
     "start_time": "2021-06-08T09:05:12.215028",
     "status": "completed"
    },
    "tags": []
   },
   "outputs": [
    {
     "data": {
      "text/plain": [
       "Gender               0\n",
       "Ever_Married       140\n",
       "Age                  0\n",
       "Graduated           78\n",
       "Profession         124\n",
       "Work_Experience    829\n",
       "Spending_Score       0\n",
       "Family_Size        335\n",
       "Var_1               76\n",
       "Segmentation         0\n",
       "dtype: int64"
      ]
     },
     "execution_count": 197,
     "metadata": {},
     "output_type": "execute_result"
    }
   ],
   "source": [
    "df.isnull().sum()"
   ]
  },
  {
   "cell_type": "code",
   "execution_count": 198,
   "metadata": {
    "execution": {
     "iopub.execute_input": "2021-06-08T09:05:12.393285Z",
     "iopub.status.busy": "2021-06-08T09:05:12.392681Z",
     "iopub.status.idle": "2021-06-08T09:05:12.397310Z",
     "shell.execute_reply": "2021-06-08T09:05:12.397798Z",
     "shell.execute_reply.started": "2021-06-08T09:03:35.659124Z"
    },
    "papermill": {
     "duration": 0.062126,
     "end_time": "2021-06-08T09:05:12.397956",
     "exception": false,
     "start_time": "2021-06-08T09:05:12.335830",
     "status": "completed"
    },
    "tags": []
   },
   "outputs": [],
   "source": [
    "#df['Ever_Married'].fillna(int(df['Ever_Married'].mean()), inplace=True)\n",
    "df['Ever_Married'].fillna(method='ffill', inplace=True)#使用前面最后一个有效值进行缺失值的填充，'bfill'使用后面第一个有效值进行填充"
   ]
  },
  {
   "cell_type": "code",
   "execution_count": 199,
   "metadata": {
    "execution": {
     "iopub.execute_input": "2021-06-08T09:05:12.512496Z",
     "iopub.status.busy": "2021-06-08T09:05:12.511930Z",
     "iopub.status.idle": "2021-06-08T09:05:12.518846Z",
     "shell.execute_reply": "2021-06-08T09:05:12.518325Z",
     "shell.execute_reply.started": "2021-06-08T09:03:35.666465Z"
    },
    "papermill": {
     "duration": 0.064336,
     "end_time": "2021-06-08T09:05:12.518976",
     "exception": false,
     "start_time": "2021-06-08T09:05:12.454640",
     "status": "completed"
    },
    "tags": []
   },
   "outputs": [
    {
     "data": {
      "text/plain": [
       "1.0    4722\n",
       "0.0    3346\n",
       "Name: Ever_Married, dtype: int64"
      ]
     },
     "execution_count": 199,
     "metadata": {},
     "output_type": "execute_result"
    }
   ],
   "source": [
    "df['Ever_Married'].value_counts()"
   ]
  },
  {
   "cell_type": "code",
   "execution_count": 200,
   "metadata": {
    "execution": {
     "iopub.execute_input": "2021-06-08T09:05:12.631752Z",
     "iopub.status.busy": "2021-06-08T09:05:12.631193Z",
     "iopub.status.idle": "2021-06-08T09:05:12.638949Z",
     "shell.execute_reply": "2021-06-08T09:05:12.639417Z",
     "shell.execute_reply.started": "2021-06-08T09:03:35.681450Z"
    },
    "papermill": {
     "duration": 0.06551,
     "end_time": "2021-06-08T09:05:12.639570",
     "exception": false,
     "start_time": "2021-06-08T09:05:12.574060",
     "status": "completed"
    },
    "tags": []
   },
   "outputs": [],
   "source": [
    "#df['Graduated'].fillna(int(df['Graduated'].mean()), inplace=True)\n",
    "df['Graduated'].fillna(method='ffill', inplace=True)\n",
    "df['Profession'].fillna(int(df['Profession'].mean()), inplace=True)\n",
    "df['Work_Experience'].fillna(int(df['Work_Experience'].mean()), inplace=True)\n",
    "df['Family_Size'].fillna(int(df['Family_Size'].mean()), inplace=True)\n",
    "df['Var_1'].fillna(int(df['Var_1'].mean()), inplace=True)"
   ]
  },
  {
   "cell_type": "code",
   "execution_count": 201,
   "metadata": {
    "execution": {
     "iopub.execute_input": "2021-06-08T09:05:12.751957Z",
     "iopub.status.busy": "2021-06-08T09:05:12.751405Z",
     "iopub.status.idle": "2021-06-08T09:05:12.758533Z",
     "shell.execute_reply": "2021-06-08T09:05:12.758990Z",
     "shell.execute_reply.started": "2021-06-08T09:03:35.697187Z"
    },
    "papermill": {
     "duration": 0.064793,
     "end_time": "2021-06-08T09:05:12.759140",
     "exception": false,
     "start_time": "2021-06-08T09:05:12.694347",
     "status": "completed"
    },
    "tags": []
   },
   "outputs": [
    {
     "data": {
      "text/plain": [
       "Gender             0\n",
       "Ever_Married       0\n",
       "Age                0\n",
       "Graduated          0\n",
       "Profession         0\n",
       "Work_Experience    0\n",
       "Spending_Score     0\n",
       "Family_Size        0\n",
       "Var_1              0\n",
       "Segmentation       0\n",
       "dtype: int64"
      ]
     },
     "execution_count": 201,
     "metadata": {},
     "output_type": "execute_result"
    }
   ],
   "source": [
    "df.isna().sum()"
   ]
  },
  {
   "cell_type": "markdown",
   "metadata": {
    "papermill": {
     "duration": 0.055227,
     "end_time": "2021-06-08T09:05:12.869390",
     "exception": false,
     "start_time": "2021-06-08T09:05:12.814163",
     "status": "completed"
    },
    "tags": []
   },
   "source": [
    "## Splitting Dataset into Training and Testing Set"
   ]
  },
  {
   "cell_type": "code",
   "execution_count": 202,
   "metadata": {
    "execution": {
     "iopub.execute_input": "2021-06-08T09:05:12.982007Z",
     "iopub.status.busy": "2021-06-08T09:05:12.981470Z",
     "iopub.status.idle": "2021-06-08T09:05:12.986923Z",
     "shell.execute_reply": "2021-06-08T09:05:12.987396Z",
     "shell.execute_reply.started": "2021-06-08T09:03:35.711924Z"
    },
    "papermill": {
     "duration": 0.063073,
     "end_time": "2021-06-08T09:05:12.987558",
     "exception": false,
     "start_time": "2021-06-08T09:05:12.924485",
     "status": "completed"
    },
    "tags": []
   },
   "outputs": [],
   "source": [
    "X = df.iloc[:, :-1].values#excluding the last column\n",
    "y = df.iloc[:, -1].values#最后一列"
   ]
  },
  {
   "cell_type": "code",
   "execution_count": 203,
   "metadata": {
    "execution": {
     "iopub.execute_input": "2021-06-08T09:05:13.101313Z",
     "iopub.status.busy": "2021-06-08T09:05:13.100688Z",
     "iopub.status.idle": "2021-06-08T09:05:13.106587Z",
     "shell.execute_reply": "2021-06-08T09:05:13.105977Z",
     "shell.execute_reply.started": "2021-06-08T09:03:35.720767Z"
    },
    "papermill": {
     "duration": 0.063354,
     "end_time": "2021-06-08T09:05:13.106740",
     "exception": false,
     "start_time": "2021-06-08T09:05:13.043386",
     "status": "completed"
    },
    "tags": []
   },
   "outputs": [
    {
     "name": "stdout",
     "output_type": "stream",
     "text": [
      "[[ 0.  0. 22. ...  0.  4.  3.]\n",
      " [ 1.  1. 38. ...  1.  3.  3.]\n",
      " [ 1.  1. 67. ...  0.  1.  5.]\n",
      " ...\n",
      " [ 1.  0. 33. ...  0.  1.  5.]\n",
      " [ 1.  0. 27. ...  0.  4.  5.]\n",
      " [ 0.  1. 37. ...  1.  3.  3.]]\n",
      "[3 0 1 ... 3 1 1]\n"
     ]
    }
   ],
   "source": [
    "print(X)\n",
    "print(y)"
   ]
  },
  {
   "cell_type": "code",
   "execution_count": 204,
   "metadata": {
    "execution": {
     "iopub.execute_input": "2021-06-08T09:05:13.224431Z",
     "iopub.status.busy": "2021-06-08T09:05:13.223856Z",
     "iopub.status.idle": "2021-06-08T09:05:13.416432Z",
     "shell.execute_reply": "2021-06-08T09:05:13.416885Z",
     "shell.execute_reply.started": "2021-06-08T09:03:35.731730Z"
    },
    "papermill": {
     "duration": 0.25349,
     "end_time": "2021-06-08T09:05:13.417064",
     "exception": false,
     "start_time": "2021-06-08T09:05:13.163574",
     "status": "completed"
    },
    "tags": []
   },
   "outputs": [],
   "source": [
    "from sklearn.model_selection import train_test_split"
   ]
  },
  {
   "cell_type": "code",
   "execution_count": 205,
   "metadata": {
    "execution": {
     "iopub.execute_input": "2021-06-08T09:05:13.533974Z",
     "iopub.status.busy": "2021-06-08T09:05:13.533387Z",
     "iopub.status.idle": "2021-06-08T09:05:13.538219Z",
     "shell.execute_reply": "2021-06-08T09:05:13.538614Z",
     "shell.execute_reply.started": "2021-06-08T09:03:35.741482Z"
    },
    "papermill": {
     "duration": 0.064689,
     "end_time": "2021-06-08T09:05:13.538800",
     "exception": false,
     "start_time": "2021-06-08T09:05:13.474111",
     "status": "completed"
    },
    "tags": []
   },
   "outputs": [],
   "source": [
    "X_train, X_test, y_train, y_test = train_test_split(X, y, test_size=0.25, random_state=2)"
   ]
  },
  {
   "cell_type": "code",
   "execution_count": 206,
   "metadata": {
    "execution": {
     "iopub.execute_input": "2021-06-08T09:05:13.654208Z",
     "iopub.status.busy": "2021-06-08T09:05:13.653626Z",
     "iopub.status.idle": "2021-06-08T09:05:13.658285Z",
     "shell.execute_reply": "2021-06-08T09:05:13.658716Z",
     "shell.execute_reply.started": "2021-06-08T09:03:35.752134Z"
    },
    "papermill": {
     "duration": 0.064067,
     "end_time": "2021-06-08T09:05:13.658878",
     "exception": false,
     "start_time": "2021-06-08T09:05:13.594811",
     "status": "completed"
    },
    "tags": []
   },
   "outputs": [
    {
     "data": {
      "text/plain": [
       "9"
      ]
     },
     "execution_count": 206,
     "metadata": {},
     "output_type": "execute_result"
    }
   ],
   "source": [
    "len(X_train[0])"
   ]
  },
  {
   "cell_type": "markdown",
   "metadata": {
    "papermill": {
     "duration": 0.055913,
     "end_time": "2021-06-08T09:05:13.771097",
     "exception": false,
     "start_time": "2021-06-08T09:05:13.715184",
     "status": "completed"
    },
    "tags": []
   },
   "source": [
    "## Training the Random Forest Classification model on Training Set"
   ]
  },
  {
   "cell_type": "code",
   "execution_count": 75,
   "metadata": {
    "execution": {
     "iopub.execute_input": "2021-06-08T09:05:13.891902Z",
     "iopub.status.busy": "2021-06-08T09:05:13.891258Z",
     "iopub.status.idle": "2021-06-08T09:05:14.817437Z",
     "shell.execute_reply": "2021-06-08T09:05:14.817873Z",
     "shell.execute_reply.started": "2021-06-08T09:03:35.763131Z"
    },
    "papermill": {
     "duration": 0.990913,
     "end_time": "2021-06-08T09:05:14.818051",
     "exception": false,
     "start_time": "2021-06-08T09:05:13.827138",
     "status": "completed"
    },
    "tags": []
   },
   "outputs": [
    {
     "data": {
      "text/plain": [
       "RandomForestClassifier()"
      ]
     },
     "execution_count": 75,
     "metadata": {},
     "output_type": "execute_result"
    }
   ],
   "source": [
    "from sklearn.ensemble import RandomForestClassifier\n",
    "classifier = RandomForestClassifier()\n",
    "classifier.fit(X_train, y_train)"
   ]
  },
  {
   "cell_type": "markdown",
   "metadata": {
    "papermill": {
     "duration": 0.057257,
     "end_time": "2021-06-08T09:05:14.932820",
     "exception": false,
     "start_time": "2021-06-08T09:05:14.875563",
     "status": "completed"
    },
    "tags": []
   },
   "source": [
    "## Predicting Test Set Result"
   ]
  },
  {
   "cell_type": "code",
   "execution_count": 76,
   "metadata": {
    "execution": {
     "iopub.execute_input": "2021-06-08T09:05:15.051041Z",
     "iopub.status.busy": "2021-06-08T09:05:15.050431Z",
     "iopub.status.idle": "2021-06-08T09:05:15.106223Z",
     "shell.execute_reply": "2021-06-08T09:05:15.105670Z",
     "shell.execute_reply.started": "2021-06-08T09:03:36.548129Z"
    },
    "papermill": {
     "duration": 0.115866,
     "end_time": "2021-06-08T09:05:15.106374",
     "exception": false,
     "start_time": "2021-06-08T09:05:14.990508",
     "status": "completed"
    },
    "tags": []
   },
   "outputs": [],
   "source": [
    "y_pred = classifier.predict(X_test)"
   ]
  },
  {
   "cell_type": "code",
   "execution_count": 253,
   "metadata": {
    "execution": {
     "iopub.execute_input": "2021-06-08T09:05:15.224038Z",
     "iopub.status.busy": "2021-06-08T09:05:15.223151Z",
     "iopub.status.idle": "2021-06-08T09:05:15.228883Z",
     "shell.execute_reply": "2021-06-08T09:05:15.228293Z",
     "shell.execute_reply.started": "2021-06-08T09:03:36.610783Z"
    },
    "papermill": {
     "duration": 0.064441,
     "end_time": "2021-06-08T09:05:15.229018",
     "exception": false,
     "start_time": "2021-06-08T09:05:15.164577",
     "status": "completed"
    },
    "tags": []
   },
   "outputs": [
    {
     "name": "stdout",
     "output_type": "stream",
     "text": [
      "[[ 0.  1. 49. ...  0.  1.  2.]\n",
      " [ 0.  1. 45. ...  0.  4.  3.]\n",
      " [ 1.  1. 53. ...  1.  3.  5.]\n",
      " ...\n",
      " [ 0.  1. 39. ...  1.  2.  5.]\n",
      " [ 0.  1. 41. ...  1.  4.  5.]\n",
      " [ 1.  1. 42. ...  1.  3.  5.]]\n"
     ]
    }
   ],
   "source": [
    "print(X_test)"
   ]
  },
  {
   "cell_type": "markdown",
   "metadata": {
    "papermill": {
     "duration": 0.056637,
     "end_time": "2021-06-08T09:05:15.343111",
     "exception": false,
     "start_time": "2021-06-08T09:05:15.286474",
     "status": "completed"
    },
    "tags": []
   },
   "source": [
    "## Making Confusion Matrix"
   ]
  },
  {
   "cell_type": "code",
   "execution_count": 78,
   "metadata": {
    "execution": {
     "iopub.execute_input": "2021-06-08T09:05:15.464082Z",
     "iopub.status.busy": "2021-06-08T09:05:15.463241Z",
     "iopub.status.idle": "2021-06-08T09:05:15.473585Z",
     "shell.execute_reply": "2021-06-08T09:05:15.473187Z",
     "shell.execute_reply.started": "2021-06-08T09:03:36.618108Z"
    },
    "papermill": {
     "duration": 0.07289,
     "end_time": "2021-06-08T09:05:15.473726",
     "exception": false,
     "start_time": "2021-06-08T09:05:15.400836",
     "status": "completed"
    },
    "tags": []
   },
   "outputs": [
    {
     "name": "stdout",
     "output_type": "stream",
     "text": [
      "[[214 124  58 122]\n",
      " [126 156 122  53]\n",
      " [ 61 116 226  62]\n",
      " [ 99  53  29 396]]\n"
     ]
    },
    {
     "data": {
      "text/plain": [
       "0.4918195339613287"
      ]
     },
     "execution_count": 78,
     "metadata": {},
     "output_type": "execute_result"
    }
   ],
   "source": [
    "from sklearn.metrics import confusion_matrix, accuracy_score\n",
    "cm = confusion_matrix(y_test, y_pred)\n",
    "print(cm)\n",
    "accuracy_score(y_test, y_pred)"
   ]
  },
  {
   "cell_type": "code",
   "execution_count": 79,
   "metadata": {
    "execution": {
     "iopub.execute_input": "2021-06-08T09:05:15.592040Z",
     "iopub.status.busy": "2021-06-08T09:05:15.591439Z",
     "iopub.status.idle": "2021-06-08T09:05:15.594496Z",
     "shell.execute_reply": "2021-06-08T09:05:15.594088Z",
     "shell.execute_reply.started": "2021-06-08T09:03:36.638132Z"
    },
    "papermill": {
     "duration": 0.064167,
     "end_time": "2021-06-08T09:05:15.594623",
     "exception": false,
     "start_time": "2021-06-08T09:05:15.530456",
     "status": "completed"
    },
    "tags": []
   },
   "outputs": [],
   "source": [
    "\n",
    "from sklearn.linear_model import LogisticRegression\n",
    "from sklearn.svm import SVC\n",
    "from sklearn.neighbors import KNeighborsClassifier\n",
    "from sklearn.tree import DecisionTreeClassifier\n",
    "from sklearn.ensemble import RandomForestClassifier\n",
    "\n",
    "#metrics\n",
    "from sklearn.metrics import accuracy_score, classification_report"
   ]
  },
  {
   "cell_type": "code",
   "execution_count": 80,
   "metadata": {
    "execution": {
     "iopub.execute_input": "2021-06-08T09:05:15.711280Z",
     "iopub.status.busy": "2021-06-08T09:05:15.710385Z",
     "iopub.status.idle": "2021-06-08T09:05:15.714428Z",
     "shell.execute_reply": "2021-06-08T09:05:15.714855Z",
     "shell.execute_reply.started": "2021-06-08T09:03:36.645407Z"
    },
    "papermill": {
     "duration": 0.063924,
     "end_time": "2021-06-08T09:05:15.715033",
     "exception": false,
     "start_time": "2021-06-08T09:05:15.651109",
     "status": "completed"
    },
    "tags": []
   },
   "outputs": [],
   "source": [
    "#models\n",
    "log_clf = LogisticRegression(solver = 'liblinear')\n",
    "svc_clf = SVC()\n",
    "knn_clf = KNeighborsClassifier()\n",
    "dt_clf = DecisionTreeClassifier()\n",
    "rf_clf = RandomForestClassifier()\n",
    "#knn_clf.fit(X_train, y_train)"
   ]
  },
  {
   "cell_type": "code",
   "execution_count": 81,
   "metadata": {
    "execution": {
     "iopub.execute_input": "2021-06-08T09:05:15.831895Z",
     "iopub.status.busy": "2021-06-08T09:05:15.831006Z",
     "iopub.status.idle": "2021-06-08T09:05:20.167659Z",
     "shell.execute_reply": "2021-06-08T09:05:20.167093Z",
     "shell.execute_reply.started": "2021-06-08T09:03:36.661660Z"
    },
    "papermill": {
     "duration": 4.396342,
     "end_time": "2021-06-08T09:05:20.167826",
     "exception": false,
     "start_time": "2021-06-08T09:05:15.771484",
     "status": "completed"
    },
    "tags": []
   },
   "outputs": [
    {
     "name": "stdout",
     "output_type": "stream",
     "text": [
      "LogisticRegression   0.46851760039662865\n",
      "SVC   0.458601883986118\n",
      "KNeighborsClassifier   0.45314823996033715\n",
      "DecisionTreeClassifier   0.4392662369856222\n",
      "RandomForestClassifier   0.49082796232027764\n"
     ]
    }
   ],
   "source": [
    "# first check the accuracy score on without scalled features\n",
    "for clf in [log_clf, svc_clf, knn_clf, dt_clf, rf_clf]:\n",
    "    clf.fit(X_train, y_train)\n",
    "    \n",
    "    pred = clf.predict(X_test)\n",
    "    \n",
    "    print(clf.__class__.__name__, \" \", accuracy_score(y_test,pred))"
   ]
  },
  {
   "cell_type": "code",
   "execution_count": 83,
   "metadata": {
    "execution": {
     "iopub.execute_input": "2021-06-08T09:05:20.306199Z",
     "iopub.status.busy": "2021-06-08T09:05:20.304086Z",
     "iopub.status.idle": "2021-06-08T09:05:21.730085Z",
     "shell.execute_reply": "2021-06-08T09:05:21.730820Z",
     "shell.execute_reply.started": "2021-06-08T09:03:46.168873Z"
    },
    "papermill": {
     "duration": 1.489485,
     "end_time": "2021-06-08T09:05:21.731005",
     "exception": false,
     "start_time": "2021-06-08T09:05:20.241520",
     "status": "completed"
    },
    "tags": []
   },
   "outputs": [
    {
     "name": "stdout",
     "output_type": "stream",
     "text": [
      "accuracy:  0.5438770451165097\n"
     ]
    }
   ],
   "source": [
    "from xgboost import XGBClassifier\n",
    "\n",
    "xgb = XGBClassifier(base_score=0.5, booster='gbtree', colsample_bylevel=1,\n",
    "              colsample_bynode=1, colsample_bytree=0.8, gamma=5,\n",
    "              learning_rate=0.3, max_delta_step=0, max_depth=4,\n",
    "              min_child_weight=5, missing=1, n_estimators=500, n_jobs=4,\n",
    "              nthread=None, objective='multi:softprob', eval_metric='mlogloss', use_label_encoder=False,\n",
    "              random_state=0,reg_alpha=0, reg_lambda=1, scale_pos_weight=None, seed=None,\n",
    "              silent=None, subsample=0.8, verbosity=None)\n",
    "\n",
    "xgb.fit(X_train, y_train)\n",
    "\n",
    "prediction = xgb.predict(X_test)\n",
    "\n",
    "print(\"accuracy: \",accuracy_score(y_test,prediction))"
   ]
  },
  {
   "cell_type": "markdown",
   "metadata": {
    "papermill": {
     "duration": 0.058004,
     "end_time": "2021-06-08T09:05:21.847910",
     "exception": false,
     "start_time": "2021-06-08T09:05:21.789906",
     "status": "completed"
    },
    "tags": []
   },
   "source": [
    "Thus, we get accuracy of 50.55% using XGBClassifier\n"
   ]
  },
  {
   "cell_type": "code",
   "execution_count": 84,
   "metadata": {
    "papermill": {
     "duration": 0.059317,
     "end_time": "2021-06-08T09:05:21.968053",
     "exception": false,
     "start_time": "2021-06-08T09:05:21.908736",
     "status": "completed"
    },
    "tags": []
   },
   "outputs": [
    {
     "data": {
      "text/plain": [
       "array([0.04437872, 0.16815127, 0.17591962, 0.11796008, 0.14572386,\n",
       "       0.04250482, 0.1834344 , 0.07159045, 0.05033674], dtype=float32)"
      ]
     },
     "execution_count": 84,
     "metadata": {},
     "output_type": "execute_result"
    }
   ],
   "source": [
    "xgb.feature_importances_"
   ]
  },
  {
   "cell_type": "code",
   "execution_count": 98,
   "metadata": {},
   "outputs": [],
   "source": [
    "from lightgbm import LGBMClassifier\n",
    "\n",
    "model = LGBMClassifier(    boosting_type='gbdt', \n",
    "                           max_depth=5, \n",
    "                           learning_rate=0.01, \n",
    "                           objective='multiclass', # Multi Class Classification\n",
    "                           n_estimators=1000,\n",
    "                           n_jobs=-1 )"
   ]
  },
  {
   "cell_type": "code",
   "execution_count": 99,
   "metadata": {},
   "outputs": [
    {
     "name": "stdout",
     "output_type": "stream",
     "text": [
      "[LightGBM] [Warning] Accuracy may be bad since you didn't explicitly set num_leaves OR 2^max_depth > num_leaves. (num_leaves=31).\n"
     ]
    }
   ],
   "source": [
    "Lgbm = model.fit(X_train, y_train)\n",
    "valid_accuracy = Lgbm.score(X_test, y_test)"
   ]
  },
  {
   "cell_type": "code",
   "execution_count": 100,
   "metadata": {},
   "outputs": [
    {
     "name": "stdout",
     "output_type": "stream",
     "text": [
      "0.5364402578086267\n",
      "LGBM Accuracy: 53.64%\n"
     ]
    }
   ],
   "source": [
    "accuracy = valid_accuracy\n",
    "print(accuracy)\n",
    "print(\"LGBM Accuracy: %.2f%%\" % (accuracy * 100.0))"
   ]
  },
  {
   "cell_type": "code",
   "execution_count": 298,
   "metadata": {},
   "outputs": [],
   "source": [
    "class Customer:\n",
    "    #初始化客户信息\n",
    "    def init(self, gender,marriage,age,graduation,profession,work,spending,family,var_1,segmentation):\n",
    "        self.Gender=gender\n",
    "        self.Ever_Married=marriage\n",
    "        self.Age=age\n",
    "        self.Graduated=graduation\n",
    "        self.Profession=profession\n",
    "        self.Work_Experience=work\n",
    "        self.Spending_Score=spending\n",
    "        self.Family_Size=family\n",
    "        self.Var_1=var_1\n",
    "        self.Segmentation=segmentation\n",
    "        if not isinstance(profession, str): raise TypeError('需要输入字符型')\n",
    "        if not isinstance(spending, str): raise TypeError('请在low,average,high中选择')\n",
    "        if not isinstance(age,int): raise TypeError('年龄为整数型')\n",
    "        if not isinstance(work,int): raise TypeError('工作经验为整数型')\n",
    "        if not isinstance(family,int): raise TypeError('工作经验为整数型')\n",
    "        if marriage not in ['Yes','No']:raise ValueError('请输入Yes or No')\n",
    "        if graduation not in ['Yes','No']:raise ValueError('请输入Yes or No')\n",
    "        if age < 15 or age > 100: raise ValueError('are you kidding')\n",
    "    #打印客户信息\n",
    "    def printinfo(self):\n",
    "        print(\"Hello, world!\\n Gender: {}.\\n Ever_Married: {}.\\n Age: {}.\\n Graduated:{}.\\n Profession:{}.\\n Work_Experience:{}.\\n Spending_Score:{}.\\n Family_Size:{}.\\n Var_1:{}.\\n Segmentation:{}\".format(self.Gender,self.Ever_Married,self.Age,self.Graduated,self.Profession,self.Work_Experience,self.Spending_Score,self.Family_Size,self.Var_1,self.Segmentation) )\n",
    "    #随机森林\n",
    "    def rf_pre(self,xtrain,ytrain):\n",
    "        customer_list=[]\n",
    "        ll=[self.Gender,self.Ever_Married,self.Age,self.Graduated,self.Profession,self.Work_Experience,self.Spending_Score,self.Family_Size,self.Var_1]\n",
    "        for i in ll:\n",
    "            if i in ['No','Male','Artist','Cat_1','Low']:customer_list.append(0)\n",
    "            elif i in ['Yes','Female','Healthcare','Cat_2','Average']:customer_list.append(1)\n",
    "            elif i in ['Cat_3','High','Entertainment']:customer_list.append(2)\n",
    "            elif i in ['Cat_4','Engineer']:customer_list.append(3)\n",
    "            elif i in ['Cat_5','Doctor']:customer_list.append(4)\n",
    "            elif i in ['Cat_6','Lawyer']:customer_list.append(5)\n",
    "            elif i =='Marketing':customer_list.append(7)\n",
    "            elif i =='Homemaker':customer_list.append(8)\n",
    "            else:customer_list.append(i)\n",
    "        #对原始客户信息数据进行处理\n",
    "        model=RandomForestClassifier()\n",
    "        model.fit(xtrain,ytrain)\n",
    "        pred=model.predict((np.array(customer_list)).reshape(1,-1))\n",
    "        if pred[0]==0:ec='A'\n",
    "        elif pred[0]==1:ec='B'\n",
    "        elif pred[0]==2:ec='C'\n",
    "        elif pred[0]==3:ec='D'\n",
    "        print('真实值:{}  预测值:{}'.format(self.Segmentation,ec))\n",
    "        return(self.Segmentation==ec)\n",
    "    \n",
    "    #xgb\n",
    "    def xgb_pre(self,xtrain,ytrain):\n",
    "        customer_list=[]\n",
    "        ll=[self.Gender,self.Ever_Married,self.Age,self.Graduated,self.Profession,self.Work_Experience,self.Spending_Score,self.Family_Size,self.Var_1]\n",
    "        for i in ll:\n",
    "            if i in ['No','Male','Artist','Cat_1','Low']:customer_list.append(0)\n",
    "            elif i in ['Yes','Female','Healthcare','Cat_2','Average']:customer_list.append(1)\n",
    "            elif i in ['Cat_3','High','Entertainment']:customer_list.append(2)\n",
    "            elif i in ['Cat_4','Engineer']:customer_list.append(3)\n",
    "            elif i in ['Cat_5','Doctor']:customer_list.append(4)\n",
    "            elif i in ['Cat_6','Lawyer']:customer_list.append(5)\n",
    "            elif i =='Marketing':customer_list.append(7)\n",
    "            elif i =='Homemaker':customer_list.append(8)\n",
    "            else:customer_list.append(i)\n",
    "        #print(ll)\n",
    "        model=XGBClassifier(base_score=0.5, booster='gbtree', colsample_bylevel=1,\n",
    "              colsample_bynode=1, colsample_bytree=0.8, gamma=5,\n",
    "              learning_rate=0.3, max_delta_step=0, max_depth=4,\n",
    "              min_child_weight=5, missing=1, n_estimators=500, n_jobs=4,\n",
    "              nthread=None, objective='multi:softprob', eval_metric='mlogloss', use_label_encoder=False,\n",
    "              random_state=0,reg_alpha=0, reg_lambda=1, scale_pos_weight=None, seed=None,\n",
    "              silent=None, subsample=0.8, verbosity=None)\n",
    "        model.fit(xtrain,ytrain)\n",
    "        pred=model.predict((np.array(customer_list)).reshape(1,-1))\n",
    "        if pred[0]==0:ec='A'\n",
    "        elif pred[0]==1:ec='B'\n",
    "        elif pred[0]==2:ec='C'\n",
    "        elif pred[0]==3:ec='D'\n",
    "        print('真实值:{}  预测值:{}'.format(self.Segmentation,ec))\n",
    "        return(self.Segmentation==ec)\n",
    "\n",
    "    #lgb\n",
    "    def lgb_pre(self,xtrain,ytrain):\n",
    "        customer_list=[]\n",
    "        ll=[self.Gender,self.Ever_Married,self.Age,self.Graduated,self.Profession,self.Work_Experience,self.Spending_Score,self.Family_Size,self.Var_1]\n",
    "        for i in ll:\n",
    "            if i in ['No','Male','Artist','Cat_1','Low']:customer_list.append(0)\n",
    "            elif i in ['Yes','Female','Healthcare','Cat_2','Average']:customer_list.append(1)\n",
    "            elif i in ['Cat_3','High','Entertainment']:customer_list.append(2)\n",
    "            elif i in ['Cat_4','Engineer']:customer_list.append(3)\n",
    "            elif i in ['Cat_5','Doctor']:customer_list.append(4)\n",
    "            elif i in ['Cat_6','Lawyer']:customer_list.append(5)\n",
    "            elif i =='Marketing':customer_list.append(7)\n",
    "            elif i =='Homemaker':customer_list.append(8)\n",
    "            else:customer_list.append(i)\n",
    "        model= LGBMClassifier(\n",
    "                                   boosting_type='gbdt', \n",
    "                                   max_depth=15, \n",
    "                                   learning_rate=0.1, \n",
    "                                   objective='multiclass', # Multi Class Classification\n",
    "                                   random_state=100,  \n",
    "                                   n_estimators=1000 ,\n",
    "                                   reg_alpha=0, \n",
    "                                   reg_lambda=1, \n",
    "                                   n_jobs=-1)\n",
    "        model.fit(xtrain,ytrain)\n",
    "        pred=model.predict((np.array(customer_list)).reshape(1,-1))\n",
    "        if pred[0]==0:ec='A'\n",
    "        elif pred[0]==1:ec='B'\n",
    "        elif pred[0]==2:ec='C'\n",
    "        elif pred[0]==3:ec='D'\n",
    "        print('真实值:{}  预测值:{}'.format(self.Segmentation,ec))\n",
    "        return(self.Segmentation==ec)"
   ]
  },
  {
   "cell_type": "code",
   "execution_count": 286,
   "metadata": {},
   "outputs": [],
   "source": [
    "test= pd.read_csv('Test.csv')\n",
    "sub = pd.read_csv('sample_submission.csv')"
   ]
  },
  {
   "cell_type": "code",
   "execution_count": 299,
   "metadata": {},
   "outputs": [],
   "source": [
    "jone=Customer()\n",
    "gender,marriage,age,graduation,profession,work,spending,family,var_1,segmentation=test.iloc[0,1],test.iloc[0,2],int(test.iloc[0,3]),test.iloc[0,4],test.iloc[0,5],int(test.iloc[0,6]),test.iloc[0,7],int(test.iloc[0,8]),test.iloc[0,9],sub.iloc[0,1]\n",
    "jone.init(gender,marriage,age,graduation,profession,work,spending,family,var_1,segmentation)\n"
   ]
  },
  {
   "cell_type": "code",
   "execution_count": 288,
   "metadata": {},
   "outputs": [
    {
     "name": "stdout",
     "output_type": "stream",
     "text": [
      "Hello, world!\n",
      " Gender: Female.\n",
      " Ever_Married: Yes.\n",
      " Age: 36.\n",
      " Graduated:Yes.\n",
      " Profession:Engineer.\n",
      " Work_Experience:0.\n",
      " Spending_Score:Low.\n",
      " Family_Size:1.\n",
      " Var_1:Cat_6.\n",
      " Segmentation:A\n"
     ]
    }
   ],
   "source": [
    "jone.printinfo()"
   ]
  },
  {
   "cell_type": "code",
   "execution_count": 300,
   "metadata": {},
   "outputs": [
    {
     "name": "stdout",
     "output_type": "stream",
     "text": [
      "真实值:A  预测值:B\n"
     ]
    },
    {
     "data": {
      "text/plain": [
       "False"
      ]
     },
     "execution_count": 300,
     "metadata": {},
     "output_type": "execute_result"
    }
   ],
   "source": [
    "jone.rf_pre(X_train,y_train)"
   ]
  },
  {
   "cell_type": "code",
   "execution_count": 301,
   "metadata": {},
   "outputs": [
    {
     "name": "stdout",
     "output_type": "stream",
     "text": [
      "真实值:A  预测值:A\n"
     ]
    },
    {
     "data": {
      "text/plain": [
       "True"
      ]
     },
     "execution_count": 301,
     "metadata": {},
     "output_type": "execute_result"
    }
   ],
   "source": [
    "jone.xgb_pre(X_train,y_train)"
   ]
  },
  {
   "cell_type": "code",
   "execution_count": 291,
   "metadata": {},
   "outputs": [
    {
     "name": "stdout",
     "output_type": "stream",
     "text": [
      "[LightGBM] [Warning] Accuracy may be bad since you didn't explicitly set num_leaves OR 2^max_depth > num_leaves. (num_leaves=31).\n",
      "真实值:A  预测值:A\n"
     ]
    },
    {
     "data": {
      "text/plain": [
       "True"
      ]
     },
     "execution_count": 291,
     "metadata": {},
     "output_type": "execute_result"
    }
   ],
   "source": [
    "jone.lgb_pre(X_train,y_train)"
   ]
  },
  {
   "cell_type": "code",
   "execution_count": 258,
   "metadata": {},
   "outputs": [
    {
     "data": {
      "text/plain": [
       "array([[1, 2, 3]])"
      ]
     },
     "execution_count": 258,
     "metadata": {},
     "output_type": "execute_result"
    }
   ],
   "source": [
    "l=[1,2,3]\n",
    "lll=np.array(l)\n",
    "lll.reshape(1,-1)"
   ]
  },
  {
   "cell_type": "code",
   "execution_count": 302,
   "metadata": {},
   "outputs": [
    {
     "ename": "TypeError",
     "evalue": "年龄为整数型",
     "output_type": "error",
     "traceback": [
      "\u001b[0;31m---------------------------------------------------------------------------\u001b[0m",
      "\u001b[0;31mTypeError\u001b[0m                                 Traceback (most recent call last)",
      "\u001b[0;32m<ipython-input-302-4703328abb34>\u001b[0m in \u001b[0;36m<module>\u001b[0;34m\u001b[0m\n\u001b[1;32m      1\u001b[0m \u001b[0mjone\u001b[0m\u001b[0;34m=\u001b[0m\u001b[0mCustomer\u001b[0m\u001b[0;34m(\u001b[0m\u001b[0;34m)\u001b[0m\u001b[0;34m\u001b[0m\u001b[0;34m\u001b[0m\u001b[0m\n\u001b[1;32m      2\u001b[0m \u001b[0mgender\u001b[0m\u001b[0;34m,\u001b[0m\u001b[0mmarriage\u001b[0m\u001b[0;34m,\u001b[0m\u001b[0mage\u001b[0m\u001b[0;34m,\u001b[0m\u001b[0mgraduation\u001b[0m\u001b[0;34m,\u001b[0m\u001b[0mprofession\u001b[0m\u001b[0;34m,\u001b[0m\u001b[0mwork\u001b[0m\u001b[0;34m,\u001b[0m\u001b[0mspending\u001b[0m\u001b[0;34m,\u001b[0m\u001b[0mfamily\u001b[0m\u001b[0;34m,\u001b[0m\u001b[0mvar_1\u001b[0m\u001b[0;34m,\u001b[0m\u001b[0msegmentation\u001b[0m\u001b[0;34m=\u001b[0m\u001b[0mtest\u001b[0m\u001b[0;34m.\u001b[0m\u001b[0miloc\u001b[0m\u001b[0;34m[\u001b[0m\u001b[0;36m0\u001b[0m\u001b[0;34m,\u001b[0m\u001b[0;36m1\u001b[0m\u001b[0;34m]\u001b[0m\u001b[0;34m,\u001b[0m\u001b[0mtest\u001b[0m\u001b[0;34m.\u001b[0m\u001b[0miloc\u001b[0m\u001b[0;34m[\u001b[0m\u001b[0;36m0\u001b[0m\u001b[0;34m,\u001b[0m\u001b[0;36m2\u001b[0m\u001b[0;34m]\u001b[0m\u001b[0;34m,\u001b[0m\u001b[0mtest\u001b[0m\u001b[0;34m.\u001b[0m\u001b[0miloc\u001b[0m\u001b[0;34m[\u001b[0m\u001b[0;36m0\u001b[0m\u001b[0;34m,\u001b[0m\u001b[0;36m3\u001b[0m\u001b[0;34m]\u001b[0m\u001b[0;34m,\u001b[0m\u001b[0mtest\u001b[0m\u001b[0;34m.\u001b[0m\u001b[0miloc\u001b[0m\u001b[0;34m[\u001b[0m\u001b[0;36m0\u001b[0m\u001b[0;34m,\u001b[0m\u001b[0;36m4\u001b[0m\u001b[0;34m]\u001b[0m\u001b[0;34m,\u001b[0m\u001b[0mtest\u001b[0m\u001b[0;34m.\u001b[0m\u001b[0miloc\u001b[0m\u001b[0;34m[\u001b[0m\u001b[0;36m0\u001b[0m\u001b[0;34m,\u001b[0m\u001b[0;36m5\u001b[0m\u001b[0;34m]\u001b[0m\u001b[0;34m,\u001b[0m\u001b[0mint\u001b[0m\u001b[0;34m(\u001b[0m\u001b[0mtest\u001b[0m\u001b[0;34m.\u001b[0m\u001b[0miloc\u001b[0m\u001b[0;34m[\u001b[0m\u001b[0;36m0\u001b[0m\u001b[0;34m,\u001b[0m\u001b[0;36m6\u001b[0m\u001b[0;34m]\u001b[0m\u001b[0;34m)\u001b[0m\u001b[0;34m,\u001b[0m\u001b[0mtest\u001b[0m\u001b[0;34m.\u001b[0m\u001b[0miloc\u001b[0m\u001b[0;34m[\u001b[0m\u001b[0;36m0\u001b[0m\u001b[0;34m,\u001b[0m\u001b[0;36m7\u001b[0m\u001b[0;34m]\u001b[0m\u001b[0;34m,\u001b[0m\u001b[0mint\u001b[0m\u001b[0;34m(\u001b[0m\u001b[0mtest\u001b[0m\u001b[0;34m.\u001b[0m\u001b[0miloc\u001b[0m\u001b[0;34m[\u001b[0m\u001b[0;36m0\u001b[0m\u001b[0;34m,\u001b[0m\u001b[0;36m8\u001b[0m\u001b[0;34m]\u001b[0m\u001b[0;34m)\u001b[0m\u001b[0;34m,\u001b[0m\u001b[0mtest\u001b[0m\u001b[0;34m.\u001b[0m\u001b[0miloc\u001b[0m\u001b[0;34m[\u001b[0m\u001b[0;36m0\u001b[0m\u001b[0;34m,\u001b[0m\u001b[0;36m9\u001b[0m\u001b[0;34m]\u001b[0m\u001b[0;34m,\u001b[0m\u001b[0msub\u001b[0m\u001b[0;34m.\u001b[0m\u001b[0miloc\u001b[0m\u001b[0;34m[\u001b[0m\u001b[0;36m0\u001b[0m\u001b[0;34m,\u001b[0m\u001b[0;36m1\u001b[0m\u001b[0;34m]\u001b[0m\u001b[0;34m\u001b[0m\u001b[0;34m\u001b[0m\u001b[0m\n\u001b[0;32m----> 3\u001b[0;31m \u001b[0mjone\u001b[0m\u001b[0;34m.\u001b[0m\u001b[0minit\u001b[0m\u001b[0;34m(\u001b[0m\u001b[0mgender\u001b[0m\u001b[0;34m,\u001b[0m\u001b[0mmarriage\u001b[0m\u001b[0;34m,\u001b[0m\u001b[0mage\u001b[0m\u001b[0;34m,\u001b[0m\u001b[0mgraduation\u001b[0m\u001b[0;34m,\u001b[0m\u001b[0mprofession\u001b[0m\u001b[0;34m,\u001b[0m\u001b[0mwork\u001b[0m\u001b[0;34m,\u001b[0m\u001b[0mspending\u001b[0m\u001b[0;34m,\u001b[0m\u001b[0mfamily\u001b[0m\u001b[0;34m,\u001b[0m\u001b[0mvar_1\u001b[0m\u001b[0;34m,\u001b[0m\u001b[0msegmentation\u001b[0m\u001b[0;34m)\u001b[0m\u001b[0;34m\u001b[0m\u001b[0;34m\u001b[0m\u001b[0m\n\u001b[0m",
      "\u001b[0;32m<ipython-input-298-23702fc87243>\u001b[0m in \u001b[0;36minit\u001b[0;34m(self, gender, marriage, age, graduation, profession, work, spending, family, var_1, segmentation)\u001b[0m\n\u001b[1;32m     13\u001b[0m         \u001b[0;32mif\u001b[0m \u001b[0;32mnot\u001b[0m \u001b[0misinstance\u001b[0m\u001b[0;34m(\u001b[0m\u001b[0mprofession\u001b[0m\u001b[0;34m,\u001b[0m \u001b[0mstr\u001b[0m\u001b[0;34m)\u001b[0m\u001b[0;34m:\u001b[0m \u001b[0;32mraise\u001b[0m \u001b[0mTypeError\u001b[0m\u001b[0;34m(\u001b[0m\u001b[0;34m'需要输入字符型'\u001b[0m\u001b[0;34m)\u001b[0m\u001b[0;34m\u001b[0m\u001b[0;34m\u001b[0m\u001b[0m\n\u001b[1;32m     14\u001b[0m         \u001b[0;32mif\u001b[0m \u001b[0;32mnot\u001b[0m \u001b[0misinstance\u001b[0m\u001b[0;34m(\u001b[0m\u001b[0mspending\u001b[0m\u001b[0;34m,\u001b[0m \u001b[0mstr\u001b[0m\u001b[0;34m)\u001b[0m\u001b[0;34m:\u001b[0m \u001b[0;32mraise\u001b[0m \u001b[0mTypeError\u001b[0m\u001b[0;34m(\u001b[0m\u001b[0;34m'请在low,average,high中选择'\u001b[0m\u001b[0;34m)\u001b[0m\u001b[0;34m\u001b[0m\u001b[0;34m\u001b[0m\u001b[0m\n\u001b[0;32m---> 15\u001b[0;31m         \u001b[0;32mif\u001b[0m \u001b[0;32mnot\u001b[0m \u001b[0misinstance\u001b[0m\u001b[0;34m(\u001b[0m\u001b[0mage\u001b[0m\u001b[0;34m,\u001b[0m\u001b[0mint\u001b[0m\u001b[0;34m)\u001b[0m\u001b[0;34m:\u001b[0m \u001b[0;32mraise\u001b[0m \u001b[0mTypeError\u001b[0m\u001b[0;34m(\u001b[0m\u001b[0;34m'年龄为整数型'\u001b[0m\u001b[0;34m)\u001b[0m\u001b[0;34m\u001b[0m\u001b[0;34m\u001b[0m\u001b[0m\n\u001b[0m\u001b[1;32m     16\u001b[0m         \u001b[0;32mif\u001b[0m \u001b[0;32mnot\u001b[0m \u001b[0misinstance\u001b[0m\u001b[0;34m(\u001b[0m\u001b[0mwork\u001b[0m\u001b[0;34m,\u001b[0m\u001b[0mint\u001b[0m\u001b[0;34m)\u001b[0m\u001b[0;34m:\u001b[0m \u001b[0;32mraise\u001b[0m \u001b[0mTypeError\u001b[0m\u001b[0;34m(\u001b[0m\u001b[0;34m'工作经验为整数型'\u001b[0m\u001b[0;34m)\u001b[0m\u001b[0;34m\u001b[0m\u001b[0;34m\u001b[0m\u001b[0m\n\u001b[1;32m     17\u001b[0m         \u001b[0;32mif\u001b[0m \u001b[0;32mnot\u001b[0m \u001b[0misinstance\u001b[0m\u001b[0;34m(\u001b[0m\u001b[0mfamily\u001b[0m\u001b[0;34m,\u001b[0m\u001b[0mint\u001b[0m\u001b[0;34m)\u001b[0m\u001b[0;34m:\u001b[0m \u001b[0;32mraise\u001b[0m \u001b[0mTypeError\u001b[0m\u001b[0;34m(\u001b[0m\u001b[0;34m'工作经验为整数型'\u001b[0m\u001b[0;34m)\u001b[0m\u001b[0;34m\u001b[0m\u001b[0;34m\u001b[0m\u001b[0m\n",
      "\u001b[0;31mTypeError\u001b[0m: 年龄为整数型"
     ]
    }
   ],
   "source": [
    "jone=Customer()\n",
    "gender,marriage,age,graduation,profession,work,spending,family,var_1,segmentation=test.iloc[0,1],test.iloc[0,2],test.iloc[0,3],test.iloc[0,4],test.iloc[0,5],int(test.iloc[0,6]),test.iloc[0,7],int(test.iloc[0,8]),test.iloc[0,9],sub.iloc[0,1]\n",
    "jone.init(gender,marriage,age,graduation,profession,work,spending,family,var_1,segmentation)\n"
   ]
  },
  {
   "cell_type": "code",
   "execution_count": null,
   "metadata": {},
   "outputs": [],
   "source": []
  }
 ],
 "metadata": {
  "kernelspec": {
   "display_name": "Python 3",
   "language": "python",
   "name": "python3"
  },
  "language_info": {
   "codemirror_mode": {
    "name": "ipython",
    "version": 3
   },
   "file_extension": ".py",
   "mimetype": "text/x-python",
   "name": "python",
   "nbconvert_exporter": "python",
   "pygments_lexer": "ipython3",
   "version": "3.8.5"
  },
  "papermill": {
   "default_parameters": {},
   "duration": 25.672354,
   "end_time": "2021-06-08T09:05:22.737365",
   "environment_variables": {},
   "exception": null,
   "input_path": "__notebook__.ipynb",
   "output_path": "__notebook__.ipynb",
   "parameters": {},
   "start_time": "2021-06-08T09:04:57.065011",
   "version": "2.3.3"
  }
 },
 "nbformat": 4,
 "nbformat_minor": 5
}
